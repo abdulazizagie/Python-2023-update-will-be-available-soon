{
 "cells": [
  {
   "attachments": {},
   "cell_type": "markdown",
   "metadata": {},
   "source": [
    "### Day-3 Module and pip in python!\n",
    "- Module is lile a code library which can be used to borrow the code written by somebody else in our python program.\n",
    "1. There are two types of modules in python:\n",
    "2. Exernal Module - These module are imported from a thrid party file or can be installed using a package manger like pip or conda. Since this code is written by someone else,we can install different versions of a same module with time. "
   ]
  },
  {
   "attachments": {},
   "cell_type": "markdown",
   "metadata": {},
   "source": [
    "## The pip command\n",
    "\n",
    "- It can be used as a package manger pip to install a python module . lets install a module called pandas the following command\n",
    "\n"
   ]
  },
  {
   "attachments": {},
   "cell_type": "markdown",
   "metadata": {},
   "source": [
    "pip install pandas"
   ]
  },
  {
   "attachments": {},
   "cell_type": "markdown",
   "metadata": {},
   "source": [
    "### Using a module in python(Usage)\n",
    "- we use the import sytax to import a module in python . Here is an example code:"
   ]
  },
  {
   "cell_type": "code",
   "execution_count": null,
   "metadata": {},
   "outputs": [],
   "source": [
    "import pandas\n",
    "\n",
    "# Read and worke with a file named 'words.csv'\n",
    "pandas.read_csv('words.csv')"
   ]
  },
  {
   "cell_type": "markdown",
   "metadata": {},
   "source": [
    "Similarly we can install other modules and look into their documentations for usage instructions.\n",
    "We will find ourselved doing this often in the later part of this course"
   ]
  }
 ],
 "metadata": {
  "kernelspec": {
   "display_name": "Python 3",
   "language": "python",
   "name": "python3"
  },
  "language_info": {
   "codemirror_mode": {
    "name": "ipython",
    "version": 3
   },
   "file_extension": ".py",
   "mimetype": "text/x-python",
   "name": "python",
   "nbconvert_exporter": "python",
   "pygments_lexer": "ipython3",
   "version": "3.11.4"
  },
  "orig_nbformat": 4
 },
 "nbformat": 4,
 "nbformat_minor": 2
}
