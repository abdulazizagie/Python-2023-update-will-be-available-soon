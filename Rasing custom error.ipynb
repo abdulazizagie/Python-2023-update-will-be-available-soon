{
 "cells": [
  {
   "cell_type": "markdown",
   "metadata": {},
   "source": [
    "### Raising Custom errors\n",
    "\n",
    "In python , we can reise custom error by using the raise keyword.\n",
    "\n",
    "```python\n",
    "salary = int(input(\"Enter salary amount:\"))\n",
    "if not 2000 < salary  <5000:\n",
    "    raise ValueError(\"Not a valid salary\")\n",
    "```\n",
    "\n",
    "In the previous tutorial , we learned abouut different built-in exceptions in python and why it is important to handle exception.However,somtimes we may need to create our own custom exception that serve our purpose.\n",
    "\n",
    "### Defining Custom Exceptions\n",
    "\n",
    "In python , we can define custom exception by creating a new class that is derived from the built-in Exception class.\n",
    "\n",
    "Here's the syntax to define custom exceptions:\n",
    "```python\n",
    "class CustomError(Exception):\n",
    "    # code ....\n",
    "     pass\n",
    "try:\n",
    "    # code ....\n",
    "except CustomError:\n",
    "    # code ....\n",
    "```\n",
    "\n",
    "This is useful because sometimes we might want to do sometime when a particular exception is raised.For example,sending an error report to the admin , calling  an api ,ect."
   ]
  },
  {
   "cell_type": "code",
   "execution_count": 8,
   "metadata": {},
   "outputs": [],
   "source": [
    "a = int(input(\"Enter any value between 5 and 9\"))\n",
    "\n",
    "if(a < 5 or a > 9):\n",
    "    raise ValueError(\"value shoukd be between 5 and 9\")"
   ]
  },
  {
   "cell_type": "code",
   "execution_count": 9,
   "metadata": {},
   "outputs": [
    {
     "ename": "ValueError",
     "evalue": "value shoukd be between 5 and 9",
     "output_type": "error",
     "traceback": [
      "\u001b[1;31m---------------------------------------------------------------------------\u001b[0m",
      "\u001b[1;31mValueError\u001b[0m                                Traceback (most recent call last)",
      "Cell \u001b[1;32mIn[9], line 4\u001b[0m\n\u001b[0;32m      1\u001b[0m a \u001b[39m=\u001b[39m \u001b[39minput\u001b[39m(\u001b[39m\"\u001b[39m\u001b[39mEnter the number :\u001b[39m\u001b[39m\"\u001b[39m)\n\u001b[0;32m      3\u001b[0m \u001b[39mif\u001b[39;00m(a \u001b[39m==\u001b[39m \u001b[39m'\u001b[39m\u001b[39mquit\u001b[39m\u001b[39m'\u001b[39m):\n\u001b[1;32m----> 4\u001b[0m     \u001b[39mraise\u001b[39;00m \u001b[39mValueError\u001b[39;00m(\u001b[39m\"\u001b[39m\u001b[39mvalue shoukd be between 5 and 9\u001b[39m\u001b[39m\"\u001b[39m)\n",
      "\u001b[1;31mValueError\u001b[0m: value shoukd be between 5 and 9"
     ]
    }
   ],
   "source": [
    "a = input(\"Enter the number :\")\n",
    "\n",
    "if(a == 'quit'):\n",
    "    raise ValueError(\"value shoukd be between 5 and 9\")"
   ]
  },
  {
   "cell_type": "code",
   "execution_count": null,
   "metadata": {},
   "outputs": [],
   "source": []
  }
 ],
 "metadata": {
  "kernelspec": {
   "display_name": "Python 3",
   "language": "python",
   "name": "python3"
  },
  "language_info": {
   "codemirror_mode": {
    "name": "ipython",
    "version": 3
   },
   "file_extension": ".py",
   "mimetype": "text/x-python",
   "name": "python",
   "nbconvert_exporter": "python",
   "pygments_lexer": "ipython3",
   "version": "3.11.4"
  },
  "orig_nbformat": 4
 },
 "nbformat": 4,
 "nbformat_minor": 2
}
