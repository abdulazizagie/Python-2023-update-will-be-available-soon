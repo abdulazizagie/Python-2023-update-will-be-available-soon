{
 "cells": [
  {
   "attachments": {},
   "cell_type": "markdown",
   "metadata": {},
   "source": [
    "### if-else Statments\n",
    "\n",
    "Sometime the programer needs to check the evaluation of certain expression(s),where the expression(s) evaluate to True or False .if the expression evalutes to False,them the program ecection follows a differents path than it would have if the expression had evaluated to True.\n",
    "\n",
    "\n",
    "Based on thismthe condition statments aree further classified into follow types:\n",
    "- if\n",
    "- else\n",
    "- if-else-elif\n",
    "- nested if-else-elif\n",
    "  \n",
    "### A if......else statment evaluates like this:\n",
    "\n",
    "#### if the expression evaluates like this:\n",
    "\n",
    "if the expression evaluates True:\n",
    "\n",
    "Execute the block of code inside if the statment ,After exection return to the code out of the if....else block\n",
    "\n",
    "### Example:"
   ]
  },
  {
   "cell_type": "code",
   "execution_count": 52,
   "metadata": {},
   "outputs": [
    {
     "name": "stdout",
     "output_type": "stream",
     "text": [
      "Alex , do not add apples to the cart.\n"
     ]
    }
   ],
   "source": [
    "applePricr = 210\n",
    "budget = 200\n",
    "if (applePricr <= budget):\n",
    "    print(\"Alexa ,add 1ky Apple to the cart.\")\n",
    "else:\n",
    "    print(\"Alex , do not add apples to the cart.\")"
   ]
  },
  {
   "cell_type": "code",
   "execution_count": 53,
   "metadata": {},
   "outputs": [
    {
     "name": "stdout",
     "output_type": "stream",
     "text": [
      "you can do at\n"
     ]
    }
   ],
   "source": [
    "applePrice = 1000\n",
    "budget = 2000\n",
    "if (budget - applePricr >50):\n",
    "    print(\"you can do at\")\n",
    "elif(budget- applePricr >70):\n",
    "    print(\"you can do at\")\n",
    "else:\n",
    "    print(\"sorr you can not do at\")"
   ]
  },
  {
   "cell_type": "code",
   "execution_count": 54,
   "metadata": {},
   "outputs": [
    {
     "name": "stdout",
     "output_type": "stream",
     "text": [
      "number is zero\n"
     ]
    }
   ],
   "source": [
    "num = 0\n",
    "\n",
    "if (num < 0):\n",
    "    print(\"Number is negative\")\n",
    "elif(num == 0):\n",
    "    print(\"number is zero\")\n",
    "elif(num ==999):\n",
    "    print(\"Number is 999\")\n",
    "else:\n",
    "    print(\"I am happy\")"
   ]
  },
  {
   "attachments": {},
   "cell_type": "markdown",
   "metadata": {},
   "source": [
    "### Nested if statments\n",
    "\n",
    "we can use if ,if-else statment inside other if statment as well..\n",
    "\n",
    "#### Example\""
   ]
  },
  {
   "cell_type": "code",
   "execution_count": 55,
   "metadata": {},
   "outputs": [
    {
     "name": "stdout",
     "output_type": "stream",
     "text": [
      "number is grater than 20\n"
     ]
    }
   ],
   "source": [
    "num = 18\n",
    "\n",
    "if (num < 0):\n",
    "    print(\"number is negative\")\n",
    "elif(num > 0):\n",
    "    if (num<=10):\n",
    "        print(\"number is between 1-10\")\n",
    "    elif(num > 10 and num<=20):\n",
    "        print(\"number is grater than 20\")\n",
    "    else:\n",
    "        print(\"number is grater then 20\")\n",
    "else:\n",
    "    print(\"number is zero\")"
   ]
  },
  {
   "attachments": {},
   "cell_type": "markdown",
   "metadata": {},
   "source": [
    "### small project"
   ]
  },
  {
   "cell_type": "code",
   "execution_count": 109,
   "metadata": {},
   "outputs": [
    {
     "name": "stdout",
     "output_type": "stream",
     "text": [
      "23:59 PM\n",
      "have a good day\n"
     ]
    }
   ],
   "source": [
    "import time\n",
    "\n",
    "istime = time.strftime(\"%H:%M %p\")\n",
    "print(istime)\n",
    "while(True):\n",
    "    if istime <= \"12:00 AM\":\n",
    "        print(\"good moring\")\n",
    "        break\n",
    "    elif istime <= \"17:00 PM\":\n",
    "        print(\"Good evening\")\n",
    "        break\n",
    "    elif istime <= \"21:00 PM\":\n",
    "        print(\"Good night\")\n",
    "    else :\n",
    "        print(\"have a good day\")\n",
    "        break\n",
    "    break"
   ]
  },
  {
   "cell_type": "code",
   "execution_count": 98,
   "metadata": {},
   "outputs": [
    {
     "name": "stdout",
     "output_type": "stream",
     "text": [
      "11:45 PM\n"
     ]
    }
   ],
   "source": [
    "p =time.strftime(\"%I:%M %p\")\n",
    "print(p)"
   ]
  },
  {
   "cell_type": "code",
   "execution_count": 3,
   "metadata": {},
   "outputs": [
    {
     "name": "stdout",
     "output_type": "stream",
     "text": [
      "Positive\n",
      "hy\n",
      "hy\n"
     ]
    }
   ],
   "source": [
    "# Define the lambda function with an if-else statement\n",
    "check_number = lambda x: \"Positive\" if x > 0 else \"hy\"\n",
    "\n",
    "# Test the lambda function\n",
    "print(check_number(10))  # Output: Positive\n",
    "print(check_number(-5))  # Output: Negative\n",
    "print(check_number(0))   # Output: Zero\n"
   ]
  },
  {
   "cell_type": "code",
   "execution_count": null,
   "metadata": {},
   "outputs": [],
   "source": []
  }
 ],
 "metadata": {
  "kernelspec": {
   "display_name": "Python 3",
   "language": "python",
   "name": "python3"
  },
  "language_info": {
   "codemirror_mode": {
    "name": "ipython",
    "version": 3
   },
   "file_extension": ".py",
   "mimetype": "text/x-python",
   "name": "python",
   "nbconvert_exporter": "python",
   "pygments_lexer": "ipython3",
   "version": "3.10.6"
  },
  "orig_nbformat": 4
 },
 "nbformat": 4,
 "nbformat_minor": 2
}
