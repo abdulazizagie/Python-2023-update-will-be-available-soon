{
 "cells": [
  {
   "attachments": {},
   "cell_type": "markdown",
   "metadata": {},
   "source": [
    "### Match Case Statments\n",
    "\n",
    "To implement switch-case like character very similar to if-else funcation,we use a match case in python . if you are coming from a C,C++ or java like language,you must have heard of switch- case statments. if this is your first language,dont worry as Iwill tell you everything you need in this video!\n",
    "\n",
    "A match statment will compare a given variable's value to different shape,also referred to as the pattern,the main idea is to keep on compering the variable with all the present until it fits into one.\n",
    "\n",
    "The match case consists of three main entities:\n",
    "1. The match keywords\n",
    "2. One or more case clause\n",
    "3. Expression for each case\n",
    "\n",
    "The cas claus consist of a pattern to be matched to the variable, a condition to be evaluated if the pattern matches,and set of statemnt to be ececuted if the pattern matches.\n",
    "\n",
    "### Syntax:\n",
    "\n",
    "> match variable_name:\n",
    "\n",
    ">       case 'patteern1\n",
    "\n",
    ">   //statment1:\n",
    "\n",
    ">          case \"pattern2\"\n",
    "\n",
    ">   //statment:\n",
    "\n",
    ">           case 'pattern3'"
   ]
  },
  {
   "attachments": {},
   "cell_type": "markdown",
   "metadata": {},
   "source": [
    "#### Example"
   ]
  },
  {
   "cell_type": "code",
   "execution_count": 3,
   "metadata": {},
   "outputs": [
    {
     "name": "stdout",
     "output_type": "stream",
     "text": [
      "x % 2 == 0 and case is 4\n"
     ]
    }
   ],
   "source": [
    "x = 4\n",
    "# x is the variable to match \n",
    "match x:\n",
    "    # if x is 0\n",
    "    case 0:\n",
    "        print(\"x is zero\")\n",
    "\n",
    "    # case with if-condition\n",
    "    case 4 if x & 2 ==0:\n",
    "        print(\"x % 2 == 0 and case is 4\")\n",
    "        \n",
    "    # Empty case with if-condition    \n",
    "    case _ if x <10:\n",
    "        print(\"x is <10\")\n",
    "        # default case(will only be matched if the aboue cases were not matched)\n",
    "        #so it is basically just an else:\n",
    "    case _:\n",
    "        print(x)"
   ]
  },
  {
   "attachments": {},
   "cell_type": "markdown",
   "metadata": {},
   "source": [
    "#### Example:"
   ]
  },
  {
   "cell_type": "code",
   "execution_count": 4,
   "metadata": {},
   "outputs": [
    {
     "name": "stdout",
     "output_type": "stream",
     "text": [
      "50 is not 90\n"
     ]
    }
   ],
   "source": [
    "x = int(input(\"Enter the value of x: \"))\n",
    "# x is the variable to match\n",
    "\n",
    "match x:\n",
    "    # if x is 0\n",
    "    case 0:\n",
    "        print(\"x is zero\")\n",
    "    \n",
    "    # case with if-condition\n",
    "    case 4:\n",
    "        print(\"case is 4\")\n",
    "        \n",
    "    case _ if x!=90:\n",
    "        print(x, \"is not 90\")\n",
    "        \n",
    "    case _ if x!=80:\n",
    "        print(x,\"is not 80\")\n",
    "    case _:\n",
    "        print(x)"
   ]
  },
  {
   "cell_type": "code",
   "execution_count": null,
   "metadata": {},
   "outputs": [],
   "source": []
  }
 ],
 "metadata": {
  "kernelspec": {
   "display_name": "Python 3",
   "language": "python",
   "name": "python3"
  },
  "language_info": {
   "codemirror_mode": {
    "name": "ipython",
    "version": 3
   },
   "file_extension": ".py",
   "mimetype": "text/x-python",
   "name": "python",
   "nbconvert_exporter": "python",
   "pygments_lexer": "ipython3",
   "version": "3.11.3"
  },
  "orig_nbformat": 4
 },
 "nbformat": 4,
 "nbformat_minor": 2
}
