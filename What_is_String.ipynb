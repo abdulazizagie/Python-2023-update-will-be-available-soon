{
 "cells": [
  {
   "attachments": {},
   "cell_type": "markdown",
   "metadata": {},
   "source": [
    "### What are String?\n",
    "\n",
    "In python, anything that you enclose between single or double quotation marks is considered a string,Astring is sequence or array of textual data. Sting are used when working with Unicode cheracters.\n",
    "#### Example:"
   ]
  },
  {
   "cell_type": "code",
   "execution_count": 2,
   "metadata": {},
   "outputs": [
    {
     "name": "stdout",
     "output_type": "stream",
     "text": [
      "Hello Aziz\n"
     ]
    }
   ],
   "source": [
    "name = \"Aziz\"\n",
    "print(\"Hello \" + name)"
   ]
  },
  {
   "attachments": {},
   "cell_type": "markdown",
   "metadata": {},
   "source": [
    "#### Note: It does not matter whather you enclose your sting in single or double quotes , the output remains the same.\n",
    "\n",
    "Somtimes the user might need to put quotation marks in between the strings.\n",
    "#### Example:\n",
    "- Consider the sentence : He said, \"I want to eat an apple\".\n",
    "\n",
    "How will you print this statment in python?\n",
    "> He said ,\"Iwan to eat an apple\".\n",
    "\n",
    "We will definitely use single quotes for our convenience\n",
    "\n",
    "> Print(\"He said, \"I want to eat an apple)"
   ]
  },
  {
   "attachments": {},
   "cell_type": "markdown",
   "metadata": {},
   "source": [
    "### Multiline Strings\n",
    "\n",
    "if our string has multiple lines, we can create them like this:\n"
   ]
  },
  {
   "cell_type": "code",
   "execution_count": 4,
   "metadata": {},
   "outputs": [
    {
     "name": "stdout",
     "output_type": "stream",
     "text": [
      "Lorem ipsum dolor sit amet,\n",
      "consectetur adipiscing elit,\n",
      "send do eiusmod tempor incididunt\n",
      "ut labore et dolore magN aliqua.\n",
      "\n"
     ]
    }
   ],
   "source": [
    "a = \"\"\"Lorem ipsum dolor sit amet,\n",
    "consectetur adipiscing elit,\n",
    "send do eiusmod tempor incididunt\n",
    "ut labore et dolore magN aliqua.\n",
    "\"\"\"\n",
    "print(a)"
   ]
  },
  {
   "attachments": {},
   "cell_type": "markdown",
   "metadata": {},
   "source": [
    "### Accessing Character of a string\n",
    "\n",
    "In python , string ia like an array of characer . We can access parts of string by using its index which starts from().\n",
    "\n",
    "Square brackets can be used to access elements of the string."
   ]
  },
  {
   "cell_type": "code",
   "execution_count": 5,
   "metadata": {},
   "outputs": [
    {
     "name": "stdout",
     "output_type": "stream",
     "text": [
      "A\n",
      "z\n"
     ]
    }
   ],
   "source": [
    "print(name[0])\n",
    "print(name[1])"
   ]
  },
  {
   "attachments": {},
   "cell_type": "markdown",
   "metadata": {},
   "source": [
    "### Looping throught the string\n",
    "we can loop throught strngs using a for loop like this:"
   ]
  },
  {
   "cell_type": "code",
   "execution_count": 6,
   "metadata": {},
   "outputs": [
    {
     "name": "stdout",
     "output_type": "stream",
     "text": [
      "A\n",
      "z\n",
      "i\n",
      "z\n"
     ]
    }
   ],
   "source": [
    "for character in name:\n",
    "    print(character)"
   ]
  },
  {
   "attachments": {},
   "cell_type": "markdown",
   "metadata": {},
   "source": [
    " Above code prints all the character in the string name one by one!"
   ]
  },
  {
   "attachments": {},
   "cell_type": "markdown",
   "metadata": {},
   "source": [
    "### String Slicing& Operations on Sting\n",
    "\n",
    "### Length of a Sting\n",
    "\n",
    "we can find the length of a string usingn len() funcation.\n",
    "\n",
    "#### Example:\n"
   ]
  },
  {
   "cell_type": "code",
   "execution_count": 8,
   "metadata": {},
   "outputs": [
    {
     "name": "stdout",
     "output_type": "stream",
     "text": [
      "Mango is a  5 latter words\n"
     ]
    }
   ],
   "source": [
    "fruit = \"Mango\"\n",
    "Len1 = len(fruit)\n",
    "print(\"Mango is a \",Len1 ,\"latter words\")"
   ]
  },
  {
   "attachments": {},
   "cell_type": "markdown",
   "metadata": {},
   "source": [
    "### String as an array\n",
    "\n",
    "Astring is assentially of character also called an array,Thus we can access the elements of this array.\n",
    "\n",
    "#### Exapmle:"
   ]
  },
  {
   "cell_type": "code",
   "execution_count": 9,
   "metadata": {},
   "outputs": [
    {
     "name": "stdout",
     "output_type": "stream",
     "text": [
      "Apple\n",
      "i\n"
     ]
    }
   ],
   "source": [
    "pie = \"ApplePie\"\n",
    "\n",
    "print(pie[:5])\n",
    "print(pie[6]) # return  character at specified index"
   ]
  },
  {
   "attachments": {},
   "cell_type": "markdown",
   "metadata": {},
   "source": [
    "#### Note:\n",
    "this method of specifying the strat end index to specify a part of a string is called slicing.\n",
    "\n",
    "#### Slicing Example:"
   ]
  },
  {
   "cell_type": "code",
   "execution_count": 10,
   "metadata": {},
   "outputs": [
    {
     "name": "stdout",
     "output_type": "stream",
     "text": [
      "Apple\n",
      "Pie\n",
      "pleP\n",
      "ApplePie\n"
     ]
    }
   ],
   "source": [
    "pie = \"ApplePie\"\n",
    "print(pie[:5]) # Slicing from strat\n",
    "print(pie[5:]) # Slicing till End\n",
    "print(pie[2:6]) # Slicing in between\n",
    "print(pie[-8:]) # Slicing using negative index"
   ]
  },
  {
   "attachments": {},
   "cell_type": "markdown",
   "metadata": {},
   "source": [
    "### Loop through a String:\n",
    "strings are array, and array are iterable, Thus we can loop through strings.\n",
    "\n",
    "#### Example:"
   ]
  },
  {
   "cell_type": "code",
   "execution_count": 11,
   "metadata": {},
   "outputs": [
    {
     "name": "stdout",
     "output_type": "stream",
     "text": [
      "A\n",
      "B\n",
      "C\n",
      "D\n",
      "E\n"
     ]
    }
   ],
   "source": [
    "alphabets = \"ABCDE\"\n",
    "for i in alphabets:\n",
    "    print(i)"
   ]
  },
  {
   "attachments": {},
   "cell_type": "markdown",
   "metadata": {},
   "source": [
    "### String Methods:\n",
    "python provides a  set  of built-in method converts a string to case.\n",
    "\n",
    "#### Upper():\n",
    "\n",
    "The upper() method converts a string to upper case.\n",
    "\n",
    "#### Exapmle:"
   ]
  },
  {
   "cell_type": "code",
   "execution_count": 12,
   "metadata": {},
   "outputs": [
    {
     "name": "stdout",
     "output_type": "stream",
     "text": [
      "ABCDEFGHIJ\n"
     ]
    }
   ],
   "source": [
    "str1 = \"ABCDEFGHIJ\"\n",
    "print(str1.upper())"
   ]
  },
  {
   "attachments": {},
   "cell_type": "markdown",
   "metadata": {},
   "source": [
    "### Lower()\n",
    "\n",
    "The lower() method converts a string to lower case.\n",
    "\n",
    "### Example:"
   ]
  },
  {
   "cell_type": "code",
   "execution_count": 13,
   "metadata": {},
   "outputs": [
    {
     "name": "stdout",
     "output_type": "stream",
     "text": [
      "abcdefghij\n"
     ]
    }
   ],
   "source": [
    "str1 = \"ABCDEFGHIJ\"\n",
    "print(str1.lower())"
   ]
  },
  {
   "attachments": {},
   "cell_type": "markdown",
   "metadata": {},
   "source": [
    "### Strip():\n",
    "\n",
    "the strip() method remove any white spaces before and after the string.\n",
    "\n",
    "#### Example:"
   ]
  },
  {
   "cell_type": "code",
   "execution_count": 15,
   "metadata": {},
   "outputs": [
    {
     "name": "stdout",
     "output_type": "stream",
     "text": [
      "Silver spoon\n"
     ]
    }
   ],
   "source": [
    "str2 = \"Silver spoon\"\n",
    "print(str2.strip())"
   ]
  },
  {
   "attachments": {},
   "cell_type": "markdown",
   "metadata": {},
   "source": [
    "### rstripo():\n",
    "\n",
    "the rstrip() remove any trailing character.\n",
    "#### Example:"
   ]
  },
  {
   "cell_type": "code",
   "execution_count": 16,
   "metadata": {},
   "outputs": [
    {
     "name": "stdout",
     "output_type": "stream",
     "text": [
      "Hello \n"
     ]
    }
   ],
   "source": [
    "str3 = \"Hello !!!\"\n",
    "print(str3.rstrip('!'))"
   ]
  },
  {
   "attachments": {},
   "cell_type": "markdown",
   "metadata": {},
   "source": [
    "### replace():\n",
    "The replace() method replaces all accurences of a string with another string,\n",
    "#### Example:"
   ]
  },
  {
   "cell_type": "code",
   "execution_count": 18,
   "metadata": {},
   "outputs": [
    {
     "name": "stdout",
     "output_type": "stream",
     "text": [
      "Silver Moon\n"
     ]
    }
   ],
   "source": [
    "str2 = \"Silver Spoon\"\n",
    "print(str2.replace(\"Sp\",\"M\"))"
   ]
  },
  {
   "attachments": {},
   "cell_type": "markdown",
   "metadata": {},
   "source": [
    "### Split():\n",
    "\n",
    "The split() method splits the given string at the specified instance and returns the separated string as list items.\n",
    "\n",
    "#### Example:"
   ]
  },
  {
   "cell_type": "code",
   "execution_count": null,
   "metadata": {},
   "outputs": [],
   "source": [
    "str2 = \"Silver spoon\"\n",
    "print(str2.split(\" \")) # splits the string at the whitespace \" \"."
   ]
  },
  {
   "attachments": {},
   "cell_type": "markdown",
   "metadata": {},
   "source": [
    "### Capitalize():\n",
    "\n",
    "The capitalize() method turns only the first character of the string to uppercase and the rest other character of the string are turned to lowercase.The string has no effect if the first character is already uppercase.\n",
    "\n",
    "#####  Example:"
   ]
  },
  {
   "cell_type": "code",
   "execution_count": 20,
   "metadata": {},
   "outputs": [
    {
     "name": "stdout",
     "output_type": "stream",
     "text": [
      "Heool\n",
      "Hello world\n"
     ]
    }
   ],
   "source": [
    "str1 = \"heool\"\n",
    "print(str1.capitalize())\n",
    "\n",
    "str2 = \"hello World\"\n",
    "capstrs = str2.capitalize()\n",
    "print(capstrs)"
   ]
  },
  {
   "attachments": {},
   "cell_type": "markdown",
   "metadata": {},
   "source": [
    "### Center():\n",
    "\n",
    "Thge center() method aligns the string to the center as per the par thr parameters given by the user.\n",
    "\n",
    "##### Example:"
   ]
  },
  {
   "cell_type": "code",
   "execution_count": 21,
   "metadata": {},
   "outputs": [
    {
     "name": "stdout",
     "output_type": "stream",
     "text": [
      "            Welcome to the console!!!             \n"
     ]
    }
   ],
   "source": [
    "str1 = \"Welcome to the console!!!\"\n",
    "print(str1.center(50))"
   ]
  },
  {
   "attachments": {},
   "cell_type": "markdown",
   "metadata": {},
   "source": [
    "we can provide padding character . it will fill the rest of the fill character provided by the user.\n",
    "\n",
    "#### Example:"
   ]
  },
  {
   "cell_type": "code",
   "execution_count": 22,
   "metadata": {},
   "outputs": [
    {
     "name": "stdout",
     "output_type": "stream",
     "text": [
      "............Welcome to the console!!!.............\n"
     ]
    }
   ],
   "source": [
    "str1 = \"Welcome to the console!!!\"\n",
    "print(str1.center(50,\".\"))"
   ]
  },
  {
   "attachments": {},
   "cell_type": "markdown",
   "metadata": {},
   "source": [
    "### Count():\n",
    "\n",
    "The count() method return the number of time the given value has occurred within the given string.\n",
    "\n",
    "### Example:"
   ]
  },
  {
   "cell_type": "code",
   "execution_count": 24,
   "metadata": {},
   "outputs": [
    {
     "name": "stdout",
     "output_type": "stream",
     "text": [
      "5\n"
     ]
    }
   ],
   "source": [
    "str2 = \"ABRACABABRA\"\n",
    "countSTR = str2.count('A')\n",
    "print(countSTR)"
   ]
  },
  {
   "attachments": {},
   "cell_type": "markdown",
   "metadata": {},
   "source": [
    "### endswith():\n",
    "\n",
    "The endwith() method check if the string ends witha given value.if yes them return True,else retun false.\n",
    "\n",
    "#### Example:"
   ]
  },
  {
   "cell_type": "code",
   "execution_count": 25,
   "metadata": {},
   "outputs": [
    {
     "name": "stdout",
     "output_type": "stream",
     "text": [
      "True\n"
     ]
    }
   ],
   "source": [
    "str1 = \"Welcome to the Conslole !!!\"\n",
    "print((str1.endswith(\"!!!\")))"
   ]
  },
  {
   "attachments": {},
   "cell_type": "markdown",
   "metadata": {},
   "source": [
    "we can even also check for value in-between the string by providing start and end index positions.\n",
    "\n",
    "#### Example:"
   ]
  },
  {
   "cell_type": "code",
   "execution_count": 27,
   "metadata": {},
   "outputs": [
    {
     "name": "stdout",
     "output_type": "stream",
     "text": [
      "False\n"
     ]
    }
   ],
   "source": [
    "str1 = \"welcome to the Console !!!\"\n",
    "print(str1.endswith(\"to\" ,4 ,10))"
   ]
  },
  {
   "attachments": {},
   "cell_type": "markdown",
   "metadata": {},
   "source": [
    "### find():\n",
    "\n",
    "The find() method second for the first occurrence of the given value and return the index ,where it is present.if given value is absent from the string then return -1.\n",
    "\n",
    "##### Example:"
   ]
  },
  {
   "cell_type": "code",
   "execution_count": 29,
   "metadata": {},
   "outputs": [
    {
     "name": "stdout",
     "output_type": "stream",
     "text": [
      "10\n",
      "10\n"
     ]
    }
   ],
   "source": [
    "str1 = \"He's name is one,he is an honest man.\"\n",
    "print(str1.find(\"is\"))\n"
   ]
  },
  {
   "attachments": {},
   "cell_type": "markdown",
   "metadata": {},
   "source": [
    "### index():\n",
    "\n",
    "The index() method search for the first accurrence of the given value and return the index where it is present.if given value is absent from the string them rais an example.\n",
    "\n",
    "#### Example:"
   ]
  },
  {
   "cell_type": "code",
   "execution_count": 33,
   "metadata": {},
   "outputs": [
    {
     "name": "stdout",
     "output_type": "stream",
     "text": [
      "10\n"
     ]
    }
   ],
   "source": [
    "str1 = \"He's name is aziz .aziz is a honest man\"\n",
    "print(str1.index(\"is\"))"
   ]
  },
  {
   "attachments": {},
   "cell_type": "markdown",
   "metadata": {},
   "source": [
    "is we can see this method is somewhat similar to the find() method. the major difference being that index() raises an exception if value is absent where find() does not."
   ]
  },
  {
   "attachments": {},
   "cell_type": "markdown",
   "metadata": {},
   "source": [
    "### Isalnum():\n",
    "\n",
    "The isalnum() method return  True only if the entire string only consists of A-Z ,a-z,0-9,if any other chara ter or punctustion are present , then it return false.\n",
    "\n",
    "#### Exaple:"
   ]
  },
  {
   "cell_type": "code",
   "execution_count": 34,
   "metadata": {},
   "outputs": [
    {
     "name": "stdout",
     "output_type": "stream",
     "text": [
      "True\n"
     ]
    }
   ],
   "source": [
    "str1 = \"Welcomtotheroom\"\n",
    "print(str1.isalnum())"
   ]
  },
  {
   "attachments": {},
   "cell_type": "markdown",
   "metadata": {},
   "source": [
    "### isalpha():\n",
    "\n",
    "The isalpha() method return True only if the entire string only consists of A-Z,a-z,if any other character or punctuation or number(0-9) are present , then it returns False.\n",
    "\n",
    "#### Example:\n"
   ]
  },
  {
   "cell_type": "code",
   "execution_count": 35,
   "metadata": {},
   "outputs": [
    {
     "name": "stdout",
     "output_type": "stream",
     "text": [
      "True\n"
     ]
    }
   ],
   "source": [
    "str1 = \"welcome\"\n",
    "print(str1.isalpha())"
   ]
  },
  {
   "attachments": {},
   "cell_type": "markdown",
   "metadata": {},
   "source": [
    "#### islower():\n",
    "\n",
    "The islower() method return True if all the character in the sting are lower case else it return false.\n",
    "\n",
    "##### Example:"
   ]
  },
  {
   "cell_type": "code",
   "execution_count": 36,
   "metadata": {},
   "outputs": [
    {
     "name": "stdout",
     "output_type": "stream",
     "text": [
      "True\n"
     ]
    }
   ],
   "source": [
    "str1 = \"hello world\"\n",
    "print(str1.islower())"
   ]
  },
  {
   "attachments": {},
   "cell_type": "markdown",
   "metadata": {},
   "source": [
    "### isprintable():\n",
    "\n",
    "The isprintable() method return True if all value within the give string are printable if not them return false.\n",
    "\n",
    "#### Example:"
   ]
  },
  {
   "cell_type": "code",
   "execution_count": 38,
   "metadata": {},
   "outputs": [
    {
     "name": "stdout",
     "output_type": "stream",
     "text": [
      "True\n",
      "False\n"
     ]
    }
   ],
   "source": [
    "str1 = \"Hw wish you a Merry Christtms\"\n",
    "print(str1.isprintable())\n",
    "\n",
    "# because \\n is not printable character\n",
    "str1 = \"Hw wish you a Merry\\n Christtms\"\n",
    "print(str1.isprintable())"
   ]
  },
  {
   "attachments": {},
   "cell_type": "markdown",
   "metadata": {},
   "source": [
    "### isspace():\n",
    "\n",
    "The isspace() method return True only and if the string contains white space,else return false.\n",
    "\n",
    "#### Example:"
   ]
  },
  {
   "cell_type": "code",
   "execution_count": 39,
   "metadata": {},
   "outputs": [
    {
     "name": "stdout",
     "output_type": "stream",
     "text": [
      "True\n",
      "True\n"
     ]
    }
   ],
   "source": [
    "str1 = \"              \" #using Spacabar\n",
    "print(str1.isspace())\n",
    "\n",
    "str2 = \"               \" #usinf Tab\n",
    "print(str2.isspace())"
   ]
  },
  {
   "attachments": {},
   "cell_type": "markdown",
   "metadata": {},
   "source": [
    "### istitle():\n",
    "The istitle() metod return True if the first letter of each word of the string is capitalized, else it returns false.\n",
    "\n",
    "#### Example:"
   ]
  },
  {
   "cell_type": "code",
   "execution_count": 40,
   "metadata": {},
   "outputs": [
    {
     "name": "stdout",
     "output_type": "stream",
     "text": [
      "False\n"
     ]
    }
   ],
   "source": [
    "str1 = \"world health Organization\"\n",
    "print(str1.istitle())"
   ]
  },
  {
   "attachments": {},
   "cell_type": "markdown",
   "metadata": {},
   "source": [
    "##### Example:"
   ]
  },
  {
   "cell_type": "code",
   "execution_count": 41,
   "metadata": {},
   "outputs": [
    {
     "name": "stdout",
     "output_type": "stream",
     "text": [
      "False\n"
     ]
    }
   ],
   "source": [
    "str2 = \"to kill a mocking bird\"\n",
    "print(str2.istitle())"
   ]
  },
  {
   "attachments": {},
   "cell_type": "markdown",
   "metadata": {},
   "source": [
    "### isupper():\n",
    "\n",
    "The isupper() method return True is all the character in the dtring are upper canse , else it return false.\n",
    "\n",
    "#### Example:"
   ]
  },
  {
   "cell_type": "code",
   "execution_count": 42,
   "metadata": {},
   "outputs": [
    {
     "name": "stdout",
     "output_type": "stream",
     "text": [
      "True\n"
     ]
    }
   ],
   "source": [
    "str1 = \"WORLD HEALTH ORGANIZIATION\"\n",
    "print(str1.isupper())\n"
   ]
  },
  {
   "attachments": {},
   "cell_type": "markdown",
   "metadata": {},
   "source": [
    "### startswith():\n",
    "\n",
    "The stratswith() method if the string with a given value if you them return else return false.\n",
    "\n",
    "####  Example"
   ]
  },
  {
   "cell_type": "code",
   "execution_count": 43,
   "metadata": {},
   "outputs": [
    {
     "name": "stdout",
     "output_type": "stream",
     "text": [
      "True\n"
     ]
    }
   ],
   "source": [
    "str1 = \"python is a language\"\n",
    "print(str1.startswith(\"python\"))"
   ]
  },
  {
   "attachments": {},
   "cell_type": "markdown",
   "metadata": {},
   "source": [
    "### swapcase():\n",
    "The swapcase() method change the character casing of the string upper case are converted to lower case and lower case upper case\n",
    "\n",
    "\n",
    "#### Example"
   ]
  },
  {
   "cell_type": "code",
   "execution_count": 44,
   "metadata": {},
   "outputs": [
    {
     "name": "stdout",
     "output_type": "stream",
     "text": [
      "PYTHON IS A iNTERPRETED lANGUAGE\n"
     ]
    }
   ],
   "source": [
    "str1 = \"python is a Interpreted Language\"\n",
    "print(str1.swapcase())"
   ]
  },
  {
   "attachments": {},
   "cell_type": "markdown",
   "metadata": {},
   "source": [
    "### title():\n",
    "\n",
    "The  title() method capitalizes each letter of the words within the string.\n",
    "\n",
    "#### Example:"
   ]
  },
  {
   "cell_type": "code",
   "execution_count": 45,
   "metadata": {},
   "outputs": [
    {
     "name": "stdout",
     "output_type": "stream",
     "text": [
      "He Name Is One, Aziz Is The Best Frind\n"
     ]
    }
   ],
   "source": [
    "str1 = \"He name is one, aziz is the best frind\"\n",
    "print(str1.title())"
   ]
  },
  {
   "cell_type": "code",
   "execution_count": null,
   "metadata": {},
   "outputs": [],
   "source": []
  }
 ],
 "metadata": {
  "kernelspec": {
   "display_name": "Python 3",
   "language": "python",
   "name": "python3"
  },
  "language_info": {
   "codemirror_mode": {
    "name": "ipython",
    "version": 3
   },
   "file_extension": ".py",
   "mimetype": "text/x-python",
   "name": "python",
   "nbconvert_exporter": "python",
   "pygments_lexer": "ipython3",
   "version": "3.11.3"
  },
  "orig_nbformat": 4
 },
 "nbformat": 4,
 "nbformat_minor": 2
}
