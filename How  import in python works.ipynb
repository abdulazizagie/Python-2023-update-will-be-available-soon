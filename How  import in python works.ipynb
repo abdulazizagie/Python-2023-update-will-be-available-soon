{
 "cells": [
  {
   "cell_type": "markdown",
   "metadata": {},
   "source": [
    "### How  import in python works\n",
    "Importing in python is the process of loading code from a python module into the current script.This allows you to use the funcation and variables defined in the module in your current script,as well as any additional modules that the imported module may depend on.\n",
    "\n",
    "To import a module in python ,you use import statment followed by the name of the module. For example ,to import the math module , which contains a variety of mathematical funcation ,you would use the following statment:\n",
    "\n",
    "```python\n",
    "import math\n",
    "```\n",
    "Once a module in imported ,you can use any of the funcation and variables defined in the module by using the notation,For example,to use the sqrt funcation from the math module,you would write:\n",
    "\n",
    "```python\n",
    "import math\n",
    "\n",
    "result = math.sqrt(9)\n",
    "print(result) # output : 3.0\n",
    "```\n",
    "\n",
    "### Form Keyword\n",
    "\n",
    "You can also import specific funcation or variable from a module using the from Keyword .For example , to import only the sqrt funcation from the math module, you wuold write:\n",
    "```python\n",
    "from math import sqrt\n",
    "\n",
    "result = sqrt(9)\n",
    "print(result) # output : 3.0\n",
    "\n",
    "print(pi) # output: 3.141592653589793\n",
    "```\n",
    "\n",
    "### importing everything\n",
    "It's also possible to import all funcation and variable from a module using the * wildcard.However,theis is generally not recommended as can lead to confusion and make it harder to understand where specific funcation and variables are coming from.\n",
    "```python\n",
    "from math import *\n",
    "\n",
    "result - sqrt(9)\n",
    "print(result) # output : 3.0\n",
    "\n",
    "print(m.pi) # output :3.141592653589793\n",
    "```\n",
    "Python also allows you to rename module using the as keword.This can be useful if you want to useva shorter or more descriptive name for a module ,or if you want to aviod naming conflicts with other modules or variable in your code.\n",
    "\n",
    "### The \"as\" Keword\n",
    "```python\n",
    "import math as m\n",
    "result = m.sqrt(9)\n",
    "print(result) # output :3.0\n",
    "\n",
    "print(m.pi) # output: 3.141592653589793\n",
    "```\n",
    "### The dir function\n",
    "Finally , python has a built-in fncation called dir that you can use to view the name of all the funcation and variable defined in a module, This can be helpful for exploring and understanding the contents of a new module.\n",
    "```python\n",
    "import math\n",
    "print(dir(math))\n",
    "```\n",
    "This will output a list of all the names defined in the math module,including funcation like sqrt and pi,as well as other variable and constants.\n",
    "\n",
    "In summary mt he import statment in python allows you to access the duncationd and variables defined in a module from within your current script.You can import the entire module, specific funcation or variable ,or use the  * wildcard to import everything, you can also use the as keword to remove a module,and the dir funcation to view the contents of a module. "
   ]
  },
  {
   "cell_type": "code",
   "execution_count": 1,
   "metadata": {},
   "outputs": [
    {
     "data": {
      "text/plain": [
       "4"
      ]
     },
     "execution_count": 1,
     "metadata": {},
     "output_type": "execute_result"
    }
   ],
   "source": [
    "import math\n",
    "math.floor(4.2343)"
   ]
  },
  {
   "cell_type": "code",
   "execution_count": 2,
   "metadata": {},
   "outputs": [
    {
     "name": "stdout",
     "output_type": "stream",
     "text": [
      "3.0\n"
     ]
    }
   ],
   "source": [
    "result =math.sqrt(9)\n",
    "print(result)"
   ]
  },
  {
   "cell_type": "code",
   "execution_count": 3,
   "metadata": {},
   "outputs": [
    {
     "name": "stdout",
     "output_type": "stream",
     "text": [
      "9.42477796076938\n"
     ]
    }
   ],
   "source": [
    "from math import sqrt ,pi\n",
    "\n",
    "result = sqrt(9) * pi\n",
    "print(result)"
   ]
  },
  {
   "cell_type": "code",
   "execution_count": 4,
   "metadata": {},
   "outputs": [
    {
     "name": "stdout",
     "output_type": "stream",
     "text": [
      "9.42477796076938\n"
     ]
    }
   ],
   "source": [
    "from math import pi,sqrt as ss\n",
    "\n",
    "result = ss(9) * pi\n",
    "print(result)\n"
   ]
  },
  {
   "cell_type": "code",
   "execution_count": 5,
   "metadata": {},
   "outputs": [
    {
     "name": "stdout",
     "output_type": "stream",
     "text": [
      "9.42477796076938\n"
     ]
    }
   ],
   "source": [
    "import math as m\n",
    "result = m.sqrt(9)*m.pi\n",
    "print(result)"
   ]
  },
  {
   "cell_type": "code",
   "execution_count": 7,
   "metadata": {},
   "outputs": [
    {
     "name": "stdout",
     "output_type": "stream",
     "text": [
      "['__doc__', '__loader__', '__name__', '__package__', '__spec__', 'acos', 'acosh', 'asin', 'asinh', 'atan', 'atan2', 'atanh', 'cbrt', 'ceil', 'comb', 'copysign', 'cos', 'cosh', 'degrees', 'dist', 'e', 'erf', 'erfc', 'exp', 'exp2', 'expm1', 'fabs', 'factorial', 'floor', 'fmod', 'frexp', 'fsum', 'gamma', 'gcd', 'hypot', 'inf', 'isclose', 'isfinite', 'isinf', 'isnan', 'isqrt', 'lcm', 'ldexp', 'lgamma', 'log', 'log10', 'log1p', 'log2', 'modf', 'nan', 'nextafter', 'perm', 'pi', 'pow', 'prod', 'radians', 'remainder', 'sin', 'sinh', 'sqrt', 'tan', 'tanh', 'tau', 'trunc', 'ulp']\n",
      "nan <class 'float'>\n"
     ]
    }
   ],
   "source": [
    "import math\n",
    "print(dir(math))\n",
    "print(math.nan,type(math.nan))"
   ]
  },
  {
   "cell_type": "code",
   "execution_count": 1,
   "metadata": {},
   "outputs": [
    {
     "name": "stdout",
     "output_type": "stream",
     "text": [
      "A good boy\n",
      "Hey you are welcom my friend\n",
      "A good boy\n"
     ]
    }
   ],
   "source": [
    "from harry import welcom,harry\n",
    "\n",
    "welcom()\n",
    "print(harry)\n"
   ]
  },
  {
   "cell_type": "code",
   "execution_count": 1,
   "metadata": {},
   "outputs": [
    {
     "name": "stdout",
     "output_type": "stream",
     "text": [
      "    January 2016\n",
      "Mo Tu We Th Fr Sa Su\n",
      "             1  2  3\n",
      " 4  5  6  7  8  9 10\n",
      "11 12 13 14 15 16 17\n",
      "18 19 20 21 22 23 24\n",
      "25 26 27 28 29 30 31\n",
      "\n"
     ]
    }
   ],
   "source": [
    "import calendar\n",
    "\n",
    "m = calendar.month(2016,1)\n",
    "print(m)"
   ]
  },
  {
   "cell_type": "code",
   "execution_count": null,
   "metadata": {},
   "outputs": [],
   "source": []
  }
 ],
 "metadata": {
  "kernelspec": {
   "display_name": "Python 3",
   "language": "python",
   "name": "python3"
  },
  "language_info": {
   "codemirror_mode": {
    "name": "ipython",
    "version": 3
   },
   "file_extension": ".py",
   "mimetype": "text/x-python",
   "name": "python",
   "nbconvert_exporter": "python",
   "pygments_lexer": "ipython3",
   "version": "3.11.4"
  },
  "orig_nbformat": 4
 },
 "nbformat": 4,
 "nbformat_minor": 2
}
