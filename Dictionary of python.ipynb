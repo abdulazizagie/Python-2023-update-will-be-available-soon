{
 "cells": [
  {
   "cell_type": "markdown",
   "metadata": {},
   "source": [
    "### Python Dictionaries\n",
    "\n",
    "Dictionaries are ordered collection of data items, they store multiple items in a single variable.Dictionary items are key-value pairs that are separated by commas and enclosed within curly bracks{}.\n",
    "#### Example:\n",
    "```python\n",
    "info = {\"name\":\"aziz\",\"age\":22,\"eligible\":True}\n",
    "print(info)\n",
    "```\n",
    "\n",
    "### Accessing Dictionary items:\n",
    "\n",
    "### I.Accessing single value:\n",
    "Value in a dictionary can be accessed using Keys.We can dicitonary value by mentioning key either in square brackets or by using get method.\n",
    "\n",
    "\n",
    "### Example:\n",
    "```python\n",
    "info = {\"name\":\"Aziz\",\"age\":19}\n",
    "print(info['name'])\n",
    "print(info.get('age'))\n",
    "```\n",
    "\n",
    "### II.Accessing multiple values:\n",
    "\n",
    "We can print all the value in the dictionary using value() method.\n",
    "\n",
    "#### Example:\n",
    "```python\n",
    "info = {\"name\":\"Karan\",\"age\":19}\n",
    "print(info.values())\n",
    "print(info.keys())\n",
    "```\n",
    "### III.Accessing Keys:\n",
    "\n",
    "We can print all the keys in the dictioary using keys() method.\n",
    "#### Example:\n",
    "```python\n",
    "info = {\"name\":\"Karan\",\"age\":19}\n",
    "print(info.keys())\n",
    "```\n",
    "### IV.Accessing Key-value pairs:\n",
    "\n",
    "we can all the key-value pairs in the dictionary using items() method.\n",
    "\n",
    "#### Example:\n",
    "```python\n",
    "info = {\"name\":\"Karan\",\"age\":19}\n",
    "print(info.items())\n",
    "```"
   ]
  },
  {
   "cell_type": "code",
   "execution_count": 1,
   "metadata": {},
   "outputs": [
    {
     "name": "stdout",
     "output_type": "stream",
     "text": [
      "{'name': 'aziz', 'age': 22, 'eligible': True}\n"
     ]
    }
   ],
   "source": [
    "info = {\"name\":\"aziz\",\"age\":22,\"eligible\":True}\n",
    "print(info)"
   ]
  },
  {
   "cell_type": "code",
   "execution_count": 2,
   "metadata": {},
   "outputs": [
    {
     "name": "stdout",
     "output_type": "stream",
     "text": [
      "Aziz\n",
      "19\n"
     ]
    }
   ],
   "source": [
    "info = {\"name\":\"Aziz\",\"age\":19}\n",
    "print(info['name'])\n",
    "print(info.get('age'))"
   ]
  },
  {
   "cell_type": "code",
   "execution_count": 3,
   "metadata": {},
   "outputs": [
    {
     "name": "stdout",
     "output_type": "stream",
     "text": [
      "dict_values(['Karan', 19])\n",
      "dict_keys(['name', 'age'])\n"
     ]
    }
   ],
   "source": [
    "info = {\"name\":\"Karan\",\"age\":19}\n",
    "print(info.values())\n",
    "print(info.keys())"
   ]
  },
  {
   "cell_type": "code",
   "execution_count": 4,
   "metadata": {},
   "outputs": [
    {
     "name": "stdout",
     "output_type": "stream",
     "text": [
      "dict_items([('name', 'Karan'), ('age', 19)])\n"
     ]
    }
   ],
   "source": [
    "info = {\"name\":\"Karan\",\"age\":19}\n",
    "print(info.items())"
   ]
  },
  {
   "cell_type": "markdown",
   "metadata": {},
   "source": [
    "### Dictionary Methods\n",
    "\n",
    "Dictionary uses several built-in methods for manipulation.They are listed below\n",
    "\n",
    "### update()\n",
    "\n",
    "The update() method updates the value of the key provided to it if the item alredy exists in the dictionary ,else it create a new key-value pair.\n",
    "\n",
    "#### Example:\n",
    "```python\n",
    "info = {\"name\":\"Abdul aziz\",\"age\":19,\"eligible\":True}\n",
    "print(info)\n",
    "info.update({'age':20})\n",
    "info.update({'DOB':2001})\n",
    "print(info)\n",
    "```\n",
    "### Removing items from dictionary:\n",
    "\n",
    "There are a few method that remove that we can use to remove items from dictionary.\n",
    "\n",
    "### Clear():\n",
    "\n",
    "The clear() method remove all the items from the list.\n",
    "\n",
    "### Example:\n",
    "```python\n",
    "info = {'name':'Abdul aziz','age':19,'eligible':True}\n",
    "info.clear()\n",
    "print(info)\n",
    "```\n",
    "### pop():\n",
    "The pop method remove the key-value pair whose key is password as a parameter.\n",
    "```python\n",
    "info = {'name':'Abdul aziz','age':19,'eligible':True}\n",
    "info.pop('eligible')\n",
    "print(info)\n",
    "```\n",
    "\n",
    "### popitem():\n",
    "\n",
    "The popitem method remove the laast key-value pair from the dictionary.\n",
    "\n",
    "#### Example:\n",
    "```python\n",
    "info = {'name':'Abdul Aziz','age':19,'eligible':True,'DOB':2003}\n",
    "info.popitme()\n",
    "print(info)\n",
    "```\n",
    "### DEL:\n",
    "we can also use the del keword to remove a dictionary item.\n",
    "\n",
    "#### Example:\n",
    "```python\n",
    "info = {'name':'Abdul Aziz','age':19,'eligible':True,'DOB':2003}\n",
    "del info['age']\n",
    "print(info)\n",
    "```\n",
    "if key is not provided ,then the del keword will delete the dictioary entirely.\n",
    "\n",
    "#### Example:\n",
    "```python\n",
    "info = {'name':'Abdul Aziz','age':19,'eligible':True,'DOB':2003}\n",
    "del info\n",
    "print(info)\n",
    "```"
   ]
  },
  {
   "cell_type": "code",
   "execution_count": 5,
   "metadata": {},
   "outputs": [
    {
     "name": "stdout",
     "output_type": "stream",
     "text": [
      "{'name': 'Abdul aziz', 'age': 19, 'eligible': True}\n",
      "{'name': 'Abdul aziz', 'age': 20, 'eligible': True, 'DOB': 2001}\n"
     ]
    }
   ],
   "source": [
    "info = {\"name\":\"Abdul aziz\",\"age\":19,\"eligible\":True}\n",
    "print(info)\n",
    "info.update({'age':20})\n",
    "info.update({'DOB':2001})\n",
    "print(info)"
   ]
  },
  {
   "cell_type": "code",
   "execution_count": 6,
   "metadata": {},
   "outputs": [
    {
     "name": "stdout",
     "output_type": "stream",
     "text": [
      "{}\n"
     ]
    }
   ],
   "source": [
    "info = {'name':'Abdul aziz','age':19,'eligible':True}\n",
    "info.clear()\n",
    "print(info)"
   ]
  },
  {
   "cell_type": "code",
   "execution_count": 7,
   "metadata": {},
   "outputs": [
    {
     "name": "stdout",
     "output_type": "stream",
     "text": [
      "{'name': 'Abdul aziz', 'age': 19}\n"
     ]
    }
   ],
   "source": [
    "info = {'name':'Abdul aziz','age':19,'eligible':True}\n",
    "info.pop('eligible')\n",
    "print(info)"
   ]
  },
  {
   "cell_type": "code",
   "execution_count": 9,
   "metadata": {},
   "outputs": [
    {
     "name": "stdout",
     "output_type": "stream",
     "text": [
      "{'name': 'Abdul Aziz', 'age': 19, 'eligible': True}\n"
     ]
    }
   ],
   "source": [
    "info = {'name':'Abdul Aziz','age':19,'eligible':True,'DOB':2003}\n",
    "info.popitem()\n",
    "print(info)"
   ]
  },
  {
   "cell_type": "code",
   "execution_count": 10,
   "metadata": {},
   "outputs": [
    {
     "name": "stdout",
     "output_type": "stream",
     "text": [
      "{'name': 'Abdul Aziz', 'eligible': True, 'DOB': 2003}\n"
     ]
    }
   ],
   "source": [
    "info = {'name':'Abdul Aziz','age':19,'eligible':True,'DOB':2003}\n",
    "del info['age']\n",
    "print(info)"
   ]
  },
  {
   "cell_type": "code",
   "execution_count": null,
   "metadata": {},
   "outputs": [
    {
     "ename": "NameError",
     "evalue": "name 'info' is not defined",
     "output_type": "error",
     "traceback": [
      "\u001b[1;31m---------------------------------------------------------------------------\u001b[0m",
      "\u001b[1;31mNameError\u001b[0m                                 Traceback (most recent call last)",
      "Cell \u001b[1;32mIn[11], line 3\u001b[0m\n\u001b[0;32m      1\u001b[0m info \u001b[39m=\u001b[39m {\u001b[39m'\u001b[39m\u001b[39mname\u001b[39m\u001b[39m'\u001b[39m:\u001b[39m'\u001b[39m\u001b[39mAbdul Aziz\u001b[39m\u001b[39m'\u001b[39m,\u001b[39m'\u001b[39m\u001b[39mage\u001b[39m\u001b[39m'\u001b[39m:\u001b[39m19\u001b[39m,\u001b[39m'\u001b[39m\u001b[39meligible\u001b[39m\u001b[39m'\u001b[39m:\u001b[39mTrue\u001b[39;00m,\u001b[39m'\u001b[39m\u001b[39mDOB\u001b[39m\u001b[39m'\u001b[39m:\u001b[39m2003\u001b[39m}\n\u001b[0;32m      2\u001b[0m \u001b[39mdel\u001b[39;00m info\n\u001b[1;32m----> 3\u001b[0m \u001b[39mprint\u001b[39m(info)\n",
      "\u001b[1;31mNameError\u001b[0m: name 'info' is not defined"
     ]
    }
   ],
   "source": [
    "info = {'name':'Abdul Aziz','age':19,'eligible':True,'DOB':2003}\n",
    "del info\n",
    "print(info) # because This is delet"
   ]
  },
  {
   "cell_type": "code",
   "execution_count": null,
   "metadata": {},
   "outputs": [],
   "source": []
  }
 ],
 "metadata": {
  "kernelspec": {
   "display_name": "Python 3",
   "language": "python",
   "name": "python3"
  },
  "language_info": {
   "codemirror_mode": {
    "name": "ipython",
    "version": 3
   },
   "file_extension": ".py",
   "mimetype": "text/x-python",
   "name": "python",
   "nbconvert_exporter": "python",
   "pygments_lexer": "ipython3",
   "version": "3.11.4"
  },
  "orig_nbformat": 4
 },
 "nbformat": 4,
 "nbformat_minor": 2
}
