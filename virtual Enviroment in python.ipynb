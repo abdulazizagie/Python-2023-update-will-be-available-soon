{
 "cells": [
  {
   "cell_type": "markdown",
   "metadata": {},
   "source": [
    "### Virtual Enviroment\n",
    "\n",
    "A virtual enviroment is tool to used to isolated specific python enivroment on a single machine ,allowing you to work on multiple project with different dependencies and packages without conflicts. This can be sepecially useful when working on project that have conflicting package version or packages that are not compatible with each other.\n",
    "\n",
    "To create a virtual enviroment in python,you can use the venv model that comes with python ,Here's an example of how to create a virtual enviroment and activate it.\n",
    "\n",
    "```python\n",
    "# Create a virtual enviroment\n",
    "python -m venv myenv\n",
    "\n",
    "# Activate the virtual enviroment (Linux/macOs)\n",
    "source myenv/bin/active\n",
    "\n",
    "# Active the virtual enviroment (Windos)\n",
    "myenv\\Scripts\\activate.bat\n",
    "```\n",
    "Once the  virtual enviroment is activated,any packages that you install using pip will be installes in the virtual enviroment,rather than in the global python enviromant.This allows you to have a separat set of packages for each project, without affectinh the packages installes in the global enviroment\n",
    "\n",
    "To deactive the virtual enviroment ,you can use the deactivate command:\n",
    "```python\n",
    "# Deactivate the virtual enviromant\n",
    "deactivate\n",
    "```\n",
    "\n",
    "The \"requirments.txt.file\n",
    "\n",
    "In addiitiong to create and activating a virtual eniroment,it can useful to create a requiroments.txt file that lists the packagees and their version that your project depend on.This can be to used to easily install all the required packages ina new enivroment.\n",
    "\n",
    "To create a requirment.txt file ,you can use the pip freeze command,which output a list of installed package and their version ,For example:\n",
    "\n",
    "```python\n",
    "# output the list of installed packages and their and their version to a file\n",
    "pip freeze>requirments.txt\n",
    "```\n",
    "To install the packages listed in the requirment.txt.file you use the pip install command with the -r flag:\n",
    "```python\n",
    "pip install -r requirment.txt\n",
    "```\n",
    "Using a virtual enviroment and a requirment .txt file can help you mange the dependenice for your python project and ensure that your project are protable and can be easily set up on a machine.\n"
   ]
  },
  {
   "cell_type": "code",
   "execution_count": 1,
   "metadata": {},
   "outputs": [
    {
     "name": "stdout",
     "output_type": "stream",
     "text": [
      "2.0.3\n"
     ]
    }
   ],
   "source": [
    "import pandas as pd\n",
    "print(pd.__version__)"
   ]
  }
 ],
 "metadata": {
  "kernelspec": {
   "display_name": "Python 3",
   "language": "python",
   "name": "python3"
  },
  "language_info": {
   "codemirror_mode": {
    "name": "ipython",
    "version": 3
   },
   "file_extension": ".py",
   "mimetype": "text/x-python",
   "name": "python",
   "nbconvert_exporter": "python",
   "pygments_lexer": "ipython3",
   "version": "3.11.4"
  },
  "orig_nbformat": 4
 },
 "nbformat": 4,
 "nbformat_minor": 2
}
