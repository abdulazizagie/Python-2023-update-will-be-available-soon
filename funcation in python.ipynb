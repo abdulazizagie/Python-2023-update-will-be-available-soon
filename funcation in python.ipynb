{
 "cells": [
  {
   "attachments": {},
   "cell_type": "markdown",
   "metadata": {},
   "source": [
    "### Python Funcation \n",
    "\n",
    "A funcation is a block of code that performs a specific task it is called .in bigger programs , where we have larger amount of code , it is advisable to create or use exing funcation that  ,ake the program allow organized and neat.\n",
    "\n",
    "There are two type of funcation\n",
    "\n",
    "1. Bulit-in-funcation\n",
    "2. User-defined funcations\n",
    "\n",
    "### Built-in funcation:\n",
    "\n",
    "these funcation are defined and precoded in python Same example of built-in funcation are as follows:\n",
    "\n",
    "min(),man(),len(),sum(),type(),range(),dic(),list(),tuple(),set(),print().etc"
   ]
  },
  {
   "cell_type": "code",
   "execution_count": null,
   "metadata": {},
   "outputs": [],
   "source": [
    "def aver():\n",
    "    uptan = 374 #float(input(\"Enter the uptan number\"))\n",
    "    total =  550#float(input(\"Enter the total nuber\"))\n",
    "    \n",
    "    avg = (uptan / total)*100\n",
    "    return avg\n",
    "    \n",
    "print(aver())"
   ]
  },
  {
   "cell_type": "code",
   "execution_count": 32,
   "metadata": {},
   "outputs": [
    {
     "name": "stdout",
     "output_type": "stream",
     "text": [
      "350000\n"
     ]
    }
   ],
   "source": [
    "def isGreater():\n",
    "    \n",
    "    a = 50\n",
    "    b = 60\n",
    "    c = 70\n",
    "    d = 350000\n",
    "    \n",
    "    if a > b and b > a:\n",
    "        return a\n",
    "    elif b > c:\n",
    "        return b\n",
    "    elif c > d:\n",
    "        return c\n",
    "    elif d > a:\n",
    "        return d\n",
    "print(isGreater())"
   ]
  },
  {
   "cell_type": "code",
   "execution_count": 22,
   "metadata": {},
   "outputs": [
    {
     "name": "stdout",
     "output_type": "stream",
     "text": [
      "3.0\n"
     ]
    }
   ],
   "source": [
    "def mean():\n",
    "    \n",
    "    a = [1,2,3,4,5]\n",
    "    \n",
    "    M = sum(a)/len(a)\n",
    "    \n",
    "    return M\n",
    "print(mean())    "
   ]
  },
  {
   "attachments": {},
   "cell_type": "markdown",
   "metadata": {},
   "source": [
    "### Funcation Arguments and return statment\n",
    "\n",
    "There are four type of argument that we can provide in a funcation:\n",
    "\n",
    "- Defult Argumants\n",
    "- Keword Argumants\n",
    "- Variable Argumnets\n",
    "- Required Arguments\n",
    "\n",
    "### Defult arguments:\n",
    "\n",
    "we can provide a defult value while creatinga funcation,thi way the funcation assumes a defult value enen if a value is not provided in the funcation call that argumant.\n",
    "\n",
    "#### Example:\n"
   ]
  },
  {
   "cell_type": "code",
   "execution_count": 6,
   "metadata": {},
   "outputs": [
    {
     "name": "stdout",
     "output_type": "stream",
     "text": [
      "Hello Amy Aziz whatson\n"
     ]
    }
   ],
   "source": [
    "def name(fname,mname='Aziz',lname=\"whatson\"):\n",
    "    print(\"Hello\",fname,mname,lname)\n",
    "    \n",
    "name('Amy')"
   ]
  },
  {
   "cell_type": "code",
   "execution_count": 4,
   "metadata": {},
   "outputs": [
    {
     "name": "stdout",
     "output_type": "stream",
     "text": [
      "The average is : 9.0\n"
     ]
    }
   ],
   "source": [
    "def average(a=9,b=1):\n",
    "    print(\"The average is :\",(a+b)/2)\n",
    "    \n",
    "# average(1,5)\n",
    "average(b=9)"
   ]
  },
  {
   "attachments": {},
   "cell_type": "markdown",
   "metadata": {},
   "source": [
    "### Kewords Argumant:\n",
    "\n",
    "We can provied argumant with key=value,this way the interpreter recogizes the argumant by the parameter name.Hence, the order in which the argumant are password does not matter.\n",
    "\n",
    "### Example:"
   ]
  },
  {
   "cell_type": "code",
   "execution_count": 7,
   "metadata": {},
   "outputs": [
    {
     "name": "stdout",
     "output_type": "stream",
     "text": [
      "Hello  Jode Peter wesker\n"
     ]
    }
   ],
   "source": [
    "def name(fname,mname,lname):\n",
    "    print(\"Hello \",fname,mname,lname)\n",
    "    \n",
    "name(mname=\"Peter\",lname=\"wesker\",fname=\"Jode\")"
   ]
  },
  {
   "attachments": {},
   "cell_type": "markdown",
   "metadata": {},
   "source": [
    "### Required argumants:\n",
    "\n",
    "In case we don't pass the argumnet with a key=value syntax, then it is necessary to pass the argument in the correct. position order and the number og argumnet passed should match with actual funcation definition."
   ]
  },
  {
   "cell_type": "code",
   "execution_count": 10,
   "metadata": {},
   "outputs": [
    {
     "ename": "TypeError",
     "evalue": "name() missing 1 required positional argument: 'lname'",
     "output_type": "error",
     "traceback": [
      "\u001b[1;31m---------------------------------------------------------------------------\u001b[0m",
      "\u001b[1;31mTypeError\u001b[0m                                 Traceback (most recent call last)",
      "Cell \u001b[1;32mIn[10], line 3\u001b[0m\n\u001b[0;32m      1\u001b[0m \u001b[39mdef\u001b[39;00m \u001b[39mname\u001b[39m(fname,mname,lname):\n\u001b[0;32m      2\u001b[0m     \u001b[39mprint\u001b[39m(\u001b[39m\"\u001b[39m\u001b[39mHello \u001b[39m\u001b[39m\"\u001b[39m,fname,mname,lname)\n\u001b[1;32m----> 3\u001b[0m name(fname\u001b[39m=\u001b[39;49m\u001b[39m'\u001b[39;49m\u001b[39mAziz\u001b[39;49m\u001b[39m'\u001b[39;49m,mname\u001b[39m=\u001b[39;49m\u001b[39m'\u001b[39;49m\u001b[39mshaukat meer\u001b[39;49m\u001b[39m'\u001b[39;49m)\n",
      "\u001b[1;31mTypeError\u001b[0m: name() missing 1 required positional argument: 'lname'"
     ]
    }
   ],
   "source": [
    "def name(fname,mname,lname):\n",
    "    print(\"Hello \",fname,mname,lname)\n",
    "name(fname='Aziz',mname='shaukat meer')"
   ]
  },
  {
   "attachments": {},
   "cell_type": "markdown",
   "metadata": {},
   "source": [
    "### Variable-Length argumnats:\n",
    "\n",
    "Sometime we may need to pass more argumnet than those defined in the actual funcation, this can be done using variable-length argumants.\n",
    "\n",
    "There are two ways to achieve this:\n",
    "\n",
    "Arbitrary Argumants:\n",
    "\n",
    "While creating a funcation , pass *before the parameter name while defining the funcation ,the funcation accesses the argumant by processing them in the from of tuple.\n",
    "\n",
    "### Example"
   ]
  },
  {
   "cell_type": "code",
   "execution_count": 13,
   "metadata": {},
   "outputs": [
    {
     "name": "stdout",
     "output_type": "stream",
     "text": [
      "Hello Aziz shaukat wwww\n",
      "<class 'tuple'>\n"
     ]
    }
   ],
   "source": [
    "def name(*name):\n",
    "    print(\"Hello\",name[0],name[1],name[2])\n",
    "    print(type(name))\n",
    "name(\"Aziz\",\"shaukat\",\"wwww\")"
   ]
  },
  {
   "attachments": {},
   "cell_type": "markdown",
   "metadata": {},
   "source": [
    "### Kewords Argumants:\n",
    "\n",
    "while creating a funcation , pass a *before the peramenter name while defining the funcation .the funcation accesses the arguments by processing them in the from of dictionary.\n",
    "\n",
    "### Example:"
   ]
  },
  {
   "cell_type": "code",
   "execution_count": 16,
   "metadata": {},
   "outputs": [
    {
     "name": "stdout",
     "output_type": "stream",
     "text": [
      "Hello  shaukat Aziz basit\n",
      "<class 'dict'>\n"
     ]
    }
   ],
   "source": [
    "def name(**name):\n",
    "    print(\"Hello \",name['fname'],name[\"mname\"],name['lname'])\n",
    "    print(type(name))\n",
    "    \n",
    "name(mname=\"Aziz\",lname=\"basit\",fname=\"shaukat\")"
   ]
  },
  {
   "attachments": {},
   "cell_type": "markdown",
   "metadata": {},
   "source": [
    "### Return Statment\n",
    "\n",
    "The return statment is used in return the value of the expression back to the calling funcation.\n",
    "\n",
    "### Example"
   ]
  },
  {
   "cell_type": "code",
   "execution_count": 19,
   "metadata": {},
   "outputs": [
    {
     "name": "stdout",
     "output_type": "stream",
     "text": [
      "1.0\n"
     ]
    }
   ],
   "source": [
    "def average(*number):\n",
    "    sum = 0\n",
    "    for i in number:\n",
    "        sum = sum + i\n",
    "        return sum / len(number)\n",
    "    \n",
    "c = average(5,6,7,8,9)\n",
    "print(c)"
   ]
  },
  {
   "cell_type": "code",
   "execution_count": 20,
   "metadata": {},
   "outputs": [
    {
     "name": "stdout",
     "output_type": "stream",
     "text": [
      "Hello, james Buchana Barnes\n"
     ]
    }
   ],
   "source": [
    "def name(fname,mname,lname):\n",
    "    return  \"Hello, \" + fname + \" \" + mname + \" \" + lname\n",
    "\n",
    "print(name(\"james\" , \"Buchana\" , \"Barnes\"))"
   ]
  },
  {
   "cell_type": "code",
   "execution_count": null,
   "metadata": {},
   "outputs": [],
   "source": []
  }
 ],
 "metadata": {
  "kernelspec": {
   "display_name": "Python 3",
   "language": "python",
   "name": "python3"
  },
  "language_info": {
   "codemirror_mode": {
    "name": "ipython",
    "version": 3
   },
   "file_extension": ".py",
   "mimetype": "text/x-python",
   "name": "python",
   "nbconvert_exporter": "python",
   "pygments_lexer": "ipython3",
   "version": "3.11.3"
  },
  "orig_nbformat": 4
 },
 "nbformat": 4,
 "nbformat_minor": 2
}
