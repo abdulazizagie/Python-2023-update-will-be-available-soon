{
 "cells": [
  {
   "cell_type": "markdown",
   "metadata": {},
   "source": [
    "### Joining Sets\n",
    "Sets in python more or less worke in the way as sets in mathematics .we can perform operation like union and intersection on the sets just like in mathematics.\n",
    "\n",
    "### I.union() and update():\n",
    "\n",
    "The union() and update() methos prints all items that are present in the two sets.The union() method returns a new set whereas update() method adds items into the existing set from another set.\n",
    "\n",
    "#### Example:\n",
    "```python\n",
    "cities = {\"Tokyo\",\"Madrid\",\"Berlin\",\"Delhi\"}\n",
    "cities2 = {\"Tokyo\",\"Madrid\",\"Berlin\",\"Delhi\"}\n",
    "cities3 = cities.union(cities2)\n",
    "print(cities3)\n",
    "```\n",
    "\n",
    "### II.intersection and intersection_update():\n",
    "\n",
    "The intersection() and intersection_update() method prints only items that are similar to both the sets.The intersection() methos return a new set whereas intersection_update() method updates into the existing set from another set.\n",
    "\n",
    "### Example:\n",
    "```python\n",
    "cities = {\"Tokyo\",\"Madrid\",\"Berlin\",\"Delhi\"}\n",
    "cities2 = {\"Tokyo\",\"Madrid\",\"Berlin\",\"Delhi\"}\n",
    "cities3 = cities.intersection(cities2)\n",
    "print(cities3)\n",
    "\n",
    "```\n",
    "\n",
    "### Example:\n",
    "```python\n",
    "cities = {\"Tokyo\",\"Madrid\",\"Berlin\",\"Delhi\"}\n",
    "cities2 = {\"Tokyo\",\"Madrid\",\"Berlin\",\"Delhi\"}\n",
    "cities3 = cities.intersection_update(cities2)\n",
    "print(cities3)\n",
    "```\n",
    "\n",
    "### III.symmetric_difference and symmetric_difference_update():\n",
    "\n",
    "The symmetric_difference() and symmetric_difference_update() methods prints only items that sre not similar to both the sets.the symmetric_difference() method return a new set where as symmetric_difference_update methos updates into the existing set from another set.\n",
    "\n",
    "```python\n",
    "cities = {\"Tokyo\",\"Madrid\",\"Berlin\",\"Delhi\"}\n",
    "cities2 = {\"Tokyo\",\"Seoul\",\"kabul\",\"Madrid\"}\n",
    "cities3 = cities.symmetric_difference(cities2)\n",
    "print(cities3)\n",
    "```\n",
    "\n",
    "### IV.difference() and difference_update():\n",
    "\n",
    "The difference() and difference_update methods prints only items that are only present in the original set and not in both the sets.The difference() method return a new set whereas difference_update() methos update into the existing set from another set.\n",
    "\n",
    "### Example:\n",
    "```python\n",
    "cities = {\"Tokyo\",\"Madrid\",\"Berlin\",\"Delhi\"}\n",
    "cities2 = {\"Tokyo\",\"Seoul\",\"kabul\",\"Madrid\"}\n",
    "cities3 = cities.difference(cities2)\n",
    "print(cities3)\n",
    "```"
   ]
  },
  {
   "cell_type": "code",
   "execution_count": 1,
   "metadata": {},
   "outputs": [
    {
     "name": "stdout",
     "output_type": "stream",
     "text": [
      "{1, 2, 3, 4, 5, 6, 7}\n"
     ]
    }
   ],
   "source": [
    "S1 = {1,2,3,4,5}\n",
    "S2 = {3,6,7}\n",
    "S3 = S1.union(S2)\n",
    "print(S3)"
   ]
  },
  {
   "cell_type": "code",
   "execution_count": 2,
   "metadata": {},
   "outputs": [
    {
     "name": "stdout",
     "output_type": "stream",
     "text": [
      "{1, 2, 3, 4, 5, 6, 7} {3, 6, 7}\n"
     ]
    }
   ],
   "source": [
    "S1.update(S2)\n",
    "print(S1,S2)"
   ]
  },
  {
   "cell_type": "code",
   "execution_count": 5,
   "metadata": {},
   "outputs": [
    {
     "name": "stdout",
     "output_type": "stream",
     "text": [
      "{'Berlin', 'Tokyo', 'Delhi', 'Madrid'}\n"
     ]
    }
   ],
   "source": [
    "cities = {\"Tokyo\",\"Madrid\",\"Berlin\",\"Delhi\"}\n",
    "cities2 = {\"Tokyo\",\"Madrid\",\"Berlin\",\"Delhi\"}\n",
    "cities3 = cities.union(cities2)\n",
    "print(cities3)"
   ]
  },
  {
   "cell_type": "code",
   "execution_count": 6,
   "metadata": {},
   "outputs": [
    {
     "name": "stdout",
     "output_type": "stream",
     "text": [
      "{'Madrid', 'Tokyo', 'Berlin', 'Delhi'}\n"
     ]
    }
   ],
   "source": [
    "cities = {\"Tokyo\",\"Madrid\",\"Berlin\",\"Delhi\"}\n",
    "cities2 = {\"Tokyo\",\"Madrid\",\"Berlin\",\"Delhi\"}\n",
    "cities3 = cities.intersection(cities2)\n",
    "print(cities3)"
   ]
  },
  {
   "cell_type": "code",
   "execution_count": 9,
   "metadata": {},
   "outputs": [
    {
     "name": "stdout",
     "output_type": "stream",
     "text": [
      "{'Madrid', 'Tokyo'}\n"
     ]
    }
   ],
   "source": [
    "cities = {\"Tokyo\",\"Madrid\",\"Berlin\",\"Delhi\"}\n",
    "cities2 = {\"Tokyo\",\"Seoul\",\"Kabul\",\"Madrid\"}\n",
    "cities.intersection_update(cities2)\n",
    "print(cities)"
   ]
  },
  {
   "cell_type": "code",
   "execution_count": 10,
   "metadata": {},
   "outputs": [
    {
     "name": "stdout",
     "output_type": "stream",
     "text": [
      "{'Berlin', 'Seoul', 'Delhi', 'kabul'}\n"
     ]
    }
   ],
   "source": [
    "cities = {\"Tokyo\",\"Madrid\",\"Berlin\",\"Delhi\"}\n",
    "cities2 = {\"Tokyo\",\"Seoul\",\"kabul\",\"Madrid\"}\n",
    "cities3 = cities.symmetric_difference(cities2)\n",
    "print(cities3)"
   ]
  },
  {
   "cell_type": "code",
   "execution_count": 11,
   "metadata": {},
   "outputs": [
    {
     "name": "stdout",
     "output_type": "stream",
     "text": [
      "{'Berlin', 'Delhi'}\n"
     ]
    }
   ],
   "source": [
    "cities = {\"Tokyo\",\"Madrid\",\"Berlin\",\"Delhi\"}\n",
    "cities2 = {\"Tokyo\",\"Seoul\",\"kabul\",\"Madrid\"}\n",
    "cities3 = cities.difference(cities2)\n",
    "print(cities3)"
   ]
  },
  {
   "cell_type": "markdown",
   "metadata": {},
   "source": [
    "### Set Methods\n",
    "\n",
    "There are serveral in-bult methos used fro the manipulation of set.They are explained below\n",
    "\n",
    "### Isdisjoint():\n",
    "\n",
    "The isdisjiont() method checks if items of given det are present in another set.This method return False if items are present ,else it return True.\n",
    "\n",
    "### Example:\n",
    "```python\n",
    "cities = {\"Tokyo\",\"Madrid\",\"Berlin\",\"Delhi\"}\n",
    "cities2 = {\"Tokyo\",\"Seoul\",\"kabul\",\"Madrid\"}\n",
    "cities3 = cities.isdisjoint(cities2)\n",
    "print(cities3)\n",
    "```\n",
    "### issupperset():\n",
    "\n",
    "The issuperset() method check if all the items of a particular set are oresent in the original set.it return  True if all the items are present , else it return False.\n",
    "\n",
    "### Example:\n",
    "```python\n",
    "cities = {\"Tokyo\",\"Madrid\",\"Berlin\",\"Delhi\"}\n",
    "cities2 = {\"Seoul\",\"kabul\"}\n",
    "print(cities.issuperset(cities2))\n",
    "cities3 =  {\"Seoul\",\"kabul\",\"Madrid\"}\n",
    "print(cities.issuperset(cities3))\n",
    "```\n",
    "\n",
    "### issubset():\n",
    "The issubset() method check if all the items of the orginal set are present in the particular set .It return True if all the items are present , else it return ,False.\n",
    "\n",
    "### Example:\n",
    "```python\n",
    "cities = {\"Toky\",\"Madrid\",\"Berlin\",\"Delhi\"}\n",
    "cities2 = {\"Delhi\",\"Madrid\"}\n",
    "print(cities2.issubset(cities))\n",
    "```"
   ]
  },
  {
   "cell_type": "code",
   "execution_count": 14,
   "metadata": {},
   "outputs": [
    {
     "name": "stdout",
     "output_type": "stream",
     "text": [
      "True\n"
     ]
    }
   ],
   "source": [
    "cities = {\"Tokyo2\",\"Madrid\",\"Berlin\",\"Delhi\"}\n",
    "cities2 = {\"Tokyo\",\"Seoul\",\"kabul\",\"Madrid1\"}\n",
    "cities3 = cities.isdisjoint(cities2)\n",
    "print(cities3)"
   ]
  },
  {
   "cell_type": "code",
   "execution_count": 15,
   "metadata": {},
   "outputs": [
    {
     "name": "stdout",
     "output_type": "stream",
     "text": [
      "False\n",
      "False\n"
     ]
    }
   ],
   "source": [
    "cities = {\"Tokyo\",\"Madrid\",\"Berlin\",\"Delhi\"}\n",
    "cities2 = {\"Seoul\",\"kabul\"}\n",
    "print(cities.issuperset(cities2))\n",
    "cities3 =  {\"Seoul\",\"kabul\",\"Madrid\"}\n",
    "print(cities.issuperset(cities3))"
   ]
  },
  {
   "cell_type": "code",
   "execution_count": 16,
   "metadata": {},
   "outputs": [
    {
     "name": "stdout",
     "output_type": "stream",
     "text": [
      "True\n"
     ]
    }
   ],
   "source": [
    "cities = {\"Toky\",\"Madrid\",\"Berlin\",\"Delhi\"}\n",
    "cities2 = {\"Delhi\",\"Madrid\"}\n",
    "print(cities2.issubset(cities))"
   ]
  },
  {
   "cell_type": "markdown",
   "metadata": {},
   "source": [
    "### add()\n",
    "if you want to add a single item to the set add() method.\n",
    "\n",
    "### Example:\n",
    "```python\n",
    "cities = {\"Toky\",\"Madrid\",\"Berlin\",\"Delhi\"}\n",
    "cities.add(\"AbdulAziz\")\n",
    "print(cities)\n",
    "```\n",
    "### update()\n",
    "\n",
    "if you want to add more than one item,simply create another set or any other iterable object(list,tuple,dictionary),and use the update() method to add it into existing set.\n",
    "\n",
    "### Example:\n",
    "```python\n",
    "cities = {\"Toky\",\"Madrid\",\"Berlin\",\"Delhi\"}\n",
    "cities2 = {\"Delhi\",\"Madrid\"}\n",
    "cities.update(cities2)\n",
    "```\n",
    "### remove().discard()\n",
    "\n",
    "we can remove() and discard() method to remove from list.\n",
    "\n",
    "### Example:\n",
    "```python\n",
    "cities = {\"Toky\",\"Madrid\",\"Berlin\",\"Delhi\"}\n",
    "cities.remove(\"Tokyo\")\n",
    "print(cities)\n",
    "```\n",
    "\n",
    "The main difference between remove and discard is that ,if we try to delete an item which is not present in set, then remove raises an error , where discard() dose  ot raise any error.\n",
    "\n",
    "### Example:\n",
    "```python\n",
    "cities = {\"Toky\",\"Madrid\",\"Berlin\",\"Delhi\"}\n",
    "cities.remove(\"Madrid\")\n",
    "print(cities)\n",
    "```\n",
    "\n",
    "### pop()\n",
    "\n",
    "this method remove the last of the set but the catch is that we don't know which item gots popped sets are unordered. However,you can access the popped items if you assign the pop()\n",
    "method to a variable.\n",
    "\n",
    "### Example:\n",
    "```python\n",
    "cities = {\"Toky\",\"Madrid\",\"Berlin\",\"Delhi\"}\n",
    "itme = cities.pop()\n",
    "print(cities)\n",
    "```\n",
    "### del\n",
    "\n",
    "del is not a method , rather it is keword which deletes the set entirely.\n",
    "\n",
    "### Example:\n",
    "```python\n",
    "cities = {\"Toky\",\"Madrid\",\"Berlin\",\"Delhi\"}\n",
    "del cities\n",
    "print(cities)\n",
    "```\n",
    "NameError:name 'cities' is not defined we get an error because our ntier set has been deleted and there is not variable called cities which contains a set.\n",
    "\n",
    "what if we don't want to delet the entire set, we just want to delet all items within that set?\n",
    "\n",
    "### Clear():\n",
    "This method clear all items in the set and printed an empty set.\n",
    "\n",
    "### example:\n",
    "```python\n",
    "cities = {\"Toky\",\"Madrid\",\"Berlin\",\"Delhi\"}\n",
    "cities.clear()\n",
    "print(cities)\n",
    "```\n",
    "\n",
    "### Check if item exists\n",
    "\n",
    "you can check if an item exist in the set or not.\n",
    "\n",
    "#### Example:\n",
    "```python\n",
    "info = {\"aziz\",19,False,5.9}\n",
    "if \"Aziz\" in info:\n",
    "    print(\"Aziz is present\")\n",
    "else:\n",
    "    print(\"Aziz is absent\")\n",
    "```"
   ]
  },
  {
   "cell_type": "code",
   "execution_count": 18,
   "metadata": {},
   "outputs": [
    {
     "name": "stdout",
     "output_type": "stream",
     "text": [
      "{'Madrid', 'Berlin', 'Delhi'}\n"
     ]
    }
   ],
   "source": [
    "cities = {\"Tokyo\",\"Madrid\",\"Berlin\",\"Delhi\"}\n",
    "cities.remove(\"Tokyo\")\n",
    "print(cities)"
   ]
  },
  {
   "cell_type": "code",
   "execution_count": 19,
   "metadata": {},
   "outputs": [
    {
     "name": "stdout",
     "output_type": "stream",
     "text": [
      "{'Toky', 'Berlin', 'Delhi'}\n"
     ]
    }
   ],
   "source": [
    "cities = {\"Toky\",\"Madrid\",\"Berlin\",\"Delhi\"}\n",
    "cities.discard(\"Madrid\")\n",
    "print(cities)"
   ]
  },
  {
   "cell_type": "code",
   "execution_count": 21,
   "metadata": {},
   "outputs": [
    {
     "name": "stdout",
     "output_type": "stream",
     "text": [
      "Aziz is present\n"
     ]
    }
   ],
   "source": [
    "info = {\"Aziz\",19,False,5.9}\n",
    "if \"Aziz\" in info:\n",
    "    print(\"Aziz is present\")\n",
    "else:\n",
    "    print(\"Aziz is absent\")"
   ]
  },
  {
   "cell_type": "code",
   "execution_count": null,
   "metadata": {},
   "outputs": [],
   "source": []
  }
 ],
 "metadata": {
  "kernelspec": {
   "display_name": "Python 3",
   "language": "python",
   "name": "python3"
  },
  "language_info": {
   "codemirror_mode": {
    "name": "ipython",
    "version": 3
   },
   "file_extension": ".py",
   "mimetype": "text/x-python",
   "name": "python",
   "nbconvert_exporter": "python",
   "pygments_lexer": "ipython3",
   "version": "3.11.4"
  },
  "orig_nbformat": 4
 },
 "nbformat": 4,
 "nbformat_minor": 2
}
