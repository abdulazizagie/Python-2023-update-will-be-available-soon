{
 "cells": [
  {
   "cell_type": "code",
   "execution_count": 12,
   "metadata": {},
   "outputs": [
    {
     "name": "stdout",
     "output_type": "stream",
     "text": [
      "Question for Rs.1000\n",
      "a.python\n",
      "b.French\n",
      "c.Javascript\n",
      "d.Phd\n",
      "correct answer , you have won 1000\n",
      "Question for Rs.2000\n",
      "a.python\n",
      "b.French\n",
      "c.Javascript\n",
      "d.Phd\n",
      "correct answer , you have won 2000\n",
      "Question for Rs.3000\n",
      "a.python\n",
      "b.French\n",
      "c.Javascript\n",
      "d.Phd\n",
      "yoou take home money is 320000\n"
     ]
    }
   ],
   "source": [
    "questions =[ \n",
    "[\n",
    "    \"which language was used to create fb?\",\n",
    " \"python\",\"French\",\"Javascript\",\"Phd\",\"None\",4\n",
    " ],\n",
    "[\n",
    "    \"which language was used to create fb?\",\n",
    " \"python\",\"French\",\"Javascript\",\"Phd\",\"None\",4\n",
    " ],\n",
    "[\n",
    "    \"which language was used to create fb?\",\n",
    " \"python\",\"French\",\"Javascript\",\"Phd\",\"None\",4\n",
    " ],\n",
    "]\n",
    "\n",
    "levels = [1000,2000,3000,4000,5000,6000,10000,20000,40000,80000,160000,320000]\n",
    "mony = 0\n",
    "\n",
    "for i in range(len(questions)):\n",
    "    question = questions[i]\n",
    "    print(f\"Question for Rs.{levels[i]}\")\n",
    "    print(f\"a.{question[1]}\")\n",
    "    print(f\"b.{question[2]}\")\n",
    "    print(f\"c.{question[3]}\")\n",
    "    print(f\"d.{question[4]}\")\n",
    "    \n",
    "    reply = int(input(\"Enter your answer {1-4} or 0 quit\"))\n",
    "    if (reply ==0):\n",
    "        mony = levels[-1]\n",
    "        break\n",
    "    \n",
    "    if reply == question[-1]:\n",
    "        print(f\"correct answer , you have won {levels[i]}\")\n",
    "        if (i ==4):\n",
    "            mony = 10000\n",
    "    else:\n",
    "        print(\"Worng answer\")\n",
    "        break\n",
    "print(f\"yoou take home money is {mony}\")\n"
   ]
  },
  {
   "cell_type": "code",
   "execution_count": null,
   "metadata": {},
   "outputs": [],
   "source": []
  }
 ],
 "metadata": {
  "kernelspec": {
   "display_name": "Python 3",
   "language": "python",
   "name": "python3"
  },
  "language_info": {
   "codemirror_mode": {
    "name": "ipython",
    "version": 3
   },
   "file_extension": ".py",
   "mimetype": "text/x-python",
   "name": "python",
   "nbconvert_exporter": "python",
   "pygments_lexer": "ipython3",
   "version": "3.11.4"
  },
  "orig_nbformat": 4
 },
 "nbformat": 4,
 "nbformat_minor": 2
}
