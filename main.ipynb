{
 "cells": [
  {
   "cell_type": "markdown",
   "metadata": {},
   "source": [
    "```python \n",
    "if \"__name__\" == \"__main__\" in python\n",
    "```\n",
    "\n",
    "The if __name == \"__main__\" idiom is a common pattern used in python to determine whether the script is being run directly or being imported as a module into another script.\n",
    "\n",
    "In python , the __name__  variable is a built-in variable that is automatically set to the name of the current module.When an python scripts is run directly,the  __name__ variable is set to the seting __main__ when the script is imported as a module into another script, the __name__ variable is et to the name of the module.\n",
    "\n",
    "Here's an example of how the if __name__ == __main__ idiom can be used:\n",
    "\n",
    "```python\n",
    "def main():\n",
    "    # Code to be run when the scripts is run directly\n",
    "    print(\"Running scripts directly\")\n",
    "\n",
    "if __name__ == \"__main__\":\n",
    "    main()\n",
    "```\n",
    "\n",
    "In this example, the main funcation contains the code that should be run when the script is run directly, the if statment at the bottom checks whether the __name__ variable is equal to __main__. if it is ,the main funcation is called.\n",
    "\n",
    "### Why is itr useful?\n",
    "\n",
    "This idiom is useful because it allows you to reuse code from a scripts by importing it as a module into another scripts, without runing the code int he orignal script.For example.\n",
    "consider the dollowing scripts:\n",
    "```python\n",
    "def main():\n",
    "    print(\"Running scripts directly\")\n",
    "\n",
    "if __name__ == \"__main__\":\n",
    "    main()\n",
    "```\n",
    "i fyou run this scripts diractly, it will output \"Running script directly\".However,if you import it as a module into another script and call the main funcation imported module.it will not output anything:\n",
    "\n",
    "```python\n",
    "import script\n",
    "\n",
    "scrit.main() # output : \"Running script directly\"\n",
    "```\n",
    "This can be useful if you have code that you want to reuse in multiple scripts, but you only want it to run when the script is run  directly and not when it;s imported as a module.\n",
    "\n",
    "### Is it a necessity?\n",
    "\n",
    "It's important to not that the if __name__ == \"__main__\" idiom is a common pattern used in python scripts to determine whether the scripts is being run directly or being imported as a module into another scripts.It allows you to reuse code from a scripts by importing it as a module into another scripts, without running the code in the original script."
   ]
  },
  {
   "cell_type": "code",
   "execution_count": 1,
   "metadata": {},
   "outputs": [
    {
     "ename": "ModuleNotFoundError",
     "evalue": "No module named 'harry'",
     "output_type": "error",
     "traceback": [
      "\u001b[1;31m---------------------------------------------------------------------------\u001b[0m",
      "\u001b[1;31mModuleNotFoundError\u001b[0m                       Traceback (most recent call last)",
      "\u001b[1;32md:\\project file\\Python 2023\\main.ipynb Cell 2\u001b[0m line \u001b[0;36m1\n\u001b[1;32m----> <a href='vscode-notebook-cell:/d%3A/project%20file/Python%202023/main.ipynb#W1sZmlsZQ%3D%3D?line=0'>1</a>\u001b[0m \u001b[39mimport\u001b[39;00m \u001b[39mharry\u001b[39;00m \n\u001b[0;32m      <a href='vscode-notebook-cell:/d%3A/project%20file/Python%202023/main.ipynb#W1sZmlsZQ%3D%3D?line=2'>3</a>\u001b[0m harry\u001b[39m.\u001b[39mwelcom()\n",
      "\u001b[1;31mModuleNotFoundError\u001b[0m: No module named 'harry'"
     ]
    }
   ],
   "source": [
    "import harry \n",
    "\n",
    "harry.welcom()"
   ]
  },
  {
   "cell_type": "code",
   "execution_count": null,
   "metadata": {},
   "outputs": [],
   "source": []
  }
 ],
 "metadata": {
  "kernelspec": {
   "display_name": "Python 3",
   "language": "python",
   "name": "python3"
  },
  "language_info": {
   "codemirror_mode": {
    "name": "ipython",
    "version": 3
   },
   "file_extension": ".py",
   "mimetype": "text/x-python",
   "name": "python",
   "nbconvert_exporter": "python",
   "pygments_lexer": "ipython3",
   "version": "3.11.4"
  },
  "orig_nbformat": 4
 },
 "nbformat": 4,
 "nbformat_minor": 2
}
