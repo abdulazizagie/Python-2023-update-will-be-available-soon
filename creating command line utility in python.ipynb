{
 "cells": [
  {
   "cell_type": "markdown",
   "metadata": {},
   "source": [
    "### Creating Command Line Ultilities in Python\n",
    "\n",
    "Command line utilites are programs that canbe run from the terminal or command line interface, and thay are an essential part of many development workflows.In python, you can create your own command line utilities usinf the built-in argparse module.\n",
    "\n",
    "### Syntax\n",
    "Here is the basic syntax for creating a command line utility using argparse in python:\n",
    "\n",
    "```python\n",
    "import argparse\n",
    "\n",
    "parser = argparse.ArgumantParser()\n",
    "\n",
    "# Add command line argumants\n",
    "parser.add_argumant(\"arg1\",help=\"description of argumant 1\")\n",
    "parser.add_argumant(\"arg1\",help=\"description of argumant 2\")\n",
    "\n",
    "# Parse the argumants\n",
    "args = parser.parse_args()\n",
    "\n",
    "# Use the argumant in your code\n",
    "print(args.arg1)\n",
    "print(args.arg2)\n",
    "\n",
    "```\n",
    "\n",
    "### Examples\n",
    "Here are few example to help you get started with creating command line utilities in python:\n",
    "\n",
    "### Adding optional argumants\n",
    "\n",
    "The following example showa how to add an optional argumant to your command line utility:\n",
    "\n",
    "```python\n",
    "import argparse\n",
    "\n",
    "parser = argparse.ArgumantParser(\"-o\",\"--optional\",\n",
    "help = \"description of optional argumant\",\n",
    "defult = \"default_value\")\n",
    "\n",
    "args = parser.parse_args()\n",
    "\n",
    "print(args.optional)\n",
    "```\n",
    "### Adding positionall argumants\n",
    "The following example shows how to add a positional argumant to your command line utility:\n",
    "\n",
    "```python\n",
    "import argparse\n",
    "\n",
    "parser.add_argumant(\"opsitional\",help=\"description of positional argumant\")\n",
    "\n",
    "args = parser.parse_args()\n",
    "```\n",
    "### Adding positional argumants\n",
    "\n",
    "The following example show to add a postional argumant to your command line utility:\n",
    "\n",
    "```python\n",
    "import argparse\n",
    "\n",
    "parser = argparse.ArgumantParser()\n",
    "\n",
    "parser.add_argumant(\"postional\",help=\"description of postional argumant\")\n",
    "\n",
    "argss = parser.parse_args()\n",
    "\n",
    "print(args.postional)\n",
    "```\n",
    "\n",
    "### Adding argumants with type\n",
    "\n",
    "The fillowing example show  how to add an argument with a specified type:\n",
    "\n",
    "```python\n",
    "import argparse\n",
    "\n",
    "parser = argparse.ArgumantParser()\n",
    "parser.add_argumant(\"-n\",type=int,help=\"description of intefer argumant\")\n",
    "\n",
    "args = parser.parse_arg()\n",
    "\n",
    "print(arg.n)\n",
    "```\n",
    "\n",
    "### Conclusion\n",
    "\n",
    "creating command line utilities in python is a straightforward and flexible process thanks to the argparse module.With a few lines of code,ypu can create powerful and customizable command line tools that can make your development workflow easier and more efficient ,Whether your're working on small scripts or large application, argparse module is a must-have tool for any python developer."
   ]
  },
  {
   "cell_type": "code",
   "execution_count": null,
   "metadata": {},
   "outputs": [],
   "source": [
    "import argparse\n",
    "import requests\n",
    "\n",
    "def download_file(url, local_filename): \n",
    "  if local_filename is None:\n",
    "    local_filename = url.split('/')[-1]\n",
    "    # NOTE the stream=True parameter below\n",
    "  with requests.get(url, stream=True) as r:\n",
    "      r.raise_for_status()\n",
    "      with open(local_filename, 'wb') as f:\n",
    "          for chunk in r.iter_content(chunk_size=8192): \n",
    "              # If you have chunk encoded response uncomment if\n",
    "              # and set chunk_size parameter to None.\n",
    "              #if chunk: \n",
    "              f.write(chunk)\n",
    "  return local_filename\n",
    "  \n",
    "parser = argparse.ArgumentParser()\n",
    "\n",
    "# Add command line arguments\n",
    "parser.add_argument(\"url\", help=\"Url of the file to download\")\n",
    "# parser.add_argument(\"output\", help=\"by which name do you want to save your file\")\n",
    "parser.add_argument(\"-o\", \"--output\", type=str, help=\"Name of the file\", default=None)\n",
    "\n",
    "# Parse the arguments\n",
    "args = parser.parse_args()\n",
    "\n",
    "# Use the arguments in your code\n",
    "print(args.url)\n",
    "print(args.output, type(args.output))\n",
    "download_file(args.url, args.output)"
   ]
  },
  {
   "cell_type": "code",
   "execution_count": 1,
   "metadata": {},
   "outputs": [
    {
     "name": "stdout",
     "output_type": "stream",
     "text": [
      "[2, 3]\n"
     ]
    }
   ],
   "source": [
    "x = [1, 2, 3, 4, 5]\n",
    "print(x[1:3])"
   ]
  },
  {
   "cell_type": "code",
   "execution_count": 1,
   "metadata": {},
   "outputs": [
    {
     "name": "stdout",
     "output_type": "stream",
     "text": [
      "6\n",
      "7\n"
     ]
    }
   ],
   "source": [
    "def outer():\n",
    "    x = 5\n",
    "    def inner():\n",
    "        nonlocal x\n",
    "        x += 1\n",
    "        return x\n",
    "    return inner\n",
    "\n",
    "func = outer()\n",
    "print(func())\n",
    "print(func())\n"
   ]
  },
  {
   "cell_type": "code",
   "execution_count": 3,
   "metadata": {},
   "outputs": [
    {
     "name": "stdout",
     "output_type": "stream",
     "text": [
      "[[0, 1, 2], [0, 1, 2], [0, 1, 2]]\n",
      "[0, 1, 2]\n"
     ]
    }
   ],
   "source": [
    "matrix = [[j for j in range(3)] for i in range(3)]\n",
    "print(matrix)\n",
    "result = [matrix[i][i] for i in range(len(matrix))]\n",
    "print(result)\n"
   ]
  },
  {
   "cell_type": "code",
   "execution_count": 5,
   "metadata": {},
   "outputs": [
    {
     "name": "stdout",
     "output_type": "stream",
     "text": [
      "Entering context\n",
      "Inside generator\n"
     ]
    }
   ],
   "source": [
    "class ContextManager:\n",
    "    def __enter__(self):\n",
    "        print(\"Entering context\")\n",
    "        return self\n",
    "\n",
    "    def __exit__(self, exc_type, exc_val, exc_tb):\n",
    "        print(\"Exiting context\")\n",
    "\n",
    "def generator():\n",
    "    with ContextManager() as cm:\n",
    "        yield \"Inside generator\"\n",
    "\n",
    "gen = generator()\n",
    "print(next(gen))\n",
    "print(next(gen))\n"
   ]
  },
  {
   "cell_type": "code",
   "execution_count": 6,
   "metadata": {},
   "outputs": [
    {
     "name": "stdout",
     "output_type": "stream",
     "text": [
      "Getting attribute\n",
      "Setting attribute\n",
      "Getting attribute\n"
     ]
    }
   ],
   "source": [
    "class Descriptor:\n",
    "    def __get__(self, instance, owner):\n",
    "        return \"Getting attribute\"\n",
    "\n",
    "    def __set__(self, instance, value):\n",
    "        print(\"Setting attribute\")\n",
    "        instance._attribute = value\n",
    "\n",
    "class MyClass:\n",
    "    attr = Descriptor()\n",
    "\n",
    "obj = MyClass()\n",
    "print(obj.attr)\n",
    "obj.attr = 10\n",
    "print(obj.attr)\n"
   ]
  },
  {
   "cell_type": "code",
   "execution_count": null,
   "metadata": {},
   "outputs": [],
   "source": []
  }
 ],
 "metadata": {
  "kernelspec": {
   "display_name": "Python 3",
   "language": "python",
   "name": "python3"
  },
  "language_info": {
   "codemirror_mode": {
    "name": "ipython",
    "version": 3
   },
   "file_extension": ".py",
   "mimetype": "text/x-python",
   "name": "python",
   "nbconvert_exporter": "python",
   "pygments_lexer": "ipython3",
   "version": "3.10.6"
  },
  "orig_nbformat": 4
 },
 "nbformat": 4,
 "nbformat_minor": 2
}
