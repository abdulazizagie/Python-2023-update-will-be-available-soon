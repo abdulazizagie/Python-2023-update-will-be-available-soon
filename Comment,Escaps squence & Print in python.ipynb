{
 "cells": [
  {
   "attachments": {},
   "cell_type": "markdown",
   "metadata": {},
   "source": [
    "### Day 5- Comments, Escape Sequence & Print in  python\n",
    "---\n",
    "welcom to Day 5 of 100 Days of Code . today wo will talk about Comment, Escape Sequence and Litter bit more about print statment i  python , we will also throw some light on Escape Sequence\n",
    "\n",
    "### Python Comments\n",
    "---\n",
    "Acomment is a part od the coding file that the programmer does not want to execute, rather the programer it to either explain a block of code or the avoid the execution od a specific part of code while testing.\n",
    "\n",
    "### Single-Line Comments:\n",
    "---\n",
    "To write a comment just add a'#'at the strat of the line\n",
    "\n",
    "### Example 1 :\n",
    "---\n",
    "#This is a 'Single-Line Cpmment\n",
    "print('This is a print statment.')\n",
    "\n",
    "---\n",
    "output:\n",
    ">This is a print statment.\n",
    "\n",
    "### Example 2 :\n",
    "---\n",
    "print(\"Hello World !!!) # printing Hello world\n",
    "\n",
    "output:\n",
    "> Hello World !!!\n",
    "\n",
    "### Example 3 :\n",
    "---\n",
    ">print(\"Python program\")\n",
    "output:\n",
    ">python program"
   ]
  },
  {
   "cell_type": "code",
   "execution_count": null,
   "metadata": {},
   "outputs": [],
   "source": [
    "# Hey Harry , Please dont renove this line\n",
    "# Author: Harry\n",
    "# Coures : 100Dayofcoder\n",
    "print(\"Hello Iam a good boy\\nand this viewer is also a good boy/girl\")\n",
    "\n",
    "print(\"Hello world\")\n",
    "# This is a 'Single-Line Comment'\n",
    "print(\"This is a print statment.\")\n",
    "print('Hello world !!!') # Print Hello world\n"
   ]
  },
  {
   "attachments": {},
   "cell_type": "markdown",
   "metadata": {},
   "source": [
    "# Multi-Line Comment:"
   ]
  },
  {
   "attachments": {},
   "cell_type": "markdown",
   "metadata": {},
   "source": [
    "TO write multi-line comment you can use '#' at each line or use the multiline string.\n",
    "\n",
    "### Example 1:The use of '#'."
   ]
  },
  {
   "cell_type": "code",
   "execution_count": 2,
   "metadata": {},
   "outputs": [
    {
     "name": "stdout",
     "output_type": "stream",
     "text": [
      "p is greater then 5.\n"
     ]
    }
   ],
   "source": [
    "# IT will execute a block of code if a specified condition is ttue.\n",
    "# if the confition is false then execute another block of code.\n",
    "p = 7\n",
    "if (p>5):\n",
    "    print(\"p is greater then 5.\")\n",
    "else:\n",
    "    print(\"p is not greater then 5.\")"
   ]
  },
  {
   "cell_type": "code",
   "execution_count": null,
   "metadata": {},
   "outputs": [],
   "source": []
  },
  {
   "attachments": {},
   "cell_type": "markdown",
   "metadata": {},
   "source": [
    "### OUTput:\n",
    "\n",
    "> p is greater then 5."
   ]
  },
  {
   "attachments": {},
   "cell_type": "markdown",
   "metadata": {},
   "source": [
    "#### Example 2: The use of multiline string."
   ]
  },
  {
   "cell_type": "code",
   "execution_count": 3,
   "metadata": {},
   "outputs": [
    {
     "name": "stdout",
     "output_type": "stream",
     "text": [
      "p is grerer then 5.\n"
     ]
    }
   ],
   "source": [
    "\"\"\"\n",
    "This is an if-else statment.\n",
    "IT will execute a block of code is a condition is true.\n",
    "if the condition is false then it will execute block of code.\n",
    "\"\"\"\n",
    "p = 7\n",
    "if (p > 5):\n",
    "    print(\"p is grerer then 5.\")\n",
    "else:\n",
    "    print(\"p is not greater then 5.\")"
   ]
  },
  {
   "attachments": {},
   "cell_type": "markdown",
   "metadata": {},
   "source": [
    "### Escape Sequence Characters\n",
    "To insert cheracters that cannot be directly used in a string , we use an escape sequence cheracter.\n",
    "\n",
    "An escape sequence character is a backlash \\ followed by the character you want to insert.\n",
    "\n",
    "An example of a character that cannot be directly used in a string is a double quote inside a string that is surrond by double quotes:"
   ]
  },
  {
   "cell_type": "code",
   "execution_count": null,
   "metadata": {},
   "outputs": [
    {
     "name": "stdout",
     "output_type": "stream",
     "text": [
      "This will \"execute\n"
     ]
    }
   ],
   "source": [
    "# print(\"This doesnt \"execute\")\n",
    "# print(\"This will \\\"execute\")"
   ]
  },
  {
   "cell_type": "code",
   "execution_count": 6,
   "metadata": {},
   "outputs": [
    {
     "name": "stdout",
     "output_type": "stream",
     "text": [
      "Hello world\n"
     ]
    }
   ],
   "source": [
    "\"\"\"\n",
    "This is an if-else statment.\n",
    "IT will execute a block of code is a condition is true.\n",
    "if the condition is false then it will execute block of code.\n",
    "\"\"\"\n",
    "print(\"Hey I am a \\\"good boy\\\"\\nand this viewer is also a good boy/gil\" )\n",
    "\n",
    "print(\"Hello world\")\n",
    "# This is a 'Single-Line Comment'\n",
    "print(\"This is a print statment\")\n",
    "print(\"Hello world !!! \") # printing Hello World"
   ]
  },
  {
   "attachments": {},
   "cell_type": "markdown",
   "metadata": {},
   "source": [
    "### More on print statment\n",
    "The syntax of a print statment looks somthing like this:\n",
    ">print(object(s) , sep=separator,end=end,file=file,flush=flush)\n",
    "\n",
    "#### other Parameters of print statment\n",
    "1. object(s):Any object,and as many as you like.will be converted to string before printed\n",
    "2. sep='separator':specify how to separate the objects,if there is more then one.Default is\" \"\n",
    "3. end=end:specify what to point at the end,Default is '\\n' (Line feed)\n",
    "4. file:AN object with a write method.Default is sys.stdout\n",
    "5. parameter 2 to 4 are optional"
   ]
  },
  {
   "cell_type": "code",
   "execution_count": 7,
   "metadata": {},
   "outputs": [
    {
     "name": "stdout",
     "output_type": "stream",
     "text": [
      "Hey~6~7009\n",
      "harrey\n"
     ]
    }
   ],
   "source": [
    "print(\"Hey\",6,7,sep='~',end='009\\n')\n",
    "print('harrey')"
   ]
  },
  {
   "cell_type": "code",
   "execution_count": null,
   "metadata": {},
   "outputs": [],
   "source": []
  }
 ],
 "metadata": {
  "kernelspec": {
   "display_name": "Python 3",
   "language": "python",
   "name": "python3"
  },
  "language_info": {
   "codemirror_mode": {
    "name": "ipython",
    "version": 3
   },
   "file_extension": ".py",
   "mimetype": "text/x-python",
   "name": "python",
   "nbconvert_exporter": "python",
   "pygments_lexer": "ipython3",
   "version": "3.11.3"
  },
  "orig_nbformat": 4
 },
 "nbformat": 4,
 "nbformat_minor": 2
}
