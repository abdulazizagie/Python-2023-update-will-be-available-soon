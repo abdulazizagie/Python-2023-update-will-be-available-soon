{
 "cells": [
  {
   "cell_type": "markdown",
   "metadata": {},
   "source": [
    "### Write a python program to translate a message into secret code  language.Use the rules below to translate normal English into code language\n",
    "\n",
    "\n",
    "### Coding:\n",
    "if the words contins atlest 3 characters , remove the first letter and append it at the end now end now append three random characters at the starting and the end\n",
    "### else:\n",
    "    simply reverse the string\n",
    "\n",
    "### Decoding:\n",
    "if the word contatins less 3 character, reverse it\n",
    "### else:\n",
    "    remove 3 random character from start and end.Now remove the last latter  and append it o the beginning\n",
    "\n",
    "your program should ask whether you want to code or decode"
   ]
  },
  {
   "cell_type": "code",
   "execution_count": 1,
   "metadata": {},
   "outputs": [
    {
     "name": "stdout",
     "output_type": "stream",
     "text": [
      "['c', 'I', 'c']\n"
     ]
    }
   ],
   "source": [
    "import random as r\n",
    "import string\n",
    "a = []\n",
    "for i in range(3):\n",
    "    a.append(r.choice(string.ascii_letters))\n",
    "    \n",
    "print(a)"
   ]
  },
  {
   "cell_type": "code",
   "execution_count": 2,
   "metadata": {},
   "outputs": [
    {
     "name": "stdout",
     "output_type": "stream",
     "text": [
      "['aziz', 'is', 'a', 'good', 'man', '.he', 'is', 'nice', 'man', 'because']\n",
      "************************\n",
      "Yovzazi si\n",
      "Yovzazi si a\n",
      "Yovzazi si a xiOdgoo nam\n",
      "Yovzazi si a xiOdgoo nam eh.\n",
      "Yovzazi si a xiOdgoo nam eh. si\n",
      "Yovzazi si a xiOdgoo nam eh. si CzCenic nam\n",
      "['Yovzazi', 'si', 'a', 'xiOdgoo', 'nam', 'eh.', 'si', 'CzCenic', 'nam', 'Ebzausebec']\n"
     ]
    }
   ],
   "source": [
    "import random as r\n",
    "import string \n",
    "\n",
    "\n",
    "a = \"aziz is a good man .he is nice man because\"\n",
    "b = a.split(\" \")\n",
    "print(b)\n",
    "print(\"************************\")\n",
    "text = []\n",
    "c = []\n",
    "for i in b:\n",
    "    if len(i) > 3:\n",
    "        \n",
    "        for j in range(3):            \n",
    "            c.append(r.choice(string.ascii_letters))\n",
    "        if len(c) == 3 :\n",
    "            xx = c[0:3]\n",
    "            d = \"\".join(xx)\n",
    "            xx = d+i[3:]+i[0:3]   \n",
    "            text.append(xx)\n",
    "             \n",
    "            \n",
    "        elif len(c) == 6:\n",
    "            xx = c[3:6]\n",
    "            d = \"\".join(xx)\n",
    "            xx = d+i[3:]+i[0:3]    \n",
    "            \n",
    "            text.append(xx)\n",
    "        elif len(c) == 9:\n",
    "            xx = c[6:9]\n",
    "            d = \"\".join(xx)\n",
    "            xx = d+i[3:]+i[0:3]    \n",
    "            \n",
    "            text.append(xx)\n",
    "        elif len(c) >= 11:\n",
    "            xx = c[9:]\n",
    "            d = \"\".join(xx)\n",
    "            xx = d+i[3:]+i[0:3]    \n",
    "            \n",
    "            text.append(xx)\n",
    "    else:\n",
    "        text.append(i[::-1])\n",
    "        print(\" \".join(text))\n",
    "        \n",
    "print(text)\n"
   ]
  },
  {
   "cell_type": "code",
   "execution_count": 7,
   "metadata": {},
   "outputs": [
    {
     "name": "stdout",
     "output_type": "stream",
     "text": [
      "['zazi', 'si', 'a', 'dgoo', 'nam', 'eh.', 'si', 'enic', 'nam', 'ausebec']\n",
      "aziz\n",
      "good\n",
      "nice\n",
      "because\n",
      "['aziz', 'is', 'a', 'good', 'man', '.he', 'is', 'nice', 'man', 'because']\n"
     ]
    }
   ],
   "source": [
    "text = ['Yovzazi', 'si', 'a', 'xiOdgoo', 'nam', 'eh.', 'si', 'CzCenic', 'nam', 'Ebzausebec']\n",
    "\n",
    "text1 = []\n",
    "for i in text:\n",
    "    if len(i) > 3:\n",
    "        \n",
    "        orignal_value = i[:3].replace(i[:3],i[3:])\n",
    "        # print(orignal_value)\n",
    "    \n",
    "        text1.append(orignal_value)\n",
    "        \n",
    "    else:\n",
    "        text1.append(i)\n",
    "        \n",
    "print(text1) \n",
    "text2 = []\n",
    "for i in text1:\n",
    "    \n",
    "    if len(i) == 4:\n",
    "        x = i[1:]+i[0:1]\n",
    "        print(x)\n",
    "        \n",
    "        text2.append(x)    \n",
    "    elif len(i) >= 4:\n",
    "        x = i[4:]+i[0:4]\n",
    "        print(x)\n",
    "        text2.append(x)\n",
    "    else:\n",
    "        text2.append(i[::-1])\n",
    "        \n",
    "print(text2)"
   ]
  },
  {
   "cell_type": "code",
   "execution_count": null,
   "metadata": {},
   "outputs": [],
   "source": []
  }
 ],
 "metadata": {
  "kernelspec": {
   "display_name": "Python 3",
   "language": "python",
   "name": "python3"
  },
  "language_info": {
   "codemirror_mode": {
    "name": "ipython",
    "version": 3
   },
   "file_extension": ".py",
   "mimetype": "text/x-python",
   "name": "python",
   "nbconvert_exporter": "python",
   "pygments_lexer": "ipython3",
   "version": "3.11.4"
  },
  "orig_nbformat": 4
 },
 "nbformat": 4,
 "nbformat_minor": 2
}
