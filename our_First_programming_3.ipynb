{
 "cells": [
  {
   "attachments": {},
   "cell_type": "markdown",
   "metadata": {},
   "source": [
    "### Day-4 our First Program\n",
    "\n",
    "- Today will our first ever python program from scratch. It will consist of a bunch of print statements. print can br used to print something on the consol in python\n",
    "\n",
    "\n",
    "### Quick Quiz\n",
    "- White a program to print a poem in python . Choose the poem of you choice and publish your repl"
   ]
  },
  {
   "cell_type": "code",
   "execution_count": null,
   "metadata": {},
   "outputs": [],
   "source": []
  }
 ],
 "metadata": {
  "language_info": {
   "name": "python"
  },
  "orig_nbformat": 4
 },
 "nbformat": 4,
 "nbformat_minor": 2
}
