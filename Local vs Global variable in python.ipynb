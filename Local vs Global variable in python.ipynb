{
 "cells": [
  {
   "cell_type": "markdown",
   "metadata": {},
   "source": [
    "### Local and global variables\n",
    "\n",
    "Before we dive into differences between local and global variables, we can first recall what is in python.\n",
    "\n",
    "A variable is a named location in memary that stores a value .In python , we can assing value to varaibles using the assignment operater = .For example:\n",
    "\n",
    "```python\n",
    "x = 5\n",
    "y = \"Hello, world!\"\n",
    "```\n",
    "Now , let's talk about local and global variables.\n",
    "\n",
    "Alocal variable is avariable that is defined within a funcation and is only accessible within that funcation .It is create when the funcation is called and ia destoryed when the funcation returns.\n",
    "\n",
    "on the other hand , a global variable is a vriable that is defined outside of a funcation and is accessible from within any funcation in your code.\n",
    "\n",
    "Here's example to help clarify the difference:\n",
    "```python\n",
    "x = 10\n",
    "\n",
    "def my_function():\n",
    "    y = 5 #local variable\n",
    "    print(y)\n",
    "\n",
    "my_funcation()\n",
    "print(x)\n",
    "print(y) # this will cause an error because y is a loacl variable and is not accessible outside of the funcation\n",
    "```\n",
    "In this example , we have a global variable x and a local variable y.we can access the value of the global variable x from within the funcation, but we cannot access the value of the local variable y outside of the funcation.\n",
    "\n",
    "### The Global Keyword\n",
    "\n",
    "Now , ehat if we want to modify a global variable from within a funcation? this is where the global keyword comes in.\n",
    "\n",
    "the global keyword is used to declare that a variable is a gloabl variable and should be accessed from the gloable scope.Here's an example\n",
    "\n",
    "```python\n",
    "x = 10 # global variable\n",
    "\n",
    "def my_funcation():\n",
    "    global x\n",
    "    x = 5 # this will change the value of the global variable x\n",
    "\n",
    "    y = 5 # local variable\n",
    "\n",
    "my_funcation()\n",
    "print(x) # prints 5\n",
    "print(y) # this will cause an error brcause y is a local variable and is not accessible outside of the funcation\n",
    "```\n",
    "In this example , we used the global keyword to declare that we want to modify the global variable x from within the funcation , As a result the value of x is changed to 5.\n",
    "\n",
    "It's important to note that it's generally considere good practice to avoid modifiving global varaible from within funcation as it can lead to unexpected behavior and make code haeer debug.\n",
    "\n",
    "I hop this tutorial has helped clarify the differences between local  and global variable and how to use the global keywor in python.\n",
    "Thanks for your watching!"
   ]
  },
  {
   "cell_type": "code",
   "execution_count": 9,
   "metadata": {},
   "outputs": [
    {
     "name": "stdout",
     "output_type": "stream",
     "text": [
      "4\n",
      "5\n",
      "Hello harray\n",
      "5\n"
     ]
    }
   ],
   "source": [
    "x = 4\n",
    "print(x)\n",
    "\n",
    "def hello():\n",
    "    global x\n",
    "    x = 5\n",
    "    print(x)\n",
    "    print(\"Hello harray\")\n",
    "\n",
    "hello()\n",
    "print(x)\n"
   ]
  },
  {
   "cell_type": "code",
   "execution_count": null,
   "metadata": {},
   "outputs": [],
   "source": []
  }
 ],
 "metadata": {
  "kernelspec": {
   "display_name": "Python 3",
   "language": "python",
   "name": "python3"
  },
  "language_info": {
   "codemirror_mode": {
    "name": "ipython",
    "version": 3
   },
   "file_extension": ".py",
   "mimetype": "text/x-python",
   "name": "python",
   "nbconvert_exporter": "python",
   "pygments_lexer": "ipython3",
   "version": "3.11.4"
  },
  "orig_nbformat": 4
 },
 "nbformat": 4,
 "nbformat_minor": 2
}
