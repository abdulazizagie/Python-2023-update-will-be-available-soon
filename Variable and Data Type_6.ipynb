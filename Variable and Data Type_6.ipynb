{
 "cells": [
  {
   "attachments": {},
   "cell_type": "markdown",
   "metadata": {},
   "source": [
    "### Day 6-Variable and Data Types\n",
    "---\n",
    "\n",
    "#### What is a variable?\n",
    "variable is like that container hold data.very similer to how our container in kitchen hold sugar, salt etc  Creating a variable is like creating a placeholder in memory and assingning it some value.In python its as easy writing:"
   ]
  },
  {
   "cell_type": "code",
   "execution_count": 1,
   "metadata": {},
   "outputs": [],
   "source": [
    "a = 1\n",
    "b = True\n",
    "c = 'Harry'\n",
    "d = None"
   ]
  },
  {
   "attachments": {},
   "cell_type": "markdown",
   "metadata": {},
   "source": [
    "#### These are four variable of different data types.\n",
    "\n",
    "\n",
    "### What is a Data Type>\n",
    "---\n",
    "Data type specifies the type of variable holds.This is required in programming to do various operations withput causing as error.\n",
    "In pyrhon , we can print the type of any operator using type funcation:"
   ]
  },
  {
   "cell_type": "code",
   "execution_count": 2,
   "metadata": {},
   "outputs": [
    {
     "name": "stdout",
     "output_type": "stream",
     "text": [
      "<class 'int'>\n",
      "<class 'str'>\n"
     ]
    }
   ],
   "source": [
    "a = 1\n",
    "print(type(a))\n",
    "b = '1'\n",
    "print(type(b))\n",
    "\n"
   ]
  },
  {
   "attachments": {},
   "cell_type": "markdown",
   "metadata": {},
   "source": [
    "By defult, python provides the following built-in data types:\n",
    "\n",
    "#### 1.Numeric data:int,float,complex\n",
    "---\n",
    "- int:3,-8,0\n",
    "- float:7.4532,-9.03424\n",
    "- complex:6+2i\n",
    "\n",
    "#### 2. Text data:str\n",
    "str:\"Hello world!!!\",\"python Programming\"\n",
    "\n",
    "#### 3.Boolean data\n",
    "Boolen data consist of value True or False\n",
    "\n",
    "#### 4.Sequenced data:List,tuple\n",
    "List:A list is a order collenction of data with element separated by a commen and enclosed within square brackts,lists are multiple and can be removed ofter creation.\n",
    "\n",
    "#### Example:"
   ]
  },
  {
   "cell_type": "code",
   "execution_count": 3,
   "metadata": {},
   "outputs": [
    {
     "name": "stdout",
     "output_type": "stream",
     "text": [
      "[8, 3.2, [-4, 5], ['apple', 'banana']]\n"
     ]
    }
   ],
   "source": [
    "list1 = [8,3.2,[-4,5],['apple','banana']]\n",
    "print(list1)"
   ]
  },
  {
   "attachments": {},
   "cell_type": "markdown",
   "metadata": {},
   "source": [
    "Tuple: A Tuple is an ordered collection of the data with elements separated bt a comma and enclosed within parentheses,tuple are immutable and can not modified after creating.\n",
    "\n",
    "Example:"
   ]
  },
  {
   "cell_type": "code",
   "execution_count": 4,
   "metadata": {},
   "outputs": [
    {
     "name": "stdout",
     "output_type": "stream",
     "text": [
      "(('Aziz', 'Basit'), ('apple', 'banana'))\n"
     ]
    }
   ],
   "source": [
    "tuple1 = ((\"Aziz\",\"Basit\"),(\"apple\",\"banana\"))\n",
    "print(tuple1)"
   ]
  },
  {
   "attachments": {},
   "cell_type": "markdown",
   "metadata": {},
   "source": [
    "### 5.Mapped data:dict\n",
    "\n",
    "dict: A dictionary is an unorder collection of data contining a key:value pair , the key:vale pairs are enclosed within curly brackets."
   ]
  },
  {
   "cell_type": "code",
   "execution_count": 5,
   "metadata": {},
   "outputs": [
    {
     "name": "stdout",
     "output_type": "stream",
     "text": [
      "{'name': 'aziz', 'age': 19, 'convote': True}\n"
     ]
    }
   ],
   "source": [
    "dict1 = {'name':'aziz','age':19,'convote':True}\n",
    "print(dict1)"
   ]
  },
  {
   "cell_type": "code",
   "execution_count": null,
   "metadata": {},
   "outputs": [],
   "source": []
  }
 ],
 "metadata": {
  "kernelspec": {
   "display_name": "Python 3",
   "language": "python",
   "name": "python3"
  },
  "language_info": {
   "codemirror_mode": {
    "name": "ipython",
    "version": 3
   },
   "file_extension": ".py",
   "mimetype": "text/x-python",
   "name": "python",
   "nbconvert_exporter": "python",
   "pygments_lexer": "ipython3",
   "version": "3.11.3"
  },
  "orig_nbformat": 4
 },
 "nbformat": 4,
 "nbformat_minor": 2
}
