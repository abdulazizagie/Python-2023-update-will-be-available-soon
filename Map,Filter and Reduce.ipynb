{
 "cells": [
  {
   "cell_type": "markdown",
   "metadata": {},
   "source": [
    "### Map,Filter and Reduce\n",
    "\n",
    "In python , the map filter , and reduce funcation are built-in funcation that allow you to apply a funcation to a sequence.These funcation are known as higher-order funcation , as they take other funcation as arguments.\n",
    "\n",
    "\n",
    "### Map\n",
    "The map funcation applies a funcation to each element ina a sequence and returns a new sequence containing the trasformed element.The map funcation has the following syntax:\n",
    "```python \n",
    "map(funcation,iterable)\n",
    "```\n",
    "The funcation argument is a funcation that is applied to each element in the iterable argument .The iterable argument can be a list,Tuple , or any other iterable object.\n",
    "\n",
    "Here is an example of how to use the map funcation:\n",
    "```python\n",
    "# List of numbers\n",
    "numbers = [1,2,3,4,5]\n",
    "\n",
    "# Diuble each number using the map funcation\n",
    "double = map(lambda x:x *2,numbers)\n",
    "\n",
    "# print the double number\n",
    "print(list(doubled))\n",
    "```\n",
    "in the above example , the lambda funcation lambda x:x*2 is used to bouble each element in the number list.The map funcation applies the lambda funcation to each element in the list and return a new list contaning the doubled numbers.\n",
    "\n",
    "### Filter\n",
    "\n",
    "The filter funcation fiter a seuence of element based on a given predicate(a funcation that return a booean value) and return a new sequence containing only the element that meet the predicate . the filter funcation has the following syntax:\n",
    "\n",
    "```python\n",
    "filter(predicate,iterable)\n",
    "```\n",
    "The predicate argument is a funcation that return a boolean value and ais applied to each element in the iterable argument.The iterable argument can be list, tuple,or any otheer iterable object.\n",
    "\n",
    "Here is an example of how to use the filter funcation:\n",
    "\n",
    "```python\n",
    "# List of number\n",
    "numbers = [1,2,3,4,5]\n",
    "\n",
    "# Get only the even number using the filter funcation\n",
    "even = filter(lambda x:x % 2 == 0,numbers)\n",
    "\n",
    "# print the even numbers\n",
    "print(list(even))\n",
    "```\n",
    "in the above eample , the lambda funcation lambda x:a % 2 == 0is used to filter the numbers list and return only the even number , The filter funcation applies the lambda funcation to each elemnt elemnt in the list return a new list contining only even number.\n",
    "\n",
    "### Reduce\n",
    "The reduce funcation is a higher-order funcztion that applies a funcation  to a sequence and has the following sytax:\n",
    "\n",
    "```python\n",
    "reduce(funcation,iterable)\n",
    "```\n",
    "The funcation argument is a funcation that takes in two argument and return a single value . thje iterable argument is a sequence of welemnt, such as list or tuple.\n",
    "\n",
    "The reduce funcation applies the funcation  to the first two elements in the iterable and then applies the funation to the result  and the next element, abd so on, the reduce funcation return the find result.\n",
    "\n",
    "Here is an example of how to use the reduce funcation\n"
   ]
  },
  {
   "cell_type": "code",
   "execution_count": 1,
   "metadata": {},
   "outputs": [
    {
     "name": "stdout",
     "output_type": "stream",
     "text": [
      "8\n",
      "[1, 8, 64, 216, 27]\n"
     ]
    }
   ],
   "source": [
    "def cube(x):\n",
    "    return x*x*x\n",
    "\n",
    "print(cube(2))\n",
    "\n",
    "l = [1,2,4,6,3]\n",
    "newl = []\n",
    "for item in l:\n",
    "    newl.append(cube(item))\n",
    "    \n",
    "print(newl)\n"
   ]
  },
  {
   "cell_type": "code",
   "execution_count": 2,
   "metadata": {},
   "outputs": [
    {
     "name": "stdout",
     "output_type": "stream",
     "text": [
      "8\n",
      "[1, 8, 64, 216, 27]\n"
     ]
    }
   ],
   "source": [
    "def cube(x):\n",
    "    return x*x*x\n",
    "\n",
    "print(cube(2))\n",
    "\n",
    "newl = list(map(cube,l))\n",
    "print(newl)\n"
   ]
  },
  {
   "cell_type": "code",
   "execution_count": 4,
   "metadata": {},
   "outputs": [
    {
     "name": "stdout",
     "output_type": "stream",
     "text": [
      "[1, 8, 64, 216, 27]\n"
     ]
    }
   ],
   "source": [
    "newl = list(map(lambda x: x*x*x,l))\n",
    "print(newl)"
   ]
  },
  {
   "cell_type": "code",
   "execution_count": 7,
   "metadata": {},
   "outputs": [
    {
     "name": "stdout",
     "output_type": "stream",
     "text": [
      "[6]\n"
     ]
    }
   ],
   "source": [
    "# Filter\n",
    "def filter_funcation(a):\n",
    "    return a>4\n",
    "\n",
    "newnewl = list(filter(filter_funcation,l))\n",
    "print(newnewl)"
   ]
  },
  {
   "cell_type": "code",
   "execution_count": 8,
   "metadata": {},
   "outputs": [
    {
     "name": "stdout",
     "output_type": "stream",
     "text": [
      "[2, 4]\n"
     ]
    }
   ],
   "source": [
    "# List of number\n",
    "numbers = [1,2,3,4,5]\n",
    "\n",
    "# Get only the even number using the filter funcation\n",
    "even = filter(lambda x:x % 2 == 0,numbers)\n",
    "\n",
    "# print the even numbers\n",
    "print(list(even))"
   ]
  },
  {
   "cell_type": "code",
   "execution_count": 9,
   "metadata": {},
   "outputs": [
    {
     "name": "stdout",
     "output_type": "stream",
     "text": [
      "15\n"
     ]
    }
   ],
   "source": [
    "from functools import reduce\n",
    "number = [1,2,3,4,5]\n",
    "\n",
    "# Caluclate the sum of the number using the reduce funcation\n",
    "sum = reduce(lambda x,y:x+y,numbers)\n",
    "\n",
    "# print the sum\n",
    "\n",
    "print(sum)"
   ]
  },
  {
   "cell_type": "code",
   "execution_count": null,
   "metadata": {},
   "outputs": [],
   "source": []
  }
 ],
 "metadata": {
  "kernelspec": {
   "display_name": "Python 3",
   "language": "python",
   "name": "python3"
  },
  "language_info": {
   "codemirror_mode": {
    "name": "ipython",
    "version": 3
   },
   "file_extension": ".py",
   "mimetype": "text/x-python",
   "name": "python",
   "nbconvert_exporter": "python",
   "pygments_lexer": "ipython3",
   "version": "3.11.4"
  },
  "orig_nbformat": 4
 },
 "nbformat": 4,
 "nbformat_minor": 2
}
