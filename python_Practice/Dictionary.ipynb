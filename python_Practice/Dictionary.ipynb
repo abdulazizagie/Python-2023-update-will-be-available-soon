{
 "cells": [
  {
   "cell_type": "code",
   "execution_count": 3,
   "metadata": {},
   "outputs": [],
   "source": [
    "book = {}\n",
    "book['tom'] = {\n",
    "    'name' : 'tom',\n",
    "    'address' : '1 red street, NY',\n",
    "    'phone' : 232439474\n",
    "}\n",
    "book['bab'] ={\n",
    "    'name' : 'bab',\n",
    "    'address' : '1 green strret , Ny',\n",
    "    'phone' : 234544654\n",
    "}\n",
    "\n"
   ]
  },
  {
   "cell_type": "code",
   "execution_count": 6,
   "metadata": {},
   "outputs": [
    {
     "name": "stdout",
     "output_type": "stream",
     "text": [
      "{\"tom\": {\"name\": \"tom\", \"address\": \"1 red street, NY\", \"phone\": 232439474}, \"bab\": {\"name\": \"bab\", \"address\": \"1 green strret , Ny\", \"phone\": 234544654}}\n"
     ]
    }
   ],
   "source": [
    "import json\n",
    "s = json.dumps(book)\n",
    "with open(\"D:/data/book.txt\",\"w\") as f:\n",
    "    f.write(s)\n",
    "print(s)\n"
   ]
  },
  {
   "cell_type": "code",
   "execution_count": 7,
   "metadata": {},
   "outputs": [
    {
     "name": "stdout",
     "output_type": "stream",
     "text": [
      "{\"tom\": {\"name\": \"tom\", \"address\": \"1 red street, NY\", \"phone\": 232439474}, \"bab\": {\"name\": \"bab\", \"address\": \"1 green strret , Ny\", \"phone\": 234544654}}\n"
     ]
    }
   ],
   "source": [
    "f = open(\"D:/data/book.txt\",'r')\n",
    "s = f.read()\n",
    "print(s)\n"
   ]
  },
  {
   "cell_type": "code",
   "execution_count": 12,
   "metadata": {},
   "outputs": [
    {
     "data": {
      "text/plain": [
       "'1 red street, NY'"
      ]
     },
     "execution_count": 12,
     "metadata": {},
     "output_type": "execute_result"
    }
   ],
   "source": [
    "import json\n",
    "book = json.loads(s)\n",
    "book['tom']['address']"
   ]
  },
  {
   "cell_type": "code",
   "execution_count": 4,
   "metadata": {},
   "outputs": [
    {
     "name": "stdout",
     "output_type": "stream",
     "text": [
      "{'tom': {'name': 'tom', 'address': '1 red street, NY', 'phone': 232439474}, 'bab': {'name': 'bab', 'address': '1 green strret , Ny', 'phone': 234544654}}\n"
     ]
    }
   ],
   "source": [
    "print(book)"
   ]
  }
 ],
 "metadata": {
  "kernelspec": {
   "display_name": "Python 3",
   "language": "python",
   "name": "python3"
  },
  "language_info": {
   "codemirror_mode": {
    "name": "ipython",
    "version": 3
   },
   "file_extension": ".py",
   "mimetype": "text/x-python",
   "name": "python",
   "nbconvert_exporter": "python",
   "pygments_lexer": "ipython3",
   "version": "3.11.4"
  },
  "orig_nbformat": 4
 },
 "nbformat": 4,
 "nbformat_minor": 2
}
