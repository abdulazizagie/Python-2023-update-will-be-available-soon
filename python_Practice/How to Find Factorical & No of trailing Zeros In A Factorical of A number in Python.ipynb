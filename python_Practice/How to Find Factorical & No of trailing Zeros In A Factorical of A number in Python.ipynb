{
 "cells": [
  {
   "cell_type": "markdown",
   "metadata": {},
   "source": [
    "Calculate the factorical of a given number\n"
   ]
  },
  {
   "cell_type": "code",
   "execution_count": 1,
   "metadata": {},
   "outputs": [
    {
     "name": "stdout",
     "output_type": "stream",
     "text": [
      "The factorial is 24\n",
      "count of zero 0\n"
     ]
    }
   ],
   "source": [
    "# 7 = 7*6*5*4*3*2*1\n",
    "# 6 = 6*5*4*3*2*1\n",
    "# 5 = 5*4*3*2*1\n",
    "# 4 = 4*3*2*1\n",
    "# 3 = 3*2*1\n",
    "# 2 = 2*1\n",
    "# 1 = 1\n",
    "\n",
    "def factorial(number):\n",
    "    if number == 0 or number ==1:\n",
    "        return 1\n",
    "    else:\n",
    "        return number * factorial(number-1)\n",
    "\n",
    "def factorialTrailingZeros(number):\n",
    "    count = 0\n",
    "    i = 5\n",
    "    while(number//i !=0):\n",
    "        count += int(number/i)\n",
    "        i = i*5\n",
    "    return count\n",
    "    # fac = factorial(number)\n",
    "    # count = 0\n",
    "    # while(number%10 ==0):\n",
    "    #     count = count +1\n",
    "    #     fac = fac/10\n",
    "    # return count\n",
    "\n",
    "if __name__ == '__main__':\n",
    "    number = int(input(\"Enter the number \"))\n",
    "    fac = factorial(number)\n",
    "    print(f\"The factorial is {fac}\")\n",
    "    print(\"count of zero\",factorialTrailingZeros(number))"
   ]
  },
  {
   "cell_type": "code",
   "execution_count": null,
   "metadata": {},
   "outputs": [],
   "source": []
  }
 ],
 "metadata": {
  "kernelspec": {
   "display_name": "Python 3",
   "language": "python",
   "name": "python3"
  },
  "language_info": {
   "codemirror_mode": {
    "name": "ipython",
    "version": 3
   },
   "file_extension": ".py",
   "mimetype": "text/x-python",
   "name": "python",
   "nbconvert_exporter": "python",
   "pygments_lexer": "ipython3",
   "version": "3.11.4"
  },
  "orig_nbformat": 4
 },
 "nbformat": 4,
 "nbformat_minor": 2
}
