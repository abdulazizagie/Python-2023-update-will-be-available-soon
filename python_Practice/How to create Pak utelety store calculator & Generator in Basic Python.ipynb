{
 "cells": [
  {
   "cell_type": "markdown",
   "metadata": {},
   "source": [
    "Write a python program which will keep adding a stream of numbers inputted by the user.The  adding stops as soon as user presses q key on the keyboard."
   ]
  },
  {
   "cell_type": "code",
   "execution_count": 20,
   "metadata": {},
   "outputs": [
    {
     "name": "stdout",
     "output_type": "stream",
     "text": [
      "Thanks are you comming my shope \n",
      "The 0 atom is :23\n",
      "The 1 atom is :43\n",
      "The 2 atom is :45\n",
      "__________________\n",
      "sum of all bill 111\n"
     ]
    }
   ],
   "source": [
    "sum = 0\n",
    "atim = []\n",
    "while(True):\n",
    "    user = input(\"Enter the price of atem\")\n",
    "    if user != 'q':\n",
    "        sum = sum+int(user)\n",
    "        atim.append(user)\n",
    "    else:\n",
    "        print(\"Thanks are you comming my shope \")\n",
    "        break\n",
    "a = 0\n",
    "for i in atim:\n",
    "    print(f\"The {a} atom is :{i}\")\n",
    "    a = a+1\n",
    "print(\"__________________\")\n",
    "print(\"sum of all bill\",sum)\n"
   ]
  },
  {
   "cell_type": "code",
   "execution_count": 10,
   "metadata": {},
   "outputs": [
    {
     "name": "stdout",
     "output_type": "stream",
     "text": [
      "16855\n",
      "[12000, 2345, 423, 456, 765, 766, 88, 12, 0]\n"
     ]
    }
   ],
   "source": [
    "print(sum)\n",
    "print(atim)\n"
   ]
  },
  {
   "cell_type": "code",
   "execution_count": null,
   "metadata": {},
   "outputs": [],
   "source": []
  }
 ],
 "metadata": {
  "kernelspec": {
   "display_name": "Python 3",
   "language": "python",
   "name": "python3"
  },
  "language_info": {
   "codemirror_mode": {
    "name": "ipython",
    "version": 3
   },
   "file_extension": ".py",
   "mimetype": "text/x-python",
   "name": "python",
   "nbconvert_exporter": "python",
   "pygments_lexer": "ipython3",
   "version": "3.11.4"
  },
  "orig_nbformat": 4
 },
 "nbformat": 4,
 "nbformat_minor": 2
}
