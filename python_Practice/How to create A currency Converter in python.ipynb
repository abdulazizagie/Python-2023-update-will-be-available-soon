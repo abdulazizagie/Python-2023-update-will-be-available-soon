{
 "cells": [
  {
   "cell_type": "code",
   "execution_count": null,
   "metadata": {},
   "outputs": [],
   "source": [
    "with open(\"currencyData.txt\") as f:\n",
    "    lines = f.readlines()\n",
    "\n",
    "currencyDict = {}\n",
    "for line in lines:\n",
    "    parsed = line.split(\"\\t\")\n",
    "    currencyDict[parsed[0]] = parsed[1]\n",
    "\n",
    "print(currencyDict)\n",
    "amount = int(input(\"Enter the amount: \\n\"))\n",
    "print(\"Enter the name of currency you want to? Available option:\\n\")\n",
    "[print(item) for item in currencyDict.keys()]\n",
    "currency = input(\"Place inout enter thr currency: \")\n",
    "print(f\"{amount} PAK is equal to {amount * float(currencyDict[currency])} {currency}\")"
   ]
  },
  {
   "cell_type": "code",
   "execution_count": null,
   "metadata": {},
   "outputs": [],
   "source": []
  }
 ],
 "metadata": {
  "kernelspec": {
   "display_name": "Python 3",
   "language": "python",
   "name": "python3"
  },
  "language_info": {
   "codemirror_mode": {
    "name": "ipython",
    "version": 3
   },
   "file_extension": ".py",
   "mimetype": "text/x-python",
   "name": "python",
   "nbconvert_exporter": "python",
   "pygments_lexer": "ipython3",
   "version": "3.11.4"
  },
  "orig_nbformat": 4
 },
 "nbformat": 4,
 "nbformat_minor": 2
}
