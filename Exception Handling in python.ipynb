{
 "cells": [
  {
   "cell_type": "markdown",
   "metadata": {},
   "source": [
    "### Exception Handling\n",
    "\n",
    "Eception handling is the process of responding to unwanted or unexpected event when a computer program runs.Exception handling deals with these events to aviod the program or system crashing, and without this process, exceptions would disrpt the normal operation of a program.\n",
    "\n",
    "### Exceptions in python\n",
    "\n",
    "python has many built-in exception that are raised when your program encounters an error(something int he program goes worng).\n",
    "\n",
    "When thens exception occur,the python interpreter stops the current process and passes it to the calling process until it is handled.if not handled, the program will crash.\n",
    "\n",
    "### python try....except\n",
    "\n",
    "try.....except block are used in pythoon handle error exception .The code in try block when there is no error.if the try block catches the error, the the except block is executed.\n",
    "\n",
    "### Syntax:\n",
    "```python\n",
    "try:\n",
    "    # statment\n",
    "else:\n",
    "    # statment\n",
    "```\n"
   ]
  },
  {
   "cell_type": "code",
   "execution_count": 3,
   "metadata": {},
   "outputs": [
    {
     "name": "stdout",
     "output_type": "stream",
     "text": [
      "Multiplication table of 5 is :\n",
      "5 X 1 = 5\n",
      "5 X 2 = 10\n",
      "5 X 3 = 15\n",
      "5 X 4 = 20\n",
      "5 X 5 = 25\n",
      "5 X 6 = 30\n",
      "5 X 7 = 35\n",
      "5 X 8 = 40\n",
      "5 X 9 = 45\n",
      "5 X 10 = 50\n"
     ]
    }
   ],
   "source": [
    "a = input(\"Enter the number: \")\n",
    "print(f\"Multiplication table of {a} is :\")\n",
    "\n",
    "for i in range(1,11):\n",
    "    print(f\"{int(a)} X {i} = {int(a)*i}\")\n",
    "print(\"some imporant line of code\")\n",
    "print(\"End of program\")\n"
   ]
  },
  {
   "cell_type": "code",
   "execution_count": 9,
   "metadata": {},
   "outputs": [
    {
     "name": "stdout",
     "output_type": "stream",
     "text": [
      "Multiplication table of 3 is :\n",
      "3 X 1 = 3\n",
      "3 X 2 = 6\n",
      "3 X 3 = 9\n",
      "3 X 4 = 12\n",
      "3 X 5 = 15\n",
      "3 X 6 = 18\n",
      "3 X 7 = 21\n",
      "3 X 8 = 24\n",
      "3 X 9 = 27\n",
      "3 X 10 = 30\n",
      "Some imp line of code\n",
      "End of program\n"
     ]
    }
   ],
   "source": [
    "a = input(\"Enter the number: \")\n",
    "print(f\"Multiplication table of {a} is :\")\n",
    "\n",
    "try:\n",
    "    for i in range(1,11):\n",
    "        print(f\"{int(a)} X {i} = {int(a)*i}\")\n",
    "except:\n",
    "    print(\"invalid put!\")\n",
    "\n",
    "print(\"Some imp line of code\")\n",
    "print(\"End of program\")"
   ]
  },
  {
   "cell_type": "code",
   "execution_count": 13,
   "metadata": {},
   "outputs": [
    {
     "name": "stdout",
     "output_type": "stream",
     "text": [
      "3\n"
     ]
    }
   ],
   "source": [
    "try:\n",
    "    num = int(input(\"Enter an integer: \"))\n",
    "    a = [6,3]\n",
    "    print(a[num])\n",
    "except ValueError:\n",
    "    print(\"number enterd is not an integer.\")\n",
    "except IndexError:\n",
    "    print(\"Index Error\")\n"
   ]
  },
  {
   "cell_type": "markdown",
   "metadata": {},
   "source": [
    "# Finaly Clause\n",
    "\n",
    "The finaly code block is also a part of exception handling.\n",
    "When we handle exception using the try and except block,we can include a finally block at the end.The finally block is always executed,so it is generally used for doing the concluding taske like closing file resources or closing database connection or may be ending the program execution with a delightful message.\n",
    "\n",
    "# Syntax:\n",
    "```python\n",
    "try:\n",
    "    #statment which could genrate\n",
    "    #exception\n",
    "except:\n",
    "    # solution of genrated exception\n",
    "finally:\n",
    "    # block of code which is going to \n",
    "    #execute in any situation\n",
    "```\n",
    "The finally block is executed irrespective of the outcome of try.....except.....else blocks\n",
    "One of the important use cases of finally block is in a funcation which return a value."
   ]
  },
  {
   "cell_type": "code",
   "execution_count": 15,
   "metadata": {},
   "outputs": [
    {
     "name": "stdout",
     "output_type": "stream",
     "text": [
      "5\n",
      "i am always executed\n"
     ]
    }
   ],
   "source": [
    "try:\n",
    "    l = [1,5,6,7]\n",
    "    i = int(input(\"Enter the index: \"))\n",
    "    print(l[i])\n",
    "    # return 1\n",
    "except:\n",
    "    print(\"some error occurres\")\n",
    "    # return 0\n",
    "finally:\n",
    "    print(\"i am always executed\")\n"
   ]
  },
  {
   "cell_type": "code",
   "execution_count": 20,
   "metadata": {},
   "outputs": [
    {
     "name": "stdout",
     "output_type": "stream",
     "text": [
      "7\n",
      "i am always executed\n",
      "1\n"
     ]
    }
   ],
   "source": [
    "def func():\n",
    "    try:\n",
    "        l = [1,5,6,7]\n",
    "        i = int(input(\"Enter the index: \"))\n",
    "        print(l[i])\n",
    "        return 1\n",
    "    except:\n",
    "        print(\"some error occurres\")\n",
    "        return 0\n",
    "    finally:\n",
    "        print(\"i am always executed\")\n",
    "    print(\"i  am always executed\")      \n",
    "x = func()\n",
    "print(x)\n"
   ]
  },
  {
   "cell_type": "code",
   "execution_count": null,
   "metadata": {},
   "outputs": [],
   "source": []
  }
 ],
 "metadata": {
  "kernelspec": {
   "display_name": "Python 3",
   "language": "python",
   "name": "python3"
  },
  "language_info": {
   "codemirror_mode": {
    "name": "ipython",
    "version": 3
   },
   "file_extension": ".py",
   "mimetype": "text/x-python",
   "name": "python",
   "nbconvert_exporter": "python",
   "pygments_lexer": "ipython3",
   "version": "3.11.4"
  },
  "orig_nbformat": 4
 },
 "nbformat": 4,
 "nbformat_minor": 2
}
