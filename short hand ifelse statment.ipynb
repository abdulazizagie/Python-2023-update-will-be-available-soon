{
 "cells": [
  {
   "cell_type": "markdown",
   "metadata": {},
   "source": [
    "### If ... Else in one Line\n",
    "\n",
    "There is also a shorthand syntax for the if-else statment that can be used when the condition being tested is simple and the code block to be executed are short.\n",
    "Here an example:\n",
    "```python\n",
    "a = 2\n",
    "b = 330\n",
    "print(\"A\") if a > b else\n",
    "print(\"B\")\n",
    "```\n",
    "you can also have multiply else statments on the same line:\n",
    "\n",
    "### Example:\n",
    "\n",
    "one line if else statment , with 3\n",
    "```python\n",
    "a = 330\n",
    "b = 330\n",
    "print(\"A\") if a > b else print(\"=\") if a == b else print(\"B\")\n",
    "```\n",
    "\n",
    "### Another Example\n",
    "\n",
    "```pythin \n",
    "result = value_if_true if condition else value_if_false\n",
    "```\n",
    "This syntax is equivalent to the followung if-else statment:\n",
    "```python\n",
    "if condition:\n",
    "    result = value_if_true\n",
    "else:\n",
    "    result = value_if_else\n",
    "```\n",
    "### Conclusion\n",
    "\n",
    "The shorthand syntax can be a comvenient way to write simple if-else statments,especially when you want to assign a value to a variable based on a condition.\n",
    "However,it's not suitable or perfrom more complex logic.In those cases,it's best to use the full if-else syntax."
   ]
  },
  {
   "cell_type": "code",
   "execution_count": 1,
   "metadata": {},
   "outputs": [
    {
     "name": "stdout",
     "output_type": "stream",
     "text": [
      "b\n",
      "=\n",
      "0\n"
     ]
    }
   ],
   "source": [
    "a = 30\n",
    "b = 330\n",
    "\n",
    "print(\"A\") if a > b else print(\"b\")\n",
    "\n",
    "a = 30\n",
    "b = 30\n",
    "print(\"A\") if a > b else  print(\"=\") if a==b else print(\"B\")\n",
    "\n",
    "c = 9 if a>b else 0\n",
    "print(c)"
   ]
  },
  {
   "cell_type": "code",
   "execution_count": null,
   "metadata": {},
   "outputs": [],
   "source": []
  }
 ],
 "metadata": {
  "kernelspec": {
   "display_name": "Python 3",
   "language": "python",
   "name": "python3"
  },
  "language_info": {
   "codemirror_mode": {
    "name": "ipython",
    "version": 3
   },
   "file_extension": ".py",
   "mimetype": "text/x-python",
   "name": "python",
   "nbconvert_exporter": "python",
   "pygments_lexer": "ipython3",
   "version": "3.11.4"
  },
  "orig_nbformat": 4
 },
 "nbformat": 4,
 "nbformat_minor": 2
}
