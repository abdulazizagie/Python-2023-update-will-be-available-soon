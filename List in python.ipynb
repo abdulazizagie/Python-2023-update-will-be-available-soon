{
 "cells": [
  {
   "cell_type": "markdown",
   "metadata": {},
   "source": [
    "### Python Lists\n",
    "- List are ordered collection of data items\n",
    "- They store multiple items in a single variable.\n",
    "- List items are separated by commas and enclosed within square brackets[].\n",
    "- List are changeable meeing we can alter them after creation.\n",
    "\n",
    "#### Example1:\n",
    "```python\n",
    "lst1 = [1,2,2,3,5,4,6]\n",
    "lst2 = [\"Red\",\"Green\",\"Blue\"]\n",
    "print(list1)\n",
    "print(list2)\n",
    "```\n",
    "As we can see, a single list can contain items od different data types.\n",
    "\n",
    "### List Index\n",
    "\n",
    "Each item/element in a list has its own unique index.This index can be used to access any particular items form the list.the first index[0],[1],[2]\n",
    "\n",
    "#### Example:\n",
    "```python\n",
    "colors = [\"Red\",\"Green\",\"Blue\",\"Yellow\",\"Green\"]\n",
    "#         [0]     [1]    [2]     [3]      [4]\n",
    "```\n",
    "### Accessing list items\n",
    "we can access list items by using its inde with the square bracket stntax[].for example color[0] will give \"Red\",coor[1] will give \"Green\" and so on.....\n",
    "\n",
    "### Positive Indexing:\n",
    "\n",
    "As we have seen that list items have index.as such we can access items using these indexes.\n",
    "\n",
    "#### Example:\n",
    "```python\n",
    "colors = [\"Red\",\"Green\",\"Blue\",\"Yellow\",\"Green\"]\n",
    "#         [0]     [1]    [2]     [3]      [4]\n",
    "print(marks[0])\n",
    "print(marks[1])\n",
    "print(marks[2])\n",
    "print(marks[3])\n",
    "print(marks[4])\n",
    "```\n",
    "\n",
    "### Negative Indexing:\n",
    "\n",
    "similar to positive indexing , negative indexing is also used to access items,but from the end of the list.The last item has[-1] , second last items has index[-2]\n",
    "\n",
    "#### Example:\n",
    "```python\n",
    "colors = [\"Red\",\"Green\",\"Blue\",\"Yellow\",\"Green\"]\n",
    "#         [-5]     [-4]    [-3]     [-2]      [-1]\n",
    "print(marks[-1])\n",
    "print(marks[-3])\n",
    "print(marks[-5])\n",
    "```\n",
    "### Check whether an item in present in the list?\n",
    "\n",
    "we can check if a given item is present in the list.This is done using the in keyword.\n",
    "\n",
    "#### Example:\n",
    "```python\n",
    "colors = [\"Red\",\"Green\",\"Blue\",\"Yellow\",\"Green\"]\n",
    "#         [0]     [1]    [2]     [3]      [4]\n",
    "if \"Yellow\" in colors:\n",
    "    print(\"Yellow is present.\")\n",
    "else:\n",
    "    print(\"yello is absent.\")\n",
    "```\n",
    "### Range of Index:\n",
    "you can print a range of list items by specifying where you to start,where do you want to end and if you want to skip elements in between the range.\n",
    "\n",
    "#### syntax:\n",
    "```python\n",
    "listName[start:end:jumIndex]\n",
    "```\n",
    "> Note:\n",
    "    jump index is optional.we will see this in later examples.\n",
    "\n",
    "### Example:Printing element within a particular range:\n",
    "```python\n",
    "animals = ['cat','dog','bat','mouse','pig','horse','donkey','goat','cow']\n",
    "print(animal[3:7])# using positive indexes.\n",
    "print(animals[-7:-2]) #using negtive indexes'\n",
    "```\n",
    "\n",
    " Here, we provide index of the element from where we want to start and the index of the element till which we want to print the values.\n",
    "\n",
    "> Note :\n",
    "The element of the end index provided will not be included.\n",
    "\n",
    "### Example: printing all element from a give index till the end\n",
    "```python\n",
    "animal = ['cat','dog','bat','mous','pig','houres','donkey','goat','cow']\n",
    "print(animal[4:]) # using positive indexes\n",
    "print(animal[-4:]) #using nagative indexs\n",
    "```\n",
    "### Example: printing all element from start to a give index\n",
    "```python\n",
    "animal = ['cat','dog','bat','mous','pig','houres','donkey','goat','cow']\n",
    "print(animal[:6]) # using positive indexes\n",
    "print(animal[:-3]) #using nagative indexs\n",
    "```\n",
    "when no start index is provided,the interpreter print all the value from start up to the end index provided\n",
    "\n",
    "### Example: Printing alternate values\n",
    "```python\n",
    "animal = ['cat','dog','bat','mous','pig','houres','donkey','goat','cow']\n",
    "print(animal[::6]) # using positive indexes\n",
    "print(animal[-8:-1:2]) #using nagative indexs\n",
    "```\n",
    "Here, we have not provided start and index. which means all the value considered.But as we have provided a jump a index 2 only alternate value will be printed.\n",
    "\n",
    "### Example:printing every 3rd consecutive value withing a given range\n",
    "```python\n",
    "animal = ['cat','dog','bat','mous','pig','houres','donkey','goat','cow']\n",
    "print(animal[1:8:3])\n",
    "```\n",
    "Here,jump index is 3.Hence it prints every 3rd element within given index."
   ]
  },
  {
   "cell_type": "code",
   "execution_count": 1,
   "metadata": {},
   "outputs": [
    {
     "name": "stdout",
     "output_type": "stream",
     "text": [
      "[3, 5, 6]\n",
      "3\n",
      "5\n",
      "6\n"
     ]
    }
   ],
   "source": [
    "marks = [3,5,6]\n",
    "print(marks)\n",
    "print(marks[0])\n",
    "print(marks[1])\n",
    "print(marks[2])\n"
   ]
  },
  {
   "cell_type": "code",
   "execution_count": 3,
   "metadata": {},
   "outputs": [
    {
     "name": "stdout",
     "output_type": "stream",
     "text": [
      "[3, 6]\n"
     ]
    }
   ],
   "source": [
    "print(marks[0:3:2])"
   ]
  },
  {
   "cell_type": "markdown",
   "metadata": {},
   "source": [
    "## List Comprehension\n",
    "\n",
    "List comprehension are used for creating new list from other iterables likes lists.tuples,dictionary,sets,and even in arrays and strings.\n",
    "\n",
    "Syntax\n",
    "\n",
    "```python\n",
    "list = [Expression(item) for item in iterable if Condition]\n",
    "\n",
    "Expression:it is the item which is being iterated.\n",
    "\n",
    "Iterable: it can be list, tuple ,dictionary,sets,and even in arrat and strinfs.\n",
    "\n",
    "Condition:Condition check if the item should br added to the new list or not.\n",
    "```\n",
    "### Example 1:Accepts items with the small letter \"0\" in the new list\n",
    "\n",
    "```python\n",
    "names = ['Hilo','Sarah','bruno','Anastastic','Rosa']\n",
    "neamwWith_0 = [itme for item in name if (len(items)>4)]\n",
    "print(nameWith_0)\n",
    "\n",
    "```"
   ]
  },
  {
   "cell_type": "code",
   "execution_count": 6,
   "metadata": {},
   "outputs": [
    {
     "name": "stdout",
     "output_type": "stream",
     "text": [
      "[0, 1, 4, 9, 16, 25, 36, 49, 64, 81]\n",
      "[0, 4, 16, 36, 64]\n"
     ]
    }
   ],
   "source": [
    "list = [i*i for i in range(10)]\n",
    "print(list)\n",
    "\n",
    "lst = [i*i for i in range(10) if i%2==0]\n",
    "print(lst)"
   ]
  },
  {
   "cell_type": "code",
   "execution_count": null,
   "metadata": {},
   "outputs": [],
   "source": []
  }
 ],
 "metadata": {
  "kernelspec": {
   "display_name": "Python 3",
   "language": "python",
   "name": "python3"
  },
  "language_info": {
   "codemirror_mode": {
    "name": "ipython",
    "version": 3
   },
   "file_extension": ".py",
   "mimetype": "text/x-python",
   "name": "python",
   "nbconvert_exporter": "python",
   "pygments_lexer": "ipython3",
   "version": "3.11.4"
  },
  "orig_nbformat": 4
 },
 "nbformat": 4,
 "nbformat_minor": 2
}
