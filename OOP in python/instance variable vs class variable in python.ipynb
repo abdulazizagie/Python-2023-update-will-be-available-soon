{
 "cells": [
  {
   "cell_type": "markdown",
   "metadata": {},
   "source": [
    "### Instance Vs Class Variables\n",
    "\n",
    "In python ,variable can be defined at the class level or at the instance level.Understanding the difference between thaea types of variable is crucial for writing efficient and maintainable code.\n",
    "\n",
    "### Class Variables\n",
    "Class variable are defined at the class level and are shared among all instance of the class.They are defined outside of any method and are instance used to store information that is common to all instance of the class For example,a class variable can be used to store the number of instances of a class that have been created.\n",
    "\n",
    "```python\n",
    "class Myclass:\n",
    "    class_variable = 0\n",
    "\n",
    "    def __init__(self):\n",
    "        MyClass.class_varaible += 1\n",
    "\n",
    "    def print_class_variable(self):\n",
    "        print(MyClass.class_variable_variable)\n",
    "\n",
    "obj1 = Myclass()\n",
    "obj2 = Myclass()\n",
    "\n",
    "obj1.print_class_variable() #output :2\n",
    "obj2.print_class_variable() #output :2\n",
    "```\n",
    "In the example above, the class_variable is shared among all instance of the class Myclass.When we new instance of Myclass,the  value of class_variable is incremented.When we class the print_class_variable method on obj1 and obj2,we get thr same value of class_variable\n",
    "\n",
    "### Instance Variables\n",
    "\n",
    "Instance variable are defined at the instance level and are unique to each instance of the class.The are defined inside the init method and are instance usuall used to store information that is specific to each instance of the class.For example, an instance varaible can be used to store the name of an employee in a class that represent an employee.\n",
    "\n",
    "```python\n",
    "class MyClass:\n",
    "    def __init__(self,name):\n",
    "        self.name = name\n",
    "\n",
    "    def print_name(self):\n",
    "        print(self.name)\n",
    "\n",
    "obj1 = Myclass(\"John\")\n",
    "obj2 = Myclass(\"Jane\")\n",
    "\n",
    "obj1.print_name() #output : johan\n",
    "obj2.print_name() #output :jane\n",
    "\n",
    "```\n",
    "In the examplr above, each instance of the clas MyClass has its own value for the name variable.When we calss the print_name method on obj1 and obj2, we get different value for name\n",
    "\n",
    "### Summary\n",
    "\n",
    "In summary , class variable are shared among all instance of a class and are used to store informantion that is common to all instance ,Instance variable are unique to each instance of a class and are used to store infromation that is specific to each instance.Understanding the difference between class variable and instance cairable in crucial for writing efficient and maintainble code in python.\n",
    "\n",
    "It's also worth noting that , in python, class variable are defined outside of any methods and dont's need to be explicitly declared as class variable.They are defined i the class level and can be accessed via classname.variable_anme or self.class.variable_name.But insstance variable are defined inside the methods and need to be exp;icity declared as instance variable by usinf self.variable_name."
   ]
  },
  {
   "cell_type": "code",
   "execution_count": 3,
   "metadata": {},
   "outputs": [
    {
     "name": "stdout",
     "output_type": "stream",
     "text": [
      "The name of the Employee is Harray and the raise amount in 1 sizedApple pakistan is 0.3\n",
      "The name of the Employee is Aziz and the raise amount in 2 sizedApple is 0.02\n"
     ]
    }
   ],
   "source": [
    "class Employee:\n",
    "    companyName = \"Apple\"\n",
    "    nooFEmployee = 0\n",
    "    def __init__(self,name):\n",
    "        self.name = name\n",
    "        self.raise_amount = 0.02\n",
    "        Employee.nooFEmployee+=1\n",
    "        \n",
    "    def showDetials(self):\n",
    "        print(f\"The name of the Employee is {self.name} and the raise amount in {self.nooFEmployee} sized{self.companyName} is {self.raise_amount}\")\n",
    "            \n",
    "# Employee.showGetails(emp1)\n",
    "emp1 = Employee(\"Harray\")\n",
    "emp1.raise_amount = 0.3\n",
    "emp1.companyName = \"Apple pakistan\"\n",
    "emp1.showDetials()\n",
    "\n",
    "emp1 = Employee(\"Aziz\")\n",
    "emp1.showDetials()"
   ]
  },
  {
   "cell_type": "code",
   "execution_count": null,
   "metadata": {},
   "outputs": [],
   "source": []
  }
 ],
 "metadata": {
  "kernelspec": {
   "display_name": "Python 3",
   "language": "python",
   "name": "python3"
  },
  "language_info": {
   "codemirror_mode": {
    "name": "ipython",
    "version": 3
   },
   "file_extension": ".py",
   "mimetype": "text/x-python",
   "name": "python",
   "nbconvert_exporter": "python",
   "pygments_lexer": "ipython3",
   "version": "3.11.4"
  },
  "orig_nbformat": 4
 },
 "nbformat": 4,
 "nbformat_minor": 2
}
