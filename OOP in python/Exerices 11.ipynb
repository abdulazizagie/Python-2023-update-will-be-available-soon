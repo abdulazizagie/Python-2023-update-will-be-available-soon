{
 "cells": [
  {
   "cell_type": "code",
   "execution_count": 1,
   "metadata": {},
   "outputs": [
    {
     "ename": "ModuleNotFoundError",
     "evalue": "No module named 'plyer'",
     "output_type": "error",
     "traceback": [
      "\u001b[1;31m---------------------------------------------------------------------------\u001b[0m",
      "\u001b[1;31mModuleNotFoundError\u001b[0m                       Traceback (most recent call last)",
      "Cell \u001b[1;32mIn[1], line 2\u001b[0m\n\u001b[0;32m      1\u001b[0m \u001b[38;5;28;01mimport\u001b[39;00m \u001b[38;5;21;01mtime\u001b[39;00m\n\u001b[1;32m----> 2\u001b[0m \u001b[38;5;28;01mfrom\u001b[39;00m \u001b[38;5;21;01mplyer\u001b[39;00m \u001b[38;5;28;01mimport\u001b[39;00m notification\n\u001b[0;32m      4\u001b[0m time_houre\u001b[38;5;241m=\u001b[39m \u001b[38;5;28mfloat\u001b[39m(\u001b[38;5;28minput\u001b[39m(\u001b[38;5;124m\"\u001b[39m\u001b[38;5;124mste the houres after you want to drink water\u001b[39m\u001b[38;5;124m\"\u001b[39m))\n\u001b[0;32m      5\u001b[0m \u001b[38;5;28;01mwhile\u001b[39;00m(\u001b[38;5;28;01mTrue\u001b[39;00m):\n",
      "\u001b[1;31mModuleNotFoundError\u001b[0m: No module named 'plyer'"
     ]
    }
   ],
   "source": [
    "import time\n",
    "from plyer import notification\n",
    "\n",
    "time_houre= float(input(\"ste the houres after you want to drink water\"))\n",
    "while(True):\n",
    "    time.sleep(5)\n",
    "    notification.notify(title = \"Water\",\n",
    "                        message = \"you shoould drink water\",\n",
    "                        timeout=2)"
   ]
  },
  {
   "cell_type": "code",
   "execution_count": null,
   "metadata": {},
   "outputs": [],
   "source": [
    "import time\n",
    "import pyttsx3\n",
    "from win10toast import ToastNotifier\n",
    "\n",
    "def remind_to_drink_water():\n",
    "    interval = 5  # 1 hour in seconds\n",
    "\n",
    "    # Initialize the text-to-speech engine\n",
    "    engine = pyttsx3.init()\n",
    "    engine.setProperty(\"rate\", 150)  # You can adjust the speaking rate\n",
    "\n",
    "    toaster = ToastNotifier()\n",
    "    i = 0\n",
    "    while i<=0 :\n",
    "        i= i+1\n",
    "        time.sleep(interval)\n",
    "\n",
    "        # Text-to-speech reminder\n",
    "        engine.say(\"Hey, it's time to drink water!\")\n",
    "        engine.runAndWait()\n",
    "\n",
    "        # Toast notification\n",
    "        toaster.show_toast(\"Drink Water Reminder\", \"Hey, it's time to drink water!\", duration=100)\n",
    "        \n",
    "\n",
    "# if __name__ == \"__main__\":\n",
    "remind_to_drink_water()\n"
   ]
  },
  {
   "cell_type": "code",
   "execution_count": null,
   "metadata": {},
   "outputs": [],
   "source": []
  }
 ],
 "metadata": {
  "kernelspec": {
   "display_name": "Python 3",
   "language": "python",
   "name": "python3"
  },
  "language_info": {
   "codemirror_mode": {
    "name": "ipython",
    "version": 3
   },
   "file_extension": ".py",
   "mimetype": "text/x-python",
   "name": "python",
   "nbconvert_exporter": "python",
   "pygments_lexer": "ipython3",
   "version": "3.10.6"
  },
  "orig_nbformat": 4
 },
 "nbformat": 4,
 "nbformat_minor": 2
}
