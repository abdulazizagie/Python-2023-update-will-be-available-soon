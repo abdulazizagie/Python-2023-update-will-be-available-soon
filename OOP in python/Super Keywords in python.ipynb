{
 "cells": [
  {
   "cell_type": "markdown",
   "metadata": {},
   "source": [
    "### Super Keyword in python\n",
    "\n",
    "The super() keyword in python is used to refer to the parent class.It is especially useful when a class inherits from multiple parent classes and you want to call a method from one of the parent classes.\n",
    "\n",
    "When a class inherits from a parent ,it can override or extend the method defined in the parent class.Howevers,sometimes you might want to use the parent class method in the child class.Thi is where the super() keyword comes in handy.\n",
    "\n",
    "Here's an example of how to use the super() keyword in a simple inheritance scenatio:\n",
    "```python\n",
    "class ParentClass:\n",
    "    def parent_method(self):\n",
    "        print(\"This is the parent methos.\")\n",
    "\n",
    "class ChildClass(ParentClass):\n",
    "    def child_method(self):\n",
    "        print(\"This is the child  method.\")\n",
    "        super().parent_method()\n",
    "\n",
    "child_object = childClass()\n",
    "child_object.child_method()\n",
    "```\n",
    "#### Output\n",
    "```python\n",
    "This is the child method.\n",
    "This is the parent method.\n",
    "```\n",
    "In this example, we have a parentClass with aparent_method and a ChildClass that inherits from ParentClass and overrides the child_method.\n",
    "When the child_method is called ,it first prints\"This si the child method\",and that calls the parent_method using the super() keyword.\n",
    "\n",
    "The super() Keyword is also useful when a class inherits from multiple parent classes.In this case,you can specify the parent class from which you want to call the method.\n",
    "\n",
    "Here's an example:\n",
    "```python\n",
    "class ParentClass1:\n",
    "    def parent_method(self):\n",
    "        print(\"This is the parent method of ParentClass1.\")\n",
    "\n",
    "class ParentClass2:\n",
    "    def parent_method(self):\n",
    "        print(\"This is the parent method of ParentClass2.\")\n",
    "\n",
    "class ChildClass(ParentClass1, ParentClass2):\n",
    "    def child_method(self):\n",
    "        print(\"This is the child method.\")\n",
    "        super().parent_method()\n",
    "\n",
    "child_object = ChildClass()\n",
    "child_object.child_method()\n",
    "```\n",
    "#### output\n",
    "```python\n",
    "This is the child method.\n",
    "This is the parent method of parentClass1.\n",
    "```\n",
    "In this example ,the childClass inherits from parentClass1 and ParentClass2.The child_method calls the parent_method of the first parent class using the super() Keyword.\n",
    "\n",
    "In conclusion,The super() Keyword is a useful tool in python when you want to call a parent class method in a child class.It can be used inheritance scenarios with a single parent class or multiple class or parent class."
   ]
  },
  {
   "cell_type": "code",
   "execution_count": 1,
   "metadata": {},
   "outputs": [
    {
     "name": "stdout",
     "output_type": "stream",
     "text": [
      "This is the child method\n",
      "This is the parent method\n",
      "Abdul aziz\n",
      "This is the parent method\n"
     ]
    }
   ],
   "source": [
    "class parentclass:\n",
    "    def parent_method(self):\n",
    "        print(\"This is the parent method\")\n",
    "        \n",
    "class ChildClass(parentclass):\n",
    "    def parent_method(self):\n",
    "        print(\"Abdul aziz\")\n",
    "        super().parent_method()\n",
    "    def child_method(self):\n",
    "        print(\"This is the child method\")\n",
    "        super().parent_method()\n",
    "        \n",
    "child_object = ChildClass()\n",
    "child_object.child_method()\n",
    "child_object.parent_method()"
   ]
  },
  {
   "cell_type": "code",
   "execution_count": 4,
   "metadata": {},
   "outputs": [
    {
     "name": "stdout",
     "output_type": "stream",
     "text": [
      "Aziz 009\n",
      "2345 Harray python\n"
     ]
    }
   ],
   "source": [
    "class Employee:\n",
    "    def __init__(self,name,id):\n",
    "        self.name = name\n",
    "        self.id = id\n",
    "        \n",
    "class programmer(Employee):\n",
    "    def __init__(self,name,id,lang):\n",
    "        super().__init__(name,id)\n",
    "        self.lang = lang\n",
    "        \n",
    "ali = Employee(\"Aziz\",\"009\")\n",
    "imran = programmer(\"Harray\",\"2345\",\"python\")\n",
    "print(ali.name,ali.id)\n",
    "print(imran.id,imran.name,imran.lang)"
   ]
  },
  {
   "cell_type": "code",
   "execution_count": null,
   "metadata": {},
   "outputs": [],
   "source": [
    "\n"
   ]
  }
 ],
 "metadata": {
  "kernelspec": {
   "display_name": "Python 3",
   "language": "python",
   "name": "python3"
  },
  "language_info": {
   "codemirror_mode": {
    "name": "ipython",
    "version": 3
   },
   "file_extension": ".py",
   "mimetype": "text/x-python",
   "name": "python",
   "nbconvert_exporter": "python",
   "pygments_lexer": "ipython3",
   "version": "3.11.4"
  },
  "orig_nbformat": 4
 },
 "nbformat": 4,
 "nbformat_minor": 2
}
