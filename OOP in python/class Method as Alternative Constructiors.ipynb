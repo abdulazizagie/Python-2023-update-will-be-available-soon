{
 "cells": [
  {
   "cell_type": "markdown",
   "metadata": {},
   "source": [
    "### Class Method as Alternative Constructors\n",
    "\n",
    "In object-oriented programming,The term \"contructor\" refers to a special type of method that is automatically executed when an object is created from a class.The purpose of a constructor is to initialze the object's attributes,allowing the object to be fully funcatioal and ready to use.\n",
    "\n",
    "However , there are time when when may want to create an object in a different way,or with different initial value,than what is provided by the dufult constructor.This is where class method can be used as alternative constructors.\n",
    "\n",
    "A class method belong to the class rather than to an instance of the class.One common use case for class method as alternative constructors is when you to create an object from data that is stored in a different From,Such as a string or a dictionary,For example ,consider a class named\"Person\" that has two attributes:\"Name\" and \"age\".The default constructor for the class might look like this:\n",
    "```python\n",
    "class Person:\n",
    "    def __init__(self,name,age):\n",
    "        self.name = name\n",
    "        self.age = age\n",
    "```\n",
    "But what if you want to create a person object from a string that contains the person's name and age , sparted by a comma?You can define a class method named \"From_string\" to do this\n",
    "```python\n",
    "class Person:\n",
    "\n",
    "    def __init__(self,name,age):\n",
    "        self.name = name\n",
    "        self.age = age\n",
    "\n",
    "    @classmethod\n",
    "    def from_string(cls,string):\n",
    "        name,age = string.split(\",\")\n",
    "        return cls(name,int(age))\n",
    "```\n",
    "Now you can create a Person object from a string this:\n",
    "```python\n",
    "person = Person.from_string(\"John Doe,30\")\n",
    "```\n",
    "Another common use case for class method as alternative constructors is when you went to create an object with a different set og defult value than what is provided by the defult constructor.For example,consider a class named \"Rectangle\" that has two attributes:\"Width\" and \"Height\".The defult constructor for the class might look like this:\n",
    "\n",
    "```python\n",
    "class Rectangle:\n",
    "    def __init__(self,width,height):\n",
    "        self.width = width\n",
    "        self.height = height\n",
    "```\n",
    "But whjat if you want to create a Rectangule ibject with a defult width of 10 and a defult height of 5?You can define a class method named \"square\" to do this:\n",
    "```python\n",
    "class Rectangule:\n",
    "    def __init__(self,width,height):\n",
    "        self.width = width\n",
    "        selg.height = height\n",
    "\n",
    "    @classmethod\n",
    "    def square(cls,size):\n",
    "        return cls(size,size)\n",
    "```\n",
    "Now  you can create a squar rectangule like this:\n",
    "```python\n",
    "rectangle = Retangle.square(10)\n",
    "```\n"
   ]
  },
  {
   "cell_type": "code",
   "execution_count": 1,
   "metadata": {},
   "outputs": [
    {
     "name": "stdout",
     "output_type": "stream",
     "text": [
      "Aziz\n",
      "12000\n",
      "Aziz\n",
      "12000\n"
     ]
    }
   ],
   "source": [
    "class Employee:\n",
    "    def __init__(self,name,salary):\n",
    "        self.name = name\n",
    "        self.salary = salary\n",
    "        \n",
    "e = Employee(\"Aziz\",12000)\n",
    "print(e.name)\n",
    "print(e.salary)\n",
    "\n",
    "\n",
    "string = \"Aziz-12000\"\n",
    "e = Employee(string.split(\"-\")[0],string.split(\"-\")[1])\n",
    "print(e.name)\n",
    "print(e.salary)"
   ]
  },
  {
   "cell_type": "code",
   "execution_count": 1,
   "metadata": {},
   "outputs": [
    {
     "name": "stdout",
     "output_type": "stream",
     "text": [
      "Aziz\n",
      "12000\n"
     ]
    }
   ],
   "source": [
    "class Employee:\n",
    "    def __init__(self,name,salary):\n",
    "        self.name = name\n",
    "        self.salary = salary\n",
    "    @classmethod\n",
    "    def fromstr(cls,string):\n",
    "        return cls(string.split(\"-\")[0],string.split(\"-\")[1])\n",
    "\n",
    "string = \"Aziz-12000\"\n",
    "e2 = Employee.fromstr(string)\n",
    "print(e2.name)\n",
    "print(e2.salary)\n",
    "\n"
   ]
  },
  {
   "cell_type": "code",
   "execution_count": 2,
   "metadata": {},
   "outputs": [
    {
     "name": "stdout",
     "output_type": "stream",
     "text": [
      "John Doe\n",
      "30\n"
     ]
    }
   ],
   "source": [
    "class Person:\n",
    "\n",
    "    def __init__(self,name,age):\n",
    "        self.name = name\n",
    "        self.age = age\n",
    "\n",
    "    @classmethod\n",
    "    def from_string(cls,string):\n",
    "        name,age = string.split(\",\")\n",
    "        return cls(name,int(age))\n",
    "person = Person.from_string(\"John Doe,30\")\n",
    "print(person.name)\n",
    "print(person.age)\n",
    "\n"
   ]
  },
  {
   "cell_type": "code",
   "execution_count": null,
   "metadata": {},
   "outputs": [],
   "source": []
  }
 ],
 "metadata": {
  "kernelspec": {
   "display_name": "Python 3",
   "language": "python",
   "name": "python3"
  },
  "language_info": {
   "codemirror_mode": {
    "name": "ipython",
    "version": 3
   },
   "file_extension": ".py",
   "mimetype": "text/x-python",
   "name": "python",
   "nbconvert_exporter": "python",
   "pygments_lexer": "ipython3",
   "version": "3.10.6"
  },
  "orig_nbformat": 4
 },
 "nbformat": 4,
 "nbformat_minor": 2
}
