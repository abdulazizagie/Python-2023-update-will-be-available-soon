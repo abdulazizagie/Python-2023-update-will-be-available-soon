{
 "cells": [
  {
   "cell_type": "markdown",
   "metadata": {},
   "source": [
    "### Getters\n",
    "\n",
    "Getter in Python are methods that are used to access the values of an object's properties.They are used to return the value of a specific properties,and are typically defined using the @property decorator.Here is an example of a simple class with a getter method:\n",
    "\n",
    "```python\n",
    "class MyClass:\n",
    "    def __init__(self,value):\n",
    "        self._value = value\n",
    "\n",
    "    @property\n",
    "    def value(self):\n",
    "        return self._value\n",
    "```\n",
    "In this example , the Myclass class has a single properties,_value,which is initialized in the init metho.The value method is defined as a getter using the @property decorator,and is used to return the value of the _value property.\n",
    "\n",
    "To use the getter,we can create an instance of the myclass class and than access the value property as if it were an attribute:\n",
    "```python\n",
    "ogj = MyClass(10)\n",
    "obj.value\n",
    "```\n",
    "### Setters\n",
    "It is important to need that the getter do not take any parameters and we ccannot set the value throught getter method.For that we need setter method which can be added by decorating method with @property_name.setter\n",
    "\n",
    "Here is an example of a class with both getter and setter:\n",
    "```python\n",
    "class Myclass:\n",
    "    def __init__(self,value):\n",
    "    self._value = value\n",
    "\n",
    "    @property\n",
    "    def value(self):\n",
    "        return self._value\n",
    "\n",
    "    @value.setter\n",
    "    def value(self,new_value):\n",
    "        self._value = new_value\n",
    "```\n",
    "we can ue setter method like this:\n",
    "```python\n",
    "obj = Myclass(10)\n",
    "obj.value = 20\n",
    "obj.value\n",
    "20\n",
    "```\n",
    "In conclusion, getters are a convenient way to access the value of an object's properties, while keeping the internal representation of the property hidden.This can be useful for encapsulation and data validation"
   ]
  },
  {
   "cell_type": "code",
   "execution_count": 4,
   "metadata": {},
   "outputs": [
    {
     "name": "stdout",
     "output_type": "stream",
     "text": [
      "6.7\n",
      "value i6.7\n"
     ]
    }
   ],
   "source": [
    "class MyClass:\n",
    "    def __init__(self,value):\n",
    "        self._value = value\n",
    "        \n",
    "    def show(self):\n",
    "        print(f\"value i{self._value}\")\n",
    "    \n",
    "    @property\n",
    "    def ten_value(self):\n",
    "        return 10*self._value\n",
    "\n",
    "    @ten_value.setter\n",
    "    def ten_value(self,new_value):\n",
    "        self._value  = new_value/10\n",
    "\n",
    "obj = MyClass(10)\n",
    "obj.ten_value = 67\n",
    "print(obj._value)\n",
    "obj.show()\n",
    "\n"
   ]
  },
  {
   "cell_type": "code",
   "execution_count": null,
   "metadata": {},
   "outputs": [],
   "source": []
  }
 ],
 "metadata": {
  "kernelspec": {
   "display_name": "Python 3",
   "language": "python",
   "name": "python3"
  },
  "language_info": {
   "codemirror_mode": {
    "name": "ipython",
    "version": 3
   },
   "file_extension": ".py",
   "mimetype": "text/x-python",
   "name": "python",
   "nbconvert_exporter": "python",
   "pygments_lexer": "ipython3",
   "version": "3.11.4"
  },
  "orig_nbformat": 4
 },
 "nbformat": 4,
 "nbformat_minor": 2
}
