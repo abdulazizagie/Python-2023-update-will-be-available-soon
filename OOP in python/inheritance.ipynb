{
 "cells": [
  {
   "cell_type": "markdown",
   "metadata": {},
   "source": [
    "### Inheritance in python\n",
    "\n",
    "when a class derives from another class.The child class will inherit all the public and protected proerties and methods from the parent class .in addition, it can have its oen properties and method , this is called as inheritance.\n",
    "\n",
    "### Python Inheritance Syntax\n",
    "```python\n",
    "class BaseClass:\n",
    "    body of base class\n",
    "\n",
    "class DerivedClass(BaseClass):\n",
    "    bpdy of derived class\n",
    "```\n",
    "Derived class inherits feature from the base class where new feature can be added to it.This result in re-usebility of code.\n",
    "\n",
    "### Types of inheritance:\n",
    "\n",
    "1. Single inheritance\n",
    "2. Multiple inheritance\n",
    "3. Multilevel inheritance\n",
    "4. Hierarchical Inheritance\n",
    "5. Hybrid Inheritance\n",
    "We will see the explaination and example of each type of inheritance in the later tutorials"
   ]
  },
  {
   "cell_type": "code",
   "execution_count": 5,
   "metadata": {},
   "outputs": [
    {
     "name": "stdout",
     "output_type": "stream",
     "text": [
      "The name of Employ:450 is aziz\n",
      "<__main__.Programmer object at 0x0000023A4AEDF9D0>\n",
      "The name of Employ:420 is Rohan Das\n"
     ]
    }
   ],
   "source": [
    "class Employee:\n",
    "    def __init__(self,name,id):\n",
    "        self.name = name\n",
    "        self.id = id\n",
    "    \n",
    "    def ShowDetails(self):\n",
    "        print(f\"The name of Employ:{self.id} is {self.name}\")\n",
    "class Programmer(Employee):\n",
    "    def showlanguage(self):\n",
    "        print(\"The defult language i python\")\n",
    "\n",
    "e = Programmer(\"aziz\",450)\n",
    "e.ShowDetails()\n",
    "print(e)\n",
    "e = Employee(\"Rohan Das\",420)\n",
    "e.ShowDetails()"
   ]
  },
  {
   "cell_type": "code",
   "execution_count": null,
   "metadata": {},
   "outputs": [],
   "source": []
  }
 ],
 "metadata": {
  "kernelspec": {
   "display_name": "Python 3",
   "language": "python",
   "name": "python3"
  },
  "language_info": {
   "codemirror_mode": {
    "name": "ipython",
    "version": 3
   },
   "file_extension": ".py",
   "mimetype": "text/x-python",
   "name": "python",
   "nbconvert_exporter": "python",
   "pygments_lexer": "ipython3",
   "version": "3.11.4"
  },
  "orig_nbformat": 4
 },
 "nbformat": 4,
 "nbformat_minor": 2
}
