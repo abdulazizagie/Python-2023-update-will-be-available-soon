{
 "cells": [
  {
   "cell_type": "markdown",
   "metadata": {},
   "source": [
    "## Python Class Methods\n",
    "\n",
    "### Python class Method:An Introduction\n",
    "In python , class are a way to define custom data types that can store data defin function that can be defined within a class is called a \"method\".In this blog poss, we will explore what python class method are, why they are useful,and how to use them.\n",
    "\n",
    "### What are Python class Method?\n",
    "\n",
    "A class method is a type of method that is bound to the class and not instance of the class .In other words,it operates on the class  as a whole,rather than on a specific instance of the class.Class nethod are defined using the \"@classmethod\" decorator, followed by a funcation definition, the first argument of the funcation is alway\"cla\", which represent the class itself.\n",
    "\n",
    "### Why Use Python class Mehods?\n",
    "class methods are useful in several situation.fOR example, you might eant to create a factory method that creates instance of youe class ina specifif way.You could define a class method that create the instance and return it to the cller,Another that create the instance and return it to the caller,Another common use case is to provide alternative constructirs for your class,This can be useful if you want to create instance of your class in multiple ways,but still have a consistent instance for doing so.\n",
    "\n",
    "### How to use Python class Methods\n",
    "To defined a class method ,you simply use the \"@classmethod\" decorator before the method definition,The first argument of the method shouldd allways be \"cls\",Which repesent the class itself,Here is an example of how to define a class method:\n",
    "```python\n",
    "class ExampleClass:\n",
    "    @classmethod\n",
    "    def factory_method(cls,argument1,aargument2):\n",
    "        return cls(arguemnt1,argument2)\n",
    "```\n",
    "In this example , the \"factory_method\" is  class method that takes two argument,\"argument1\",and\"argument2\".It create a new instance of the class\"ExampleClass\" using the \"cls\"keword,and return the new instance to the caller"
   ]
  },
  {
   "cell_type": "code",
   "execution_count": 4,
   "metadata": {},
   "outputs": [
    {
     "name": "stdout",
     "output_type": "stream",
     "text": [
      "The name is Harry and company is Apple\n",
      "The name is Harry and company is Tesla\n",
      "Tesla\n"
     ]
    }
   ],
   "source": [
    "class Employee:\n",
    "    company = \"Apple\"\n",
    "    def show(self):\n",
    "        print(f\"The name is {self.name} and company is {self.company}\")\n",
    "    @classmethod\n",
    "    def changeCompany(cla,newCompany):\n",
    "        cla.company = newCompany\n",
    "\n",
    "e1 = Employee()\n",
    "e1.name = \"Harry\"\n",
    "e1.show()\n",
    "e1.changeCompany(\"Tesla\")\n",
    "e1.show()\n",
    "print(Employee.company)"
   ]
  },
  {
   "cell_type": "code",
   "execution_count": null,
   "metadata": {},
   "outputs": [],
   "source": []
  }
 ],
 "metadata": {
  "kernelspec": {
   "display_name": "Python 3",
   "language": "python",
   "name": "python3"
  },
  "language_info": {
   "codemirror_mode": {
    "name": "ipython",
    "version": 3
   },
   "file_extension": ".py",
   "mimetype": "text/x-python",
   "name": "python",
   "nbconvert_exporter": "python",
   "pygments_lexer": "ipython3",
   "version": "3.11.4"
  },
  "orig_nbformat": 4
 },
 "nbformat": 4,
 "nbformat_minor": 2
}
