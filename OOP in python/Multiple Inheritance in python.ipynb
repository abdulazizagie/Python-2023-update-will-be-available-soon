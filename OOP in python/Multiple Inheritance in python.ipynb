{
 "cells": [
  {
   "cell_type": "markdown",
   "metadata": {},
   "source": [
    "### Multiple Inheritance in python\n",
    "Multiple inheritance is a power ful feature in object-oriented programming that allow class to inherit and method from multiple paretn class.This can be useful in where a class needs to inherit functionlity from multiple sources.\n",
    "\n",
    "### Syntax\n",
    "In python ,multiple inheritance is implemented by specifying multiple parent class in the class definition ,separated commas.\n",
    "\n",
    "```python\n",
    "class Childclass(ParentClass1,ParentClass2,ParentClass3):\n",
    "        # class body\n",
    "```\n",
    "In this example, the childClass inherits attrubutes and method from all three parent class:ParentClass1,ParentClass2,ParetnClass3.\n",
    "It's important to not that,in case of multiple inheritance,Python followa a method resolution order(MRO) to resolve conflicts between method or attribut from fifferent parent class.The MRO determines the order in  which paretn classes are searchched for attribut and methods.\n",
    "\n",
    "### Example:\n",
    "\n",
    "```python\n",
    "class Animal:\n",
    "    def __init__(self,name,species):\n",
    "        self.name = name\n",
    "        self.species = species\n",
    "\n",
    "    def make_sound(self):\n",
    "        print(\"Sound made by the animal\")\n",
    "\n",
    "class Manmal:\n",
    "    def __init__(self,name,fur_color):\n",
    "        self.name = name\n",
    "        self.fur_color = fur_color\n",
    "\n",
    "class Dog(Animal,Manmal):\n",
    "    def __init(self,name,breed,fur_color):\n",
    "        Animal.__init__(self,name,species=\"Dog\")\n",
    "        Mammal.__init(self,name,fur_color)\n",
    "        self.breed = breed\n",
    "\n",
    "    def make_sound(self):\n",
    "        print(\"Bark!\")\n",
    "```\n",
    "In this example,the Dog class inherits from both the Animal and Mammal classes,so it can use attribut and methods from both parent classes."
   ]
  },
  {
   "cell_type": "code",
   "execution_count": 9,
   "metadata": {},
   "outputs": [
    {
     "name": "stdout",
     "output_type": "stream",
     "text": [
      "Ali\n",
      "Kohat\n",
      "The dance is Kohat\n",
      "[<class '__main__.DancerEmployee'>, <class '__main__.Dancer'>, <class '__main__.Employee'>, <class 'object'>]\n"
     ]
    }
   ],
   "source": [
    "class Employee:\n",
    "    def __init__(self,name):\n",
    "        self.name = name\n",
    "        \n",
    "    def show(self):\n",
    "        print(f\"The name is {self.name}\")        \n",
    "class Dancer:\n",
    "    def __init__(self,dance):\n",
    "        self.dance = dance\n",
    "    \n",
    "    def show(self):\n",
    "        print(f\"The dance is {self.dance}\")\n",
    "        \n",
    "class DancerEmployee(Dancer,Employee):\n",
    "    def __init__(self, name,dance):\n",
    "        self.dance = dance\n",
    "        self.name = name\n",
    "        \n",
    "o = DancerEmployee(\"Ali\",\"Kohat\")\n",
    "print(o.name)\n",
    "print(o.dance)\n",
    "o.show()\n",
    "print(DancerEmployee.mro())"
   ]
  },
  {
   "cell_type": "code",
   "execution_count": null,
   "metadata": {},
   "outputs": [],
   "source": []
  }
 ],
 "metadata": {
  "kernelspec": {
   "display_name": "Python 3",
   "language": "python",
   "name": "python3"
  },
  "language_info": {
   "codemirror_mode": {
    "name": "ipython",
    "version": 3
   },
   "file_extension": ".py",
   "mimetype": "text/x-python",
   "name": "python",
   "nbconvert_exporter": "python",
   "pygments_lexer": "ipython3",
   "version": "3.11.4"
  },
  "orig_nbformat": 4
 },
 "nbformat": 4,
 "nbformat_minor": 2
}
