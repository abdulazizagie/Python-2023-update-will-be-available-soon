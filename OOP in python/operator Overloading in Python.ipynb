{
 "cells": [
  {
   "cell_type": "markdown",
   "metadata": {},
   "source": [
    "### Operator Overloading in Python : An Introduction\n",
    "\n",
    "operator Overloading is a feature in pythin that allowa developers to redfine the behavior of mathematical and comparison operators for custom data types.This means (+,-,*,/,etc.) and comparison operators(>,<, == etc) in your own class,just as you would for built-in data types like int,float,and str.\n",
    "\n",
    "### Why do we need operator overloading?\n",
    "\n",
    "operator overloading allows you to create more readable and intuitive code.For instance,consider a custom class that represent a point in 2D space.You could define a method called \"add\" to add two point together,but using the + operator makes the code more concise and readable:\n",
    "```python\n",
    "P1 = point(1,2)\n",
    "P2 = point(3,4)\n",
    "P3 = P1 + P2\n",
    "print(P3.x,P3.y) #prints 4,6\n",
    "\n",
    "```"
   ]
  },
  {
   "cell_type": "code",
   "execution_count": 3,
   "metadata": {},
   "outputs": [
    {
     "name": "stdout",
     "output_type": "stream",
     "text": [
      "3i +5k+6\n",
      "1i +2k+3\n",
      "4i+ 5j + 7j+ 9k\n",
      "<class 'str'>\n"
     ]
    }
   ],
   "source": [
    "class vector:\n",
    "    def __init__(self,i,j,k):\n",
    "        self.i = i\n",
    "        self.j = j\n",
    "        self.k = k\n",
    "        \n",
    "    def __str__(self):\n",
    "        return f\"{self.i}i +{self.j}k+{self.k}\"\n",
    "    \n",
    "    def __add__(self,x):\n",
    "        return f\"{self.i + x.i}i+ {self.j}j + {self.j + x.j}j+ {self.k + x.k}k\"\n",
    "    \n",
    "v1 = vector(3,5,6)\n",
    "print(v1)\n",
    "\n",
    "v2 = vector(1,2,3)\n",
    "print(v2)\n",
    "\n",
    "print(v1 +v2)\n",
    "print(type(v1 +v2))\n"
   ]
  },
  {
   "cell_type": "markdown",
   "metadata": {},
   "source": [
    "### Surch now operator overloading in python"
   ]
  },
  {
   "cell_type": "code",
   "execution_count": null,
   "metadata": {},
   "outputs": [],
   "source": []
  }
 ],
 "metadata": {
  "kernelspec": {
   "display_name": "Python 3",
   "language": "python",
   "name": "python3"
  },
  "language_info": {
   "codemirror_mode": {
    "name": "ipython",
    "version": 3
   },
   "file_extension": ".py",
   "mimetype": "text/x-python",
   "name": "python",
   "nbconvert_exporter": "python",
   "pygments_lexer": "ipython3",
   "version": "3.11.4"
  },
  "orig_nbformat": 4
 },
 "nbformat": 4,
 "nbformat_minor": 2
}
