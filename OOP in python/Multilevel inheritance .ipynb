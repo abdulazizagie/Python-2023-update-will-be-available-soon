{
 "cells": [
  {
   "cell_type": "markdown",
   "metadata": {},
   "source": [
    "### Multilevel Inheritance in python\n",
    "Multilevel inheritance is a type of inheritance in object-oriented programming where a derived class inheritance from another derived class.This type of inherotance allows you to build a hierachy of class where one class build upon another,leading to a more specialized class.\n",
    "\n",
    "In python , multiple inheritance is achieved by using the class hierarchy.The syntax for multilevel inheritance is quite simple and follow the same syntax as single inheritance.\n",
    "\n",
    "### Syntax\n",
    "```python\n",
    "class BaseClass:\n",
    "    # Base class cod\n",
    "class DerivedClass1(BaseClass):\n",
    "    # Derived class 1 code\n",
    "class DerivedClass2(DerievedClass1):\n",
    "    # Derived class 2 code\n",
    "```\n",
    "In the above example , we have three class:BaseClass,DerivedClass1,and DerivedClass2.The DerivedClass1 class inherits from the BaseClass,and the DerivedClass2 class inherits from the BaseClass,and the DerivedClass2 class inherits from the DerivedClass1 class.This creates a hieratchy where DerivedClass2 has access to all the attributes and method of both DerivedClass1 and BassedClass.\n",
    "\n",
    "### Example:\n",
    "```python\n",
    "class Animal:\n",
    "    def __init__(self,name,species):\n",
    "        self.name = name\n",
    "        self.species = species\n",
    "\n",
    "    def show_detials(self):\n",
    "        print(f\"Nmae:{self.name}\")\n",
    "        print(f\"Species:{self.species}\")\n",
    "\n",
    "class Dog(Animal):\n",
    "    def __init__(self,name,breed):\n",
    "        Animal.__init__(self,name,species=\"Dog\")\n",
    "        self.breed = breed\n",
    "    \n",
    "    def shoe_detials(self):\n",
    "        Animal.show_detials(self)\n",
    "        print(f\"Bredd:{self.breed}\")\n",
    "\n",
    "class GoldenRetrieve(Dog):\n",
    "    def __init__(self,name,color):\n",
    "        Dog.__init__(self,name,breed=\"Golden Retriver\")\n",
    "        self.color = color\n",
    "\n",
    "    def shoe_detial(self):\n",
    "        Dog.shoe_detials(self)\n",
    "        print(f\"Color:{self.color}\")\n",
    "\n",
    "o = GoldenRetrieve(\"tomy\",\"BlCK\")\n",
    "o.shoe_detial()\n",
    "```"
   ]
  },
  {
   "cell_type": "code",
   "execution_count": 3,
   "metadata": {},
   "outputs": [
    {
     "name": "stdout",
     "output_type": "stream",
     "text": [
      "Nmae:tomy\n",
      "Species:Dog\n",
      "Bredd:Golden Retriver\n",
      "Color:BlCK\n"
     ]
    }
   ],
   "source": [
    "class Animal:\n",
    "    def __init__(self,name,species):\n",
    "        self.name = name\n",
    "        self.species = species\n",
    "\n",
    "    def show_detials(self):\n",
    "        print(f\"Nmae:{self.name}\")\n",
    "        print(f\"Species:{self.species}\")\n",
    "\n",
    "class Dog(Animal):\n",
    "    def __init__(self,name,breed):\n",
    "        Animal.__init__(self,name,species=\"Dog\")\n",
    "        self.breed = breed\n",
    "    \n",
    "    def shoe_detials(self):\n",
    "        Animal.show_detials(self)\n",
    "        print(f\"Bredd:{self.breed}\")\n",
    "\n",
    "class GoldenRetrieve(Dog):\n",
    "    def __init__(self,name,color):\n",
    "        Dog.__init__(self,name,breed=\"Golden Retriver\")\n",
    "        self.color = color\n",
    "\n",
    "    def shoe_detial(self):\n",
    "        Dog.shoe_detials(self)\n",
    "        print(f\"Color:{self.color}\")\n",
    "\n",
    "o = GoldenRetrieve(\"tomy\",\"BlCK\")\n",
    "o.shoe_detial()"
   ]
  },
  {
   "cell_type": "code",
   "execution_count": null,
   "metadata": {},
   "outputs": [],
   "source": []
  }
 ],
 "metadata": {
  "kernelspec": {
   "display_name": "Python 3",
   "language": "python",
   "name": "python3"
  },
  "language_info": {
   "codemirror_mode": {
    "name": "ipython",
    "version": 3
   },
   "file_extension": ".py",
   "mimetype": "text/x-python",
   "name": "python",
   "nbconvert_exporter": "python",
   "pygments_lexer": "ipython3",
   "version": "3.11.4"
  },
  "orig_nbformat": 4
 },
 "nbformat": 4,
 "nbformat_minor": 2
}
