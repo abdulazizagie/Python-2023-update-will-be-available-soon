{
 "cells": [
  {
   "cell_type": "markdown",
   "metadata": {},
   "source": [
    "Write a program to clear the clutter inside a folder on your computer.you should use os module to reanme all the images from 1.png all the way till n.pug where n is the number of png files in that folder.Do the same for other file formats, for example:\n",
    "- sfdsf.png --> 1.png\n",
    "- sfdsf.png --> 2.png\n",
    "- sfdsf.png --> 3.png\n",
    "- sfdsf.png --> 4.png\n",
    "- sfdsf.png --> 5.png"
   ]
  },
  {
   "cell_type": "code",
   "execution_count": 7,
   "metadata": {},
   "outputs": [
    {
     "name": "stdout",
     "output_type": "stream",
     "text": [
      "pngegg (1).png\n",
      "pngegg (2).png\n",
      "pngegg (3).png\n",
      "pngegg (4).png\n",
      "pngegg.png\n"
     ]
    }
   ],
   "source": [
    "import os\n",
    "\n",
    "files = os.listdir(\"image\")\n",
    "i = 0\n",
    "for file in files:\n",
    "    if file.endswith(\".png\"):\n",
    "        print(file)\n",
    "        os.rename(f\"image/{file}\",f\"image/{i}.png\")\n",
    "        i = i + 1\n",
    "        "
   ]
  },
  {
   "cell_type": "code",
   "execution_count": null,
   "metadata": {},
   "outputs": [],
   "source": []
  }
 ],
 "metadata": {
  "kernelspec": {
   "display_name": "Python 3",
   "language": "python",
   "name": "python3"
  },
  "language_info": {
   "codemirror_mode": {
    "name": "ipython",
    "version": 3
   },
   "file_extension": ".py",
   "mimetype": "text/x-python",
   "name": "python",
   "nbconvert_exporter": "python",
   "pygments_lexer": "ipython3",
   "version": "3.11.4"
  },
  "orig_nbformat": 4
 },
 "nbformat": 4,
 "nbformat_minor": 2
}
