{
 "cells": [
  {
   "cell_type": "markdown",
   "metadata": {},
   "source": [
    "### The Walrus Operator in python\n",
    "The Walrus Operator is a new addition to python 3.8 and allows you to assign a value to variable within an expression.This can be useful when you need to use a value multiple time in a loop,but don't want to repeat the calculation.\n",
    "\n",
    "The Walrus Operator is represented by the := syntax and can be used in a variety of contexts including while loops and if statments.\n",
    "\n",
    "Here's an example of how you can use the walrus Operator in a while loop:\n",
    "\n",
    "```python\n",
    "numbers = [1,2,3,4,5]\n",
    "\n",
    "while (n := len(numbers)) > 0:\n",
    "    print(numbers.pop())\n",
    "```\n",
    "In this example , the length of the numbers list is assigned to the variable n using the Walrus OperatorThe value of n is then used in the condition of the while loop,so that the loop will continue to execute unitl the number list is empty.\n",
    "\n",
    "Anothe example of usind=g the Walrus Operator in an  if statment:\n",
    "```python\n",
    "names = [\"John\",\"Jane\",\"Jim\"]\n",
    "\n",
    "if (name := input(\"Enter a name:\")):\n",
    "    print(f\"Hello,{name}!\")\n",
    "else:\n",
    "    print(\"Name not found.\")\n",
    "```\n",
    "Here is another example\n",
    "```python\n",
    "# Walrus operator :=\n",
    "\n",
    "# new to python 3.8\n",
    "# assigment expression aka walrus operator\n",
    "# assigns values to variables as part of a larger expression\n",
    "\n",
    "happy = False\n",
    "print(happy)\n",
    "\n",
    "print(happy := True)\n",
    "\n",
    "foods = list()\n",
    "while True:\n",
    "    food = input(\"What food do you like?: \")\n",
    "    if food = \"quit\":\n",
    "        break\n",
    "    foods.append(food)\n",
    "```\n",
    "In this example , the user input is assigned to the variable name using the Walrus Opertaor,The value of name is then used in the if statment to determine whether it is in the namess list.if it is ,the corresponding message is printed,otherwise ,a different message is printed.\n",
    "\n",
    "It is important to note that Walrus Operator should br used sparingly as it can make code less redable if overused.\n",
    "\n",
    "In conclusion, the Walrus Operator is a useful tool for python developers to have in their toolkit.It can help streamline code and reduce duplication , but it should be used with care to ensure code readability and maintainability."
   ]
  },
  {
   "cell_type": "code",
   "execution_count": 3,
   "metadata": {},
   "outputs": [
    {
     "name": "stdout",
     "output_type": "stream",
     "text": [
      "False\n"
     ]
    }
   ],
   "source": [
    "a = True\n",
    "\n",
    "print(a:=False)"
   ]
  },
  {
   "cell_type": "code",
   "execution_count": 4,
   "metadata": {},
   "outputs": [
    {
     "name": "stdout",
     "output_type": "stream",
     "text": [
      "5\n",
      "4\n",
      "3\n",
      "2\n",
      "1\n"
     ]
    }
   ],
   "source": [
    "numbers = [1,2,3,4,5]\n",
    "\n",
    "while (n := len(numbers)) > 0:\n",
    "    print(numbers.pop())"
   ]
  },
  {
   "cell_type": "code",
   "execution_count": 6,
   "metadata": {},
   "outputs": [
    {
     "name": "stdout",
     "output_type": "stream",
     "text": [
      "Hello,John!\n"
     ]
    }
   ],
   "source": [
    "names = [\"John\",\"Jane\",\"Jim\"]\n",
    "\n",
    "if (name := input(\"Enter a name:\")):\n",
    "    print(f\"Hello,{name}!\")\n",
    "else:\n",
    "    print(\"Name not found.\")"
   ]
  },
  {
   "cell_type": "code",
   "execution_count": 8,
   "metadata": {},
   "outputs": [
    {
     "name": "stdout",
     "output_type": "stream",
     "text": [
      "['applr', 'bansns', 'mndo']\n"
     ]
    }
   ],
   "source": [
    "foods = list()\n",
    "while True:\n",
    "    food = input(\"What food do you like?: \")\n",
    "    if food == \"quit\":\n",
    "        break\n",
    "    foods.append(food)\n",
    "print(foods)"
   ]
  },
  {
   "cell_type": "code",
   "execution_count": 9,
   "metadata": {},
   "outputs": [
    {
     "name": "stdout",
     "output_type": "stream",
     "text": [
      "['banan']\n"
     ]
    }
   ],
   "source": [
    "foods = list()\n",
    "while(food := input(\"What food do you like: \")) != \"quit\":\n",
    "    foods.append(food)\n",
    "print(foods)\n"
   ]
  },
  {
   "cell_type": "code",
   "execution_count": null,
   "metadata": {},
   "outputs": [],
   "source": []
  }
 ],
 "metadata": {
  "kernelspec": {
   "display_name": "Python 3",
   "language": "python",
   "name": "python3"
  },
  "language_info": {
   "codemirror_mode": {
    "name": "ipython",
    "version": 3
   },
   "file_extension": ".py",
   "mimetype": "text/x-python",
   "name": "python",
   "nbconvert_exporter": "python",
   "pygments_lexer": "ipython3",
   "version": "3.11.4"
  },
  "orig_nbformat": 4
 },
 "nbformat": 4,
 "nbformat_minor": 2
}
