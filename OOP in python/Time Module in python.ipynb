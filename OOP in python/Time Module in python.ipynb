{
 "cells": [
  {
   "cell_type": "markdown",
   "metadata": {},
   "source": [
    "### The time Module in python\n",
    "\n",
    "The time module in python provides a set of funcations to work with time-related operations,such as timekeeping,formatting ,and time conversions.This module is part of the Python Standard Library and is availble in all python installations,making it a convenient and essential tool fora wide range of applications.In this day 84 tutorial,we'll explore the time module in python and see how it can be used in different secnarios\n",
    "\n",
    "### time.time()\n",
    "The time.time() funcation return the current time as a floating-point number,representing the number of second since the epoch (the point in time when the time module was intialized).The return value is based onthe computer's system clock and is effected by time adjustments made by the operating system, such as daylight saving time,Here's an example:\n",
    "\n",
    "```python\n",
    "import time\n",
    "print(time.time())\n",
    "```"
   ]
  },
  {
   "cell_type": "code",
   "execution_count": null,
   "metadata": {},
   "outputs": [],
   "source": [
    "import time\n",
    "\n",
    "def usingWhile():\n",
    "    i = 0\n",
    "    while i<50000:\n",
    "        i = i+1\n",
    "        print(i)\n",
    "        \n",
    "def usingFor():\n",
    "    for i in range(50000):\n",
    "        print(i)\n",
    "        \n",
    "init = time.time()\n",
    "usingFor()\n",
    "t1 = time.time() - init\n",
    "\n",
    "init = time.time()\n",
    "usingWhile()\n",
    "print(time.time()- init)\n",
    "print(t1)\n"
   ]
  },
  {
   "cell_type": "code",
   "execution_count": 2,
   "metadata": {},
   "outputs": [
    {
     "name": "stdout",
     "output_type": "stream",
     "text": [
      "5\n",
      "This is printed after 3 seconds\n"
     ]
    }
   ],
   "source": [
    "print(5)\n",
    "time.sleep(5)\n",
    "print(\"This is printed after 3 seconds\")"
   ]
  },
  {
   "cell_type": "code",
   "execution_count": 4,
   "metadata": {},
   "outputs": [
    {
     "name": "stdout",
     "output_type": "stream",
     "text": [
      "2023-09-04\n"
     ]
    }
   ],
   "source": [
    "t = time.localtime()\n",
    "formatted_time = time.strftime(\"%Y-%m-%d\",t)\n",
    "print(formatted_time)"
   ]
  },
  {
   "cell_type": "code",
   "execution_count": null,
   "metadata": {},
   "outputs": [],
   "source": []
  }
 ],
 "metadata": {
  "kernelspec": {
   "display_name": "Python 3",
   "language": "python",
   "name": "python3"
  },
  "language_info": {
   "codemirror_mode": {
    "name": "ipython",
    "version": 3
   },
   "file_extension": ".py",
   "mimetype": "text/x-python",
   "name": "python",
   "nbconvert_exporter": "python",
   "pygments_lexer": "ipython3",
   "version": "3.11.4"
  },
  "orig_nbformat": 4
 },
 "nbformat": 4,
 "nbformat_minor": 2
}
