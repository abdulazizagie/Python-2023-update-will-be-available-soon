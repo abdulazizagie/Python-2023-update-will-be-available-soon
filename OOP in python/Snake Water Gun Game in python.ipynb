{
 "cells": [
  {
   "cell_type": "code",
   "execution_count": 16,
   "metadata": {},
   "outputs": [
    {
     "name": "stdout",
     "output_type": "stream",
     "text": [
      "You 3\n",
      "computer: 2\n",
      "you win\n"
     ]
    }
   ],
   "source": [
    "import random\n",
    "\n",
    "\n",
    "def check(comp,user):\n",
    "    if (comp == user):\n",
    "        return 0\n",
    "    elif(comp == 0 and user ==1):\n",
    "        return -1\n",
    "    \n",
    "    elif (comp == 1 and user == 2):\n",
    "        return -1\n",
    "    \n",
    "    elif (comp == 2 and user == 0):\n",
    "        return -1\n",
    "    \n",
    "    \n",
    "user = int(input(\"0 for snake,1 for water and 2 for Gun\"))\n",
    "comp = random.randint(0,2)\n",
    "\n",
    "score = check(comp,user)\n",
    "\n",
    "print(\"You\",user)\n",
    "print(\"computer:\",comp)\n",
    "\n",
    "if score == 0:\n",
    "    print(\"Its a draw\")\n",
    "elif score == -1:\n",
    "    print(\"You lose\")\n",
    "else:\n",
    "    print(\"you win\")"
   ]
  },
  {
   "cell_type": "code",
   "execution_count": null,
   "metadata": {},
   "outputs": [],
   "source": []
  }
 ],
 "metadata": {
  "kernelspec": {
   "display_name": "Python 3",
   "language": "python",
   "name": "python3"
  },
  "language_info": {
   "codemirror_mode": {
    "name": "ipython",
    "version": 3
   },
   "file_extension": ".py",
   "mimetype": "text/x-python",
   "name": "python",
   "nbconvert_exporter": "python",
   "pygments_lexer": "ipython3",
   "version": "3.11.4"
  },
  "orig_nbformat": 4
 },
 "nbformat": 4,
 "nbformat_minor": 2
}
