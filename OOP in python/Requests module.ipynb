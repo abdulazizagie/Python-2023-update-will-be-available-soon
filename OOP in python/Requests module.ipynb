{
 "cells": [
  {
   "cell_type": "markdown",
   "metadata": {},
   "source": [
    "### Requests module in python\n",
    "The Python Request module is an HTTP library that enables developers to send HTTP requests in python.This module enable you to send HTTP request using Python code and makes it possible to interact with APIs and web services.\n",
    "\n",
    "### Installation\n",
    "```python\n",
    "pip install requests\n",
    "```\n",
    "### Get Request\n",
    "Once you have install the Request module,you can start using it to send HTTP requests.Here is a simple example that sends a GET request to the Google homepage\n",
    "\n",
    "```python\n",
    "import requests\n",
    "response = requests.get(\"https://www.google.com\")\n",
    "print(response.text)\n",
    "```\n",
    "\n",
    "### Post Request\n",
    "Here is another example that sends a POST request to a web service and includes a custom header:\n",
    "```python\n",
    "import requests\n",
    "url = \"https://api.example.com/login\"\n",
    "headers = {\n",
    "    \"User-Agent\":\"Mozilla/5.0(Windows NT 10.0; Win64; x64) AppleWebkit /537.36 (KHTML , like Gecko)Chrome/58.0.3029.110 Safari/537.36\",\n",
    "    \"Content-Type\":\"application/json\"\n",
    "}\n",
    "data ={\n",
    "    \"username\":\"myusername\",\n",
    "    \"password\":\"mypassword\"\n",
    "}\n",
    "\n",
    "response = requests.post(url,headers=headers,json=data)\n",
    "\n",
    "peinr(response.text)\n",
    "```\n",
    "In this example, we send a POST request to a web service to authenticate a user, we inculde a custom User-Agent header and a JSON payload with the user's credentials.\n",
    "\n",
    "### bs4 Module\n",
    "\n",
    "There is another module called BeautifulSoup which is used for web scraping in python ,I have personally used bs4 module to finish a lot of freelacing task."
   ]
  },
  {
   "cell_type": "code",
   "execution_count": null,
   "metadata": {},
   "outputs": [],
   "source": [
    "import requests\n",
    "response = requests.get(\"https://www.google.com\")\n",
    "print(response.text)"
   ]
  },
  {
   "cell_type": "code",
   "execution_count": null,
   "metadata": {},
   "outputs": [],
   "source": [
    "import requests\n",
    "\n",
    "url = \"https://jsonplaceholder.typicode.com/posts\"\n",
    "\n",
    "data = {\n",
    "    \"title\" : \"Aziz\",\n",
    "    \"body\" : \"bar\",\n",
    "    \"userId\" :1\n",
    "}\n",
    "headers = {\n",
    "    \"Content-type\" : \"application/json;charset=UTF-8\",\n",
    "}\n",
    "\n",
    "response = requests.post(url, headers=headers, json=data)\n",
    "print(response.text)"
   ]
  },
  {
   "cell_type": "code",
   "execution_count": null,
   "metadata": {},
   "outputs": [],
   "source": [
    "import requests\n",
    "\n",
    "url = \"https://www.codewithharry.com/blogpost/django-cheatsheet/\"\n",
    "r = requests.get(url)\n",
    "print(r.text)"
   ]
  },
  {
   "cell_type": "code",
   "execution_count": null,
   "metadata": {},
   "outputs": [],
   "source": [
    "url = \"https://chat.openai.com/\"\n",
    "r = requests.get(url)\n",
    "print(r.text)"
   ]
  },
  {
   "cell_type": "code",
   "execution_count": null,
   "metadata": {},
   "outputs": [],
   "source": [
    "from bs4 import BeautifulSoup\n",
    "soup = BeautifulSoup(r.text , \"html.parser\")\n",
    "\n",
    "print(soup.prettify())"
   ]
  },
  {
   "cell_type": "code",
   "execution_count": null,
   "metadata": {},
   "outputs": [],
   "source": [
    "for heading in soup.find_all(\"h2\"):\n",
    "    print(heading.text)"
   ]
  },
  {
   "cell_type": "code",
   "execution_count": null,
   "metadata": {},
   "outputs": [],
   "source": []
  }
 ],
 "metadata": {
  "kernelspec": {
   "display_name": "Python 3",
   "language": "python",
   "name": "python3"
  },
  "language_info": {
   "codemirror_mode": {
    "name": "ipython",
    "version": 3
   },
   "file_extension": ".py",
   "mimetype": "text/x-python",
   "name": "python",
   "nbconvert_exporter": "python",
   "pygments_lexer": "ipython3",
   "version": "3.11.4"
  },
  "orig_nbformat": 4
 },
 "nbformat": 4,
 "nbformat_minor": 2
}
