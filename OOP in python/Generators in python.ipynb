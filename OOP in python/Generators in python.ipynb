{
 "cells": [
  {
   "cell_type": "markdown",
   "metadata": {},
   "source": [
    "### Generators in Python\n",
    "\n",
    "Generator in Python are special type of funcations that allow you to create an iterable sequence of values.A generator funcation retuen a generator object,which can be used to generate the value one-by-one as you iterate over it ,Genarators are a powerful tool for working with large or complex data seta,as they allows you to generate the value on-the-fly, rather then having to create and store the entire sequence in memory.\n",
    "\n",
    "### Creating a Generator\n",
    "\n",
    "In python , you can create a generator by using the `yield` statment in a funcation.The `yield` statment return a  value from the generator anf suspends the execution of the funcation until the next value is requested. Here's an exmple:\n",
    "```python\n",
    "def my_generator():\n",
    "    for i in range(5):\n",
    "        yield i\n",
    "\n",
    "gen = my_generator()\n",
    "print((next(gen)))\n",
    "print((next(gen))) \n",
    "print((next(gen))) \n",
    "print((next(gen))) \n",
    "print((next(gen))) \n",
    "\n",
    "```\n",
    "As you san see , the genrator funcation `my_generator()` return a generator object , which can be uesd to generator the vlaue in the range 0 to 4.`net()` funcation is used to request the next value form the generator , and the generator resumes its ececution until it encounters another `yield` statment or untol it reaches the end of the funcation.\n",
    "\n",
    "### Using a Generator\n",
    "once you have created a generatoe , you can it in a variel of ways,such as in a for loop, as list comprehension, or a generator expression.Here's an example\n",
    "\n",
    "```python\n",
    "gen = my_generator()\n",
    "for i in gen:\n",
    "    print(i)\n",
    "```\n",
    "As you can see , the generator can be used ina for loop, just like any other iterable sequence.The generator is used to generator the value one-by-one as the loop iterates over it.\n",
    "\n",
    "### Benefits of Generators\n",
    "Generators offer several benefits over other types od sequence, such as lists, tuples,and sets.one of the main benefits of generators is that they allow you to generate the value on-the-fly.rather than having to create and store the entire sequence in memory.This makes generators a powerful tool for working with larger or complex data sets, as you can generator the value as you need them , rather than having to syore them all in memory at ance.\n",
    "\n",
    "Another benefit og generators is that they are lazy, which means that the value are generator only when thay are requested.This allows you to generate the values in a more efficient and memory-friendly manner , as you don't have to generate all the value up front.\n",
    "\n",
    "### Conclusion\n",
    "Generators in python are a powerful tool for working with large or comples data sets, allowing you to generate the value on-the-fly and store only what you need in memory.Whether you are working with a large dataset, performing compless calculations, or generating a sequence of value, generators are a must-have tool in you programming toolkit. So , if you havent't already, be sure to check out generaators in Python and see how they can help you write better , more efficient code."
   ]
  },
  {
   "cell_type": "code",
   "execution_count": 5,
   "metadata": {},
   "outputs": [
    {
     "name": "stdout",
     "output_type": "stream",
     "text": [
      "0\n",
      "1\n",
      "2\n",
      "3\n",
      "4\n"
     ]
    }
   ],
   "source": [
    "def my_generator():\n",
    "    for i in range(5):\n",
    "        yield i\n",
    "\n",
    "gen = my_generator()\n",
    "# print((next(gen)))\n",
    "# print((next(gen))) \n",
    "# print((next(gen))) \n",
    "# print((next(gen))) \n",
    "# print((next(gen))) \n",
    "for i in gen:\n",
    "    print(i)"
   ]
  },
  {
   "cell_type": "code",
   "execution_count": 4,
   "metadata": {},
   "outputs": [],
   "source": []
  },
  {
   "cell_type": "code",
   "execution_count": null,
   "metadata": {},
   "outputs": [],
   "source": []
  }
 ],
 "metadata": {
  "kernelspec": {
   "display_name": "Python 3",
   "language": "python",
   "name": "python3"
  },
  "language_info": {
   "codemirror_mode": {
    "name": "ipython",
    "version": 3
   },
   "file_extension": ".py",
   "mimetype": "text/x-python",
   "name": "python",
   "nbconvert_exporter": "python",
   "pygments_lexer": "ipython3",
   "version": "3.11.4"
  },
  "orig_nbformat": 4
 },
 "nbformat": 4,
 "nbformat_minor": 2
}
