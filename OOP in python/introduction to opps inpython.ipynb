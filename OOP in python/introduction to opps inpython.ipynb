{
 "cells": [
  {
   "cell_type": "markdown",
   "metadata": {},
   "source": [
    "### Introducation to object-oriented programming\n",
    "introducation to object-oriented programming in python.In programming language,mainly there are two approaches that are  used to write program or code.\n",
    "1. Procedural Programming\n",
    "2. Object-oriented programming\n",
    "\n",
    "The procedure we are follow till now is the \"Procedural Programming\" approach,So , in this ssession,we will learn avout objrct oriented programming(OOP).The basic  idea og object-oriented programming(OOP) in python is use to  class and object to represent real-world concept and entities.\n",
    "\n",
    "A class is a blueprint or temple for creating objects,It defines the proerties and mthod that an object of that class will have.Properites are the data or stat of an object,and mehtods are the actions or behaviors that an object perform.\n",
    "\n",
    "An object is an instance of a class ,and it contains its own data and methods,For example you could create a class called\"Person\" that has properties such as name  age,and method such as speak() and walk().Each instance of the person class would be a unique object with its own name and age ,But they would all have the same methods to speak and walk.\n",
    "\n",
    "One of the key feature of OOP in python is encapsulation, which mean that the internal stat of an object is hidden and can only be accessed or modified through the object's methods , This helps to protect the object's data and prevent it from being modified in unexpacted ways.\n",
    "\n",
    "Another key featur of OOP in python is inheritance, which allows new class to be created that inherit the properties and method of an existing class, This allows dor code reuse and makes it easy to create new class that have similar funcation to existing classes.\n",
    "\n",
    "Ploymorphism is also supported in python, which means that object of different classes can be trared as id thay were objects of a common class , This allows for greater flexibilty in code and makes it easier to write code that  can work with multiple types of objects.\n",
    "\n",
    "In summary , OOP in python allows developers to model real-world conocepts and entites using class and object , encapsulate data, reuse codethrough inheritance , and write more flexible code through polymorphism."
   ]
  },
  {
   "cell_type": "markdown",
   "metadata": {},
   "source": [
    "# Python Class and Objects\n",
    "\n",
    "A class is a blueprint or a template for creating object ,providing initial values for state (memger variables or attributes),and implementations of behavior(member funcations or methods).The user-defined object are created using the class keyword.\n",
    "\n",
    "### Creating a class:\n",
    "Let noe create a class using the keyword.\n",
    "```python\n",
    "class Details:\n",
    "    name = \"Rohan\"\n",
    "    age = 20\n",
    "```\n",
    "### Creating an object:\n",
    "Object id the instance of the class used to access the properties of the class Now lets create an object of the class.\n",
    "\n",
    "#### Example:\n",
    "```python\n",
    "obj = Details()\n",
    "peinr(obj)\n",
    "```\n",
    "Now we can print value:\n",
    "#### Example:\n",
    "\n",
    "```python\n",
    "class Details:\n",
    "    name = \"Rohan\"\n",
    "    age = 20\n",
    "\n",
    "obj1 = Details()\n",
    "print(obj1.anme)\n",
    "print(obj1.age)\n",
    "```\n",
    "\n",
    "### Output:\n",
    "\n",
    "```python\n",
    "Rohan\n",
    "20\n",
    "```\n",
    "\n",
    "### Self Parameter\n",
    "\n",
    "The sell paramenter is a reference to the curent instance instance of the class , and is used to access variable that belongs to the class.\n",
    "\n",
    "It must be provided as the extra paramenter the method definiton.\n",
    "\n",
    "#### Example:\n",
    "```python\n",
    "class Details:\n",
    "    name = \"Aziz\"\n",
    "    age = 20\n",
    "\n",
    "    def desc(self):\n",
    "        print(\"My name is\",self.name,\"and I'm\",self.age,\"Years old.\")\n",
    "obj1 = Details()\n",
    "obj1.desc()\n",
    "```\n"
   ]
  },
  {
   "cell_type": "code",
   "execution_count": 8,
   "metadata": {},
   "outputs": [
    {
     "name": "stdout",
     "output_type": "stream",
     "text": [
      "Abdul Aziz is a Ai Artificial intellegence\n"
     ]
    }
   ],
   "source": [
    "class person:\n",
    "    name = \"Aziz\"\n",
    "    occupation = \"Ai Artificial intellegence\"\n",
    "    networh = 10\n",
    "    \n",
    "    def info(self):\n",
    "        print(f\"{self.name} is a {self.occupation}\")\n",
    "\n",
    "a = person()\n",
    "a.name = \"Abdul Aziz\" \n",
    "# print(a.name,a.occupation)\n",
    "a.info()\n"
   ]
  },
  {
   "cell_type": "code",
   "execution_count": null,
   "metadata": {},
   "outputs": [],
   "source": []
  }
 ],
 "metadata": {
  "kernelspec": {
   "display_name": "Python 3",
   "language": "python",
   "name": "python3"
  },
  "language_info": {
   "codemirror_mode": {
    "name": "ipython",
    "version": 3
   },
   "file_extension": ".py",
   "mimetype": "text/x-python",
   "name": "python",
   "nbconvert_exporter": "python",
   "pygments_lexer": "ipython3",
   "version": "3.11.4"
  },
  "orig_nbformat": 4
 },
 "nbformat": 4,
 "nbformat_minor": 2
}
