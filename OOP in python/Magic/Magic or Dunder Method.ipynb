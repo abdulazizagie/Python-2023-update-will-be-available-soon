{
 "cells": [
  {
   "cell_type": "markdown",
   "metadata": {},
   "source": [
    "### Magic/Dunder Method in Python\n",
    "\n",
    "These are special method that you can define in you classes, and when invoked,they give you a powerful way to manipulate object and thei behaviour.\n",
    "\n",
    "Mafic method,also know as \"Dunders\" form the double underscore surrounding their names,are powerful tools that allow you to customize the behaviour of your classes.They are used to implement special method methods such ass the addition, Subtraction and comparison operators ,as well as some more advance techiques like descriptors and properties.\n",
    "\n",
    "Let's take a look at some of the most commonly used magic method in python.\n",
    "\n",
    "> __init__ method\n",
    "\n",
    "The init method is a specia; method that is automatically invoked when you create a new instance of a class.This method is redponsible for setting up the object's initial state,and itis where you would typically define any instance variable that you need,Also called \"constructor\",we have discussed this method already"
   ]
  },
  {
   "cell_type": "code",
   "execution_count": 6,
   "metadata": {},
   "outputs": [
    {
     "name": "stdout",
     "output_type": "stream",
     "text": [
      "Harray\n",
      "6\n"
     ]
    }
   ],
   "source": [
    "class Employee1:\n",
    "    name = \"Harray\"\n",
    "    \n",
    "    def __len__(self):\n",
    "        i = 0\n",
    "        for c in self.name:\n",
    "            i = i + 1\n",
    "        return i\n",
    "\n",
    "e = Employee1()\n",
    "print(e.name)\n",
    "print(len(e))"
   ]
  },
  {
   "cell_type": "code",
   "execution_count": 9,
   "metadata": {},
   "outputs": [
    {
     "name": "stdout",
     "output_type": "stream",
     "text": [
      "The name of the employee is Harry\n",
      "Hy im good\n"
     ]
    }
   ],
   "source": [
    "class Employee2:\n",
    "    def __init__(self,name):\n",
    "        self.name = name\n",
    "    \n",
    "    def __len__(self):\n",
    "        i = 0\n",
    "        for c in range(self.name):\n",
    "            i = i+1\n",
    "        return i\n",
    "    def __str__(self):\n",
    "        return f\"The name of the employee is {self.name}\"\n",
    "    def __repr__(self):\n",
    "        return f\"The name of the employee is {self.name}\"\n",
    "    \n",
    "    def __call__(self):\n",
    "        print(\"Hy im good\")\n",
    "e = Employee2(\"Harry\")        \n",
    "print(e)\n",
    "e()\n",
    "# print(len(e))\n",
    "# print(str(e))"
   ]
  },
  {
   "cell_type": "code",
   "execution_count": null,
   "metadata": {},
   "outputs": [],
   "source": []
  }
 ],
 "metadata": {
  "kernelspec": {
   "display_name": "Python 3",
   "language": "python",
   "name": "python3"
  },
  "language_info": {
   "codemirror_mode": {
    "name": "ipython",
    "version": 3
   },
   "file_extension": ".py",
   "mimetype": "text/x-python",
   "name": "python",
   "nbconvert_exporter": "python",
   "pygments_lexer": "ipython3",
   "version": "3.11.4"
  },
  "orig_nbformat": 4
 },
 "nbformat": 4,
 "nbformat_minor": 2
}
