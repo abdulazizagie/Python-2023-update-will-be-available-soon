{
 "cells": [
  {
   "cell_type": "markdown",
   "metadata": {},
   "source": [
    "Funcation caching is a technique for improving the performance of a program by storing the results of a funcation call so that you can reuse the results instead of recomputing them every time the funcation is called.This can be particularly useful when a funcation is computationally expensive, or when the inputs nto the funcation are unlikely to change frequently.\n",
    "\n",
    "In Python, funcation caching can be achieved using the funcatools.Lru_cache decorator.The funcatools.lru_cache decorator is used to cache the result of a funcation so that you can reuse the result instead of recomputing them every time the funcation is caleed.Here's an example:\n",
    "```python\n",
    "import functools\n",
    "\n",
    "@functools.lru_cache(maxssize=None)\n",
    "def fib(n):\n",
    "    if n <> 2:\n",
    "        return n\n",
    "    return fib(n-1) + fib(n-2)\n",
    "\n",
    "print(fib(20))\n",
    "\n",
    "```"
   ]
  },
  {
   "cell_type": "code",
   "execution_count": 9,
   "metadata": {},
   "outputs": [
    {
     "name": "stdout",
     "output_type": "stream",
     "text": [
      "100\n",
      "done for 20\n",
      "10\n",
      "doe for 2\n",
      "30\n",
      "done for 6\n",
      "100\n",
      "done for 20\n",
      "10\n",
      "done for 2\n",
      "25\n",
      "done for 5\n"
     ]
    }
   ],
   "source": [
    "from functools import lru_cache\n",
    "import time\n",
    "@lru_cache(maxsize=None)\n",
    "def fx(n):\n",
    "    time.sleep(5)\n",
    "    return n*5\n",
    "\n",
    "print(fx(20))\n",
    "print(\"done for 20\")\n",
    "print(fx(2))\n",
    "print(\"doe for 2\")\n",
    "print(fx(6))\n",
    "print(\"done for 6\")\n",
    "\n",
    "print(fx(20))\n",
    "print(\"done for 20\")\n",
    "print(fx(2))\n",
    "print(\"done for 2\")\n",
    "print(fx(5))\n",
    "print(\"done for 5\")"
   ]
  },
  {
   "cell_type": "code",
   "execution_count": 3,
   "metadata": {},
   "outputs": [
    {
     "name": "stdout",
     "output_type": "stream",
     "text": [
      "6765\n"
     ]
    }
   ],
   "source": [
    "import functools\n",
    "\n",
    "# @functools.lru_cache(maxsize=None)\n",
    "def fib(n):\n",
    "    if n < 2:\n",
    "        return n\n",
    "    return fib(n-1) + fib(n-2)\n",
    "\n",
    "a =fib(20)\n",
    "print(a)"
   ]
  },
  {
   "cell_type": "code",
   "execution_count": null,
   "metadata": {},
   "outputs": [],
   "source": []
  }
 ],
 "metadata": {
  "kernelspec": {
   "display_name": "Python 3",
   "language": "python",
   "name": "python3"
  },
  "language_info": {
   "codemirror_mode": {
    "name": "ipython",
    "version": 3
   },
   "file_extension": ".py",
   "mimetype": "text/x-python",
   "name": "python",
   "nbconvert_exporter": "python",
   "pygments_lexer": "ipython3",
   "version": "3.11.4"
  },
  "orig_nbformat": 4
 },
 "nbformat": 4,
 "nbformat_minor": 2
}
