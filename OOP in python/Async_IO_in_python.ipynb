{
 "cells": [
  {
   "cell_type": "markdown",
   "metadata": {},
   "source": [
    "### Async IO python\n",
    "Asynchronous I/O , or async for short, is a programming pattern that allows for high-performance I/O operations in a concurrent and non-blocking manner .In python, async programming is achieved through the use of the `asyncio` module and asynchronous funcations.\n",
    "\n",
    "### Syntax\n",
    "Here is the basic syntax for creating an asynchronous funcation in python:\n",
    "```python\n",
    "import asyncio\n",
    "```"
   ]
  },
  {
   "cell_type": "code",
   "execution_count": 1,
   "metadata": {},
   "outputs": [
    {
     "name": "stdout",
     "output_type": "stream",
     "text": [
      "func 2\n",
      "func 3\n",
      "['func 1', None, None]\n"
     ]
    }
   ],
   "source": [
    "import time\n",
    "import asyncio\n",
    "import requests\n",
    "async def funcation1():\n",
    "    # await asyncio.sleep(1)\n",
    "    url =\"https://www.visiquate.com/assets/images/site-images/resources/thumbnail-ai-rev-cycle.jpg\"\n",
    "    response = requests.get(url)\n",
    "    open(\"instzgram1.jpg\",\"wb\").write(response.content)\n",
    "    return \"func 1\"\n",
    "\n",
    "async def funcation2():\n",
    "    # await asyncio.sleep(1)\n",
    "    url =\"https://www.visiquate.com/assets/images/site-images/resources/thumbnail-ai-rev-cycle.jpg\"\n",
    "    response = requests.get(url)\n",
    "    open(\"instzgram2.jpg\",\"wb\").write(response.content)\n",
    "    print(\"func 2\")\n",
    "    \n",
    "async def function3():\n",
    "    # await asyncio.sleep(4)\n",
    "    url =\"https://www.visiquate.com/assets/images/site-images/resources/thumbnail-ai-rev-cycle.jpg\"\n",
    "    response = requests.get(url)\n",
    "    open(\"instzgram3.jpg\",\"wb\").write(response.content)\n",
    "    print(\"func 3\")\n",
    "    \n",
    "async def main():\n",
    "    # await funcation1()\n",
    "    # await funcation2()\n",
    "    # await function3()   \n",
    "    L = await asyncio.gather(\n",
    "        funcation1(),\n",
    "        funcation2(),\n",
    "        function3()\n",
    "    )\n",
    "    print(L)    \n",
    "    \n",
    "    \n",
    "#     task = asyncio.create_task(funcation1())\n",
    "# #    await funcation1()\n",
    "#     await funcation2()\n",
    "#     await function3()      \n",
    "   \n",
    "await main()\n",
    "   "
   ]
  },
  {
   "cell_type": "code",
   "execution_count": null,
   "metadata": {},
   "outputs": [],
   "source": []
  }
 ],
 "metadata": {
  "kernelspec": {
   "display_name": "Python 3",
   "language": "python",
   "name": "python3"
  },
  "language_info": {
   "codemirror_mode": {
    "name": "ipython",
    "version": 3
   },
   "file_extension": ".py",
   "mimetype": "text/x-python",
   "name": "python",
   "nbconvert_exporter": "python",
   "pygments_lexer": "ipython3",
   "version": "3.12.2"
  },
  "orig_nbformat": 4
 },
 "nbformat": 4,
 "nbformat_minor": 2
}
