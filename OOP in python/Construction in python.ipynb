{
 "cells": [
  {
   "cell_type": "markdown",
   "metadata": {},
   "source": [
    "### Constructors\n",
    "A constructor is a special method in a class used to create and initialize an object of a class.There are different types of constructors.Constructor is invoked automatically when an object of a class is created.\n",
    "\n",
    "A constructor is a unique funcation that gets called automatically when an object is created od a class,The main purpose of a construction is to initialize or assign value to the data memder of that class,It cannot return any value other than None.\n",
    "\n",
    "### Syntax of python Constructor\n",
    "```python\n",
    "def __init__(self):\n",
    "    # initalizations\n",
    "```\n",
    "init is one of the reserved funcation in python.In object oriented programming It is know as a constructor.\n",
    "\n",
    "### Types of Construction in python\n",
    "1. Parameterized Constructor\n",
    "2. Default Constructor\n",
    "\n",
    "### Parameterized Construction in python\n",
    "\n",
    "When the construction accepts argument along with self,it is known as parameterizd constructor.\n",
    "\n",
    "These argument can be used inside the class to assing the value to the data members.\n",
    "\n",
    "### Example:\n",
    "```python\n",
    "class Details:\n",
    "    def __init__(self,animal,group):\n",
    "        self.animal = animal\n",
    "        self.group = group\n",
    "\n",
    "obj1 = Detials(\"Crab\",\"Crustacens\")\n",
    "print(obj1.animal,\"Belong to the\",obj1.group,\"group.\")\n",
    "```\n",
    "#### output:\n",
    "```python\n",
    "crab belongs to the crustaceans group.\n",
    "```\n",
    "Defult Constructor in python\n",
    "\n",
    "When the constructor doesn't accept any argument from the object nd hax onlu one argument , self , in the constructor, it is know as a Default constructor.\n",
    "\n",
    "### Example:\n",
    "```python\n",
    "class Details:\n",
    "    def __init__(self):\n",
    "        print(\"animal crab belong to Crustaceans group\")\n",
    "obj1 = Details()\n",
    "```\n",
    "\n",
    "#### output:\n",
    "```python\n",
    "animal crab brlong to crustaceans group\n",
    "```"
   ]
  },
  {
   "cell_type": "code",
   "execution_count": 5,
   "metadata": {},
   "outputs": [
    {
     "name": "stdout",
     "output_type": "stream",
     "text": [
      "Hey i am a person\n",
      "Hey i am a person\n",
      "harray is a Developer\n"
     ]
    }
   ],
   "source": [
    "class Person:\n",
    "    \n",
    "    def __init__(self,n,o):\n",
    "        print(\"Hey i am a person\")\n",
    "        self.name = n\n",
    "        self.occ = o\n",
    "    @classmethod\n",
    "    def info(cls,str):\n",
    "        print(f\"{str.name} is a {str.occ}\")\n",
    "        \n",
    "a = Person(\"harray\",\"Developer\")\n",
    "b = Person(\"Divya\",\"HR\")\n",
    "a.info(a)\n"
   ]
  },
  {
   "cell_type": "code",
   "execution_count": null,
   "metadata": {},
   "outputs": [],
   "source": []
  }
 ],
 "metadata": {
  "kernelspec": {
   "display_name": "Python 3",
   "language": "python",
   "name": "python3"
  },
  "language_info": {
   "codemirror_mode": {
    "name": "ipython",
    "version": 3
   },
   "file_extension": ".py",
   "mimetype": "text/x-python",
   "name": "python",
   "nbconvert_exporter": "python",
   "pygments_lexer": "ipython3",
   "version": "3.10.6"
  },
  "orig_nbformat": 4
 },
 "nbformat": 4,
 "nbformat_minor": 2
}
