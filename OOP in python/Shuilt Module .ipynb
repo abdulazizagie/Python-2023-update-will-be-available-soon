{
 "cells": [
  {
   "cell_type": "markdown",
   "metadata": {},
   "source": [
    "### Shuilt Module in python\n",
    "Shutil is a python module that provides a higher level inherface for working with file and directories.The name \"shutil\" is short for shell utility.It provides a convenient and efficient way to automate tasks that are commonly performed on files and directories.In this repl,well take a closer look at the shutil module and its various funcations and how they can be used in python.\n",
    "\n",
    "### Importing shuilt\n",
    "\n",
    "The syntax for importing the shutil module is as follows:\n",
    "```python\n",
    "import shutil\n",
    "```\n",
    "### Funcations\n",
    "The following are some of the most commonly used funcation in the shuilt module:\n",
    "\n",
    "- `shutil.copy(src,dst)`:This funcation copies the file located at src to a new location specified by dst.If the destination location already exists, the orignal file will be overwritten.\n",
    "- `shutil.copy2(src,dst)`:This funcation is similar to shutil.copy but it also preserves more metadata about the orignal file , such as the timestamp.\n",
    "- `shutil.copytree(sec,dst)`:This funcation recusively copies the directorylocation at src to a new location specified by dst.if the destination location already exist, the original directory will be merged with it.\n",
    "- `shutil.move(src,dst)`:This funcation moves the file located at src to a new location specified by dst.This funcation is equivalent to renaminga file in most cases.\n",
    "- `shutil.rmtree(path)`: This funcation recursively deletes the directory located at path, long with all of its contents.This funcation is similar to using the rm -rf command in a shell"
   ]
  },
  {
   "cell_type": "code",
   "execution_count": null,
   "metadata": {},
   "outputs": [],
   "source": [
    "import shutil\n",
    "\n",
    "shutil.copy(\"Shuilt Module .ipynb\",\"main3.ipynb\")"
   ]
  },
  {
   "cell_type": "code",
   "execution_count": null,
   "metadata": {},
   "outputs": [],
   "source": [
    "# shutil.copytree(\"Clutter\",\"Mytutorial\")"
   ]
  },
  {
   "cell_type": "code",
   "execution_count": null,
   "metadata": {},
   "outputs": [],
   "source": [
    "# shutil.move(\"Clutter/Exerice 7.clear the cluter.ipynb\",\"Exerice 7.clear the cluter.ipynb\")"
   ]
  },
  {
   "cell_type": "code",
   "execution_count": null,
   "metadata": {},
   "outputs": [],
   "source": [
    "import os\n",
    "os.remove(\"main3.ipynb\")"
   ]
  },
  {
   "cell_type": "code",
   "execution_count": null,
   "metadata": {},
   "outputs": [],
   "source": []
  }
 ],
 "metadata": {
  "kernelspec": {
   "display_name": "Python 3",
   "language": "python",
   "name": "python3"
  },
  "language_info": {
   "codemirror_mode": {
    "name": "ipython",
    "version": 3
   },
   "file_extension": ".py",
   "mimetype": "text/x-python",
   "name": "python",
   "nbconvert_exporter": "python",
   "pygments_lexer": "ipython3",
   "version": "3.11.4"
  },
  "orig_nbformat": 4
 },
 "nbformat": 4,
 "nbformat_minor": 2
}
