{
 "cells": [
  {
   "cell_type": "markdown",
   "metadata": {},
   "source": [
    "### Python Decorators\n",
    "\n",
    "python decorators are a powerful and versatile tool that allow you to modify the behavior of funcations and methods.They are a way to extend   the funcationality of a funcation or method without modifying its source code.\n",
    "\n",
    "A decorator is a funcation that takes another funcation as an argument and returns a new funcation as an argument and return a new funcation that modifiles the behavior of the original funcation.The new funcation is often referred to as a\"decorated\" funcation.The basic syntax for using a decorator is the following:\n",
    "\n",
    "```python\n",
    "@decorator_funcation\n",
    "def my_funcation():\n",
    "    pass\n",
    "```\n",
    "The @decoratore_funcation notational is just a shorthand for the following code:\n",
    "\n",
    "```python\n",
    "def my_funcation():\n",
    "    pass\n",
    "my_funcation = decorator_funcation(my_funcation)\n",
    "```\n",
    "Decorators are often used to add funcationality to funcations and method , such as as longging, memoization, and access control.\n",
    "\n",
    "### Practical use case\n",
    "\n",
    "one common use of decorators is to add logging to a funcation.For examplw, you could use a decorator to log the arguments and return value of a funcation each time it is called:\n",
    "\n",
    "```python\n",
    "import logging\n",
    "\n",
    "def log_funcation_call(func):\n",
    "    def decorated(*args,**kwargs):\n",
    "        logging.info(f\"calling{func.__name__}  withargs = {args},kwargs={kwargs}\")\n",
    "        result = func(*args,**kwargs)\n",
    "        logging.info(f\"{fun.__name__} returned{result}\")\n",
    "        return result\n",
    "    return decorated\n",
    "@log_funcation_call\n",
    "def my_funcation(a,b):\n",
    "    return a + b\n",
    "```\n",
    "\n",
    "In this example , the log_funcation decorater takes a funcation as an arguemnt and return a new funcation that logs the funcation call begore and after orignal funcation is called.\n",
    "\n",
    "### Conclusion\n",
    "Decorators are a powerful and flexible feature in python that can be used to add funcationality to funcation and method without modifying their source code.They are  a great tool for separating concerns,reducing code duplication, and making your code more readable and maintainble.\n",
    "\n",
    "in conclusion , python decorators are a way to extend the funcationality of  funcation and method, by modifying its behavior without modifying the source code.They are used for a variety of perpus such as logging,memoization, access control,and more. they are a powerful tool that can be used to make your code more readable,maintainable, and extendable"
   ]
  },
  {
   "cell_type": "code",
   "execution_count": 13,
   "metadata": {},
   "outputs": [
    {
     "name": "stdout",
     "output_type": "stream",
     "text": [
      "Good morning\n",
      "Hello world\n",
      "Thanks for using this funcation\n",
      "Good morning\n",
      "3\n",
      "Thanks for using this funcation\n"
     ]
    }
   ],
   "source": [
    "\n",
    "def greet(fx):\n",
    "    def mxf(*args,**kwargs):\n",
    "        print(\"Good morning\")\n",
    "        fx(*args,**kwargs)\n",
    "        print(\"Thanks for using this funcation\")\n",
    "    return mxf\n",
    "@greet\n",
    "def hello():\n",
    "    print(\"Hello world\")\n",
    "    \n",
    "@greet\n",
    "def add(a,b):\n",
    "    print(a+b)\n",
    "\n",
    "# greet(hello)()\n",
    "hello()\n",
    "# greet(add)(1,2)\n",
    "add(1,2)"
   ]
  },
  {
   "cell_type": "code",
   "execution_count": 17,
   "metadata": {},
   "outputs": [
    {
     "data": {
      "text/plain": [
       "3"
      ]
     },
     "execution_count": 17,
     "metadata": {},
     "output_type": "execute_result"
    }
   ],
   "source": [
    "import logging\n",
    "\n",
    "def log_funcation_call(func):\n",
    "    def decorated(*args,**kwargs):\n",
    "        logging.info(f\"calling{func.__name__}  withargs = {args},kwargs={kwargs}\")\n",
    "        result = func(*args,**kwargs)\n",
    "        logging.info(f\"{func.__name__} returned{result}\")\n",
    "        return result\n",
    "    return decorated\n",
    "@log_funcation_call\n",
    "def my_funcation(a,b):\n",
    "    return a + b\n",
    "\n",
    "my_funcation(1,2)"
   ]
  },
  {
   "cell_type": "code",
   "execution_count": null,
   "metadata": {},
   "outputs": [],
   "source": []
  }
 ],
 "metadata": {
  "kernelspec": {
   "display_name": "Python 3",
   "language": "python",
   "name": "python3"
  },
  "language_info": {
   "codemirror_mode": {
    "name": "ipython",
    "version": 3
   },
   "file_extension": ".py",
   "mimetype": "text/x-python",
   "name": "python",
   "nbconvert_exporter": "python",
   "pygments_lexer": "ipython3",
   "version": "3.11.4"
  },
  "orig_nbformat": 4
 },
 "nbformat": 4,
 "nbformat_minor": 2
}
