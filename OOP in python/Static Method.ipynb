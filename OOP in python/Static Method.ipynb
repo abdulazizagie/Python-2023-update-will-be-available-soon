{
 "cells": [
  {
   "cell_type": "markdown",
   "metadata": {},
   "source": [
    "Static method in python are method that belong to a class rather than an instance of the class.They are defined using the @staticmethod decorater and do not have access to the instance of the class(i.e,elf).The are called on the class itself,not on an instance of the class ,Static method are often used to create utiliy Funcation that don;t need access to instance data.\n",
    "```python\n",
    "class Math:\n",
    "    @staticmethod\n",
    "    def add(a,b):\n",
    "        return a + b\n",
    "\n",
    "result = Math.add(1,2)\n",
    "print(result) # output : 3\n",
    "```\n",
    "In this example, the add method is a static method of the Math class.It takes two paramwter a and b return their sum.The method can be called on the class on the itself,Without the neeed to create an instance of the class.\n"
   ]
  },
  {
   "cell_type": "code",
   "execution_count": 1,
   "metadata": {},
   "outputs": [
    {
     "name": "stdout",
     "output_type": "stream",
     "text": [
      "5\n",
      "11\n",
      "5\n"
     ]
    }
   ],
   "source": [
    "class Math:\n",
    "    def __init__(self,num):\n",
    "        self.num = num\n",
    "    \n",
    "    def addtonum(self,n):\n",
    "        self.num = self.num +n\n",
    "        \n",
    "    @staticmethod\n",
    "    def add(a,b):\n",
    "        return a+b\n",
    "# result = Math.add(1,2)\n",
    "# print(result) # Output:3\n",
    "\n",
    "a = Math(5)\n",
    "print(a.num)\n",
    "a.addtonum(6)\n",
    "print(a.num)\n",
    "\n",
    "print(Math.add(2,3))"
   ]
  },
  {
   "cell_type": "code",
   "execution_count": null,
   "metadata": {},
   "outputs": [],
   "source": []
  }
 ],
 "metadata": {
  "kernelspec": {
   "display_name": "Python 3",
   "language": "python",
   "name": "python3"
  },
  "language_info": {
   "codemirror_mode": {
    "name": "ipython",
    "version": 3
   },
   "file_extension": ".py",
   "mimetype": "text/x-python",
   "name": "python",
   "nbconvert_exporter": "python",
   "pygments_lexer": "ipython3",
   "version": "3.11.4"
  },
  "orig_nbformat": 4
 },
 "nbformat": 4,
 "nbformat_minor": 2
}
