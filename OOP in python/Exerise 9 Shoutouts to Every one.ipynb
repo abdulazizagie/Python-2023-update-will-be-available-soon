{
 "cells": [
  {
   "cell_type": "markdown",
   "metadata": {},
   "source": [
    "### Write a program to pronounce list of name using win32 API. If you are given a list l as follows:\n",
    "\n",
    "```python\n",
    "l = [\"Rahul\",\"Nishany\",\"Harray\"]\n",
    "```\n",
    "Your program should pronouce:\n",
    "```python\n",
    "Shoutout to Rahul\n",
    "Shoutout to Nishant\n",
    "Shoutout to Harray\n",
    "```\n",
    "Note:if you are not using windowa,try to figure out how to do the same thing using some other package"
   ]
  },
  {
   "cell_type": "code",
   "execution_count": 1,
   "metadata": {},
   "outputs": [
    {
     "data": {
      "text/plain": [
       "1"
      ]
     },
     "execution_count": 1,
     "metadata": {},
     "output_type": "execute_result"
    }
   ],
   "source": [
    "import win32com.client\n",
    "speaker = win32com.client.Dispatch(\"SAPI.SpVoice\")\n",
    "speaker.Speak('''Hello, it works! I was trying to use this code to convert text to speech with Python 3.4,\n",
    "              but since my computer's main language is not English (I'm using Win7x64)\n",
    "              the voice and the accent are wrong (Because I want it to 'speak' English).''')"
   ]
  },
  {
   "cell_type": "code",
   "execution_count": 1,
   "metadata": {},
   "outputs": [
    {
     "data": {
      "text/plain": [
       "1"
      ]
     },
     "execution_count": 1,
     "metadata": {},
     "output_type": "execute_result"
    }
   ],
   "source": [
    "import win32com.client\n",
    "\n",
    "speaker = win32com.client.Dispatch(\"SAPI.SpVoice\")\n",
    "speaker.Speak(['Aziz','Waqas','Ali'])"
   ]
  },
  {
   "cell_type": "code",
   "execution_count": null,
   "metadata": {},
   "outputs": [],
   "source": []
  }
 ],
 "metadata": {
  "kernelspec": {
   "display_name": "Python 3",
   "language": "python",
   "name": "python3"
  },
  "language_info": {
   "codemirror_mode": {
    "name": "ipython",
    "version": 3
   },
   "file_extension": ".py",
   "mimetype": "text/x-python",
   "name": "python",
   "nbconvert_exporter": "python",
   "pygments_lexer": "ipython3",
   "version": "3.11.4"
  },
  "orig_nbformat": 4
 },
 "nbformat": 4,
 "nbformat_minor": 2
}
