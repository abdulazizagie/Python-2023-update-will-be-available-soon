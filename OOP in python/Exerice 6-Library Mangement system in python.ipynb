{
 "cells": [
  {
   "cell_type": "markdown",
   "metadata": {},
   "source": [
    "Write a Library class With no_of_book and books as two instance variable , write a program to create a library from this library class and show  how you can print all books,add a book and get the number of books using different methods,show That your program doesnt persist the books after the program is stopped!"
   ]
  },
  {
   "cell_type": "code",
   "execution_count": 1,
   "metadata": {},
   "outputs": [],
   "source": [
    "no_of_book = []\n",
    "Books = []\n",
    "i = 0"
   ]
  },
  {
   "cell_type": "code",
   "execution_count": 2,
   "metadata": {},
   "outputs": [
    {
     "name": "stdout",
     "output_type": "stream",
     "text": [
      "['Data Science'] [1]\n",
      "len are qrual\n",
      "Good luck\n"
     ]
    }
   ],
   "source": [
    "class Library:\n",
    "    # def __init__(self,no_of_book,Books):\n",
    "    #     self.no_of_books = no_of_book\n",
    "    #     self.Books = Books\n",
    "    def add_book(self):\n",
    "        Book_Name = input(\"Enter the Books Name: \")\n",
    "        Books.append(Book_Name)\n",
    "        global i\n",
    "        i+=1\n",
    "        no_of_book.append(i)\n",
    "        print(Books,no_of_book)\n",
    "        \n",
    "    def check_No_of_book(self):\n",
    "        if len(Books) == len(no_of_book):\n",
    "            print(\"len are qrual\")\n",
    "        else:\n",
    "            raise \"Len is not equal\"\n",
    "        \n",
    "while (True):\n",
    "    user = int(input(\"Are you check the library Enter the 1,and you add_book,Enter the 0\"))\n",
    "    if (user == 0):\n",
    "        a = Library()\n",
    "        a.add_book()\n",
    "    \n",
    "    elif (user == 1):\n",
    "        a = Library()\n",
    "        a.check_No_of_book()\n",
    "    elif (user == 2):\n",
    "        print(\"Good luck\")\n",
    "        break\n",
    "    else:\n",
    "        print(\"Enter the correct option\")"
   ]
  },
  {
   "cell_type": "code",
   "execution_count": 7,
   "metadata": {},
   "outputs": [
    {
     "name": "stdout",
     "output_type": "stream",
     "text": [
      "if the library has 1 books['Data science']\n",
      "if the library has 1 books['Dat as science']\n"
     ]
    }
   ],
   "source": [
    "class Library:\n",
    "    \n",
    "    def __init__(self):\n",
    "        self.noBooks = 0\n",
    "        self.Books = []\n",
    "        \n",
    "    def add(self,Book):\n",
    "        self.Books.append(Book)\n",
    "        self.noBooks = len(self.Books)\n",
    "        \n",
    "    def show(self):\n",
    "        print(f\"if the library has {self.noBooks} books{self.Books}\")\n",
    "\n",
    "l1 = Library()\n",
    "l1.add(\"Data science\") \n",
    "l1.show()       \n",
    "\n",
    "l1 = Library()\n",
    "l1.add(\"Dat as science\") \n",
    "l1.show()       "
   ]
  },
  {
   "cell_type": "code",
   "execution_count": null,
   "metadata": {},
   "outputs": [],
   "source": []
  }
 ],
 "metadata": {
  "kernelspec": {
   "display_name": "Python 3",
   "language": "python",
   "name": "python3"
  },
  "language_info": {
   "codemirror_mode": {
    "name": "ipython",
    "version": 3
   },
   "file_extension": ".py",
   "mimetype": "text/x-python",
   "name": "python",
   "nbconvert_exporter": "python",
   "pygments_lexer": "ipython3",
   "version": "3.11.4"
  },
  "orig_nbformat": 4
 },
 "nbformat": 4,
 "nbformat_minor": 2
}
