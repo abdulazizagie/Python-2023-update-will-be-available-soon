{
 "cells": [
  {
   "cell_type": "markdown",
   "metadata": {},
   "source": [
    "### Single inheritance in python\n",
    "\n",
    "Single inheritance is a type of inheritance where a class inherits properties and behaviors from a single parent .Thi is the simplest and most common from of inheritance.\n",
    "\n",
    "### Syntax\n",
    "The syntax for single inheritance in python is strightforward and easy to understand .To create a new class that inherits from a parent class, simply specify the parent class in the calss definition,inside the parentheses,like this:\n",
    "\n",
    "```python\n",
    "class ChildClass(ParentClass):\n",
    "    # class body\n",
    "```\n",
    "#### Example:\n",
    "Let's consider a simple example of single inheritance in python .Consider a class named \"Animal\" that contain the attributes and behaviors that are common to all animals.\n",
    "\n",
    "```python\n",
    "class Animal:\n",
    "    def __init__(self,name,species):\n",
    "        self.name = name\n",
    "        self.species = species\n",
    "\n",
    "    def make_sound(self):\n",
    "        print(\"Sound made by the animal\")\n",
    "```\n",
    "If we want to create a new class for a specific type of animal as a dog,we create a new class named \"Dog\" that inherits from the Animal class.\n",
    "\n",
    "```python\n",
    "class Dog(Animal):\n",
    "    def __init__(self,name,breed):\n",
    "        Animal.__init__(self,name,species=\"Dog\")\n",
    "        self.breed = breed\n",
    "\n",
    "    def make_sound(self):\n",
    "        print(\"Bark!\")\n",
    "\n",
    "```"
   ]
  },
  {
   "cell_type": "code",
   "execution_count": 5,
   "metadata": {},
   "outputs": [
    {
     "name": "stdout",
     "output_type": "stream",
     "text": [
      "Bark!\n",
      "Sound made by the animal\n",
      "None\n"
     ]
    }
   ],
   "source": [
    "class Animal:\n",
    "    def __init__(self,name,species):\n",
    "        self.name = name\n",
    "        self.species = species\n",
    "\n",
    "    def make_sound(self):\n",
    "        print(\"Sound made by the animal\")\n",
    "        \n",
    "class Dog(Animal):\n",
    "    def __init__(self,name,breed):\n",
    "        Animal.__init__(self,name,species=\"Dog\")\n",
    "        self.breed = breed\n",
    "\n",
    "    def make_sound(self):\n",
    "        print(\"Bark!\")\n",
    "        \n",
    "d = Dog(\"Dog\",\"Doggerman\")\n",
    "d.make_sound()\n",
    "\n",
    "a = Animal(\"Dog\",\"Dog\")\n",
    "print(a.make_sound())\n"
   ]
  },
  {
   "cell_type": "code",
   "execution_count": null,
   "metadata": {},
   "outputs": [],
   "source": []
  }
 ],
 "metadata": {
  "kernelspec": {
   "display_name": "Python 3",
   "language": "python",
   "name": "python3"
  },
  "language_info": {
   "codemirror_mode": {
    "name": "ipython",
    "version": 3
   },
   "file_extension": ".py",
   "mimetype": "text/x-python",
   "name": "python",
   "nbconvert_exporter": "python",
   "pygments_lexer": "ipython3",
   "version": "3.11.4"
  },
  "orig_nbformat": 4
 },
 "nbformat": 4,
 "nbformat_minor": 2
}
