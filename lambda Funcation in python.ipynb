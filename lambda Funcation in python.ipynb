{
 "cells": [
  {
   "cell_type": "markdown",
   "metadata": {},
   "source": [
    "### Lambda Funcation in python\n",
    "\n",
    "in python a lambda funcation is a small anonymous funcation without a name .It is defined using the lambda keyword and has the following syntax:\n",
    "\n",
    "```python\n",
    "lambda arguments:expression\n",
    "```\n",
    "\n",
    "Lambda funcation are other used in situations where a small funcation is required for a short period of time ,They are commonly used as arguments to higher-order funcation,such as map filter , and reduce\n",
    "\n",
    "Here is an example of how to use a lambda funcation:\n",
    "\n",
    "```python \n",
    "# funcation to double the imput\n",
    "\n",
    "def double(x):\n",
    "    return x*2\n",
    "\n",
    "# Lambda funcation to double the input\n",
    "Lambda x: x*2\n",
    "```\n",
    "The above Lambda duncation has the same funcationality as the double funcation defined earler.However, the Lambda funcation is anonymous,as it does not have a name.\n",
    "\n",
    "Lambda funcation can have multiple argument, hust like regular funcations,Here is an example of a lambda funcation with multiple arguments:\n",
    "\n",
    "```python\n",
    "# Funcation to calculate the product of two numbers\n",
    "def multiply(x,y):\n",
    "    return x*y\n",
    "\n",
    "# Lambda funcation to calculate the product of two numbers\n",
    "lambda x,y:x*y\n",
    "```\n",
    "Lambda funcation can also include multiple statments,but they are limited to a single expression.For example:\n",
    "```python\n",
    "# Lambda funcation to calculate the product of two numbers,\n",
    "# with additional print statment\n",
    "Lambda x,y:print(f'{x} * {y} = {x * y}')\n",
    "```\n",
    "In the above example , the lambda funcation includes a print statment ,but it is still limited to a single expression.\n",
    "\n",
    "Lambda funcation are often used in conjunction with higher-order funcation,such as map,filter and reduce which we will look into later."
   ]
  },
  {
   "cell_type": "code",
   "execution_count": 4,
   "metadata": {},
   "outputs": [
    {
     "name": "stdout",
     "output_type": "stream",
     "text": [
      "10\n",
      "125\n",
      "6.0\n",
      "14\n"
     ]
    }
   ],
   "source": [
    "# def double(x):\n",
    "    # return x*2\n",
    "# double(3)\n",
    "def appl(fx,value):\n",
    "    return 6 + fx(value)\n",
    "\n",
    "double = lambda x:x*2\n",
    "cube = lambda x:x*x*x\n",
    "avg = lambda x,y,z:(x + y + z) / 3\n",
    "\n",
    "print(double(5))\n",
    "print(cube(5))\n",
    "print(avg(3,5,10))\n",
    "print(appl(lambda x: x * x * x,2))"
   ]
  },
  {
   "cell_type": "code",
   "execution_count": null,
   "metadata": {},
   "outputs": [],
   "source": []
  }
 ],
 "metadata": {
  "kernelspec": {
   "display_name": "Python 3",
   "language": "python",
   "name": "python3"
  },
  "language_info": {
   "codemirror_mode": {
    "name": "ipython",
    "version": 3
   },
   "file_extension": ".py",
   "mimetype": "text/x-python",
   "name": "python",
   "nbconvert_exporter": "python",
   "pygments_lexer": "ipython3",
   "version": "3.11.4"
  },
  "orig_nbformat": 4
 },
 "nbformat": 4,
 "nbformat_minor": 2
}
