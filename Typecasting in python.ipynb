{
 "cells": [
  {
   "attachments": {},
   "cell_type": "markdown",
   "metadata": {},
   "source": [
    "### Typecasting in python\n",
    "\n",
    "the conversion of one data type into other data type is know as type casting in python or type conversion in python.\n",
    "\n",
    "python support a wide veriety of funcation ar method like:int(),float(),str(),ard(),hex(),oct(),tuple(),set(),list(),dic(),etc,for the type casting in python.\n",
    "\n",
    "\n"
   ]
  },
  {
   "cell_type": "code",
   "execution_count": 3,
   "metadata": {},
   "outputs": [
    {
     "name": "stdout",
     "output_type": "stream",
     "text": [
      "3\n"
     ]
    }
   ],
   "source": [
    "# a = 1\n",
    "a = '1'\n",
    "# b = 2\n",
    "b = '2'\n",
    "\n",
    "print(int(a)+int(b))"
   ]
  },
  {
   "attachments": {},
   "cell_type": "markdown",
   "metadata": {},
   "source": [
    "### Two Type of Typecasting:\n",
    "\n",
    "1. Explicit Conversion (Explicit type casting in python)\n",
    "2. Implicit Conversion (Implict type casting in python)\n",
    "\n",
    "#### Explict Typecasting\n",
    "\n",
    "The  conversion of one data type into another data type , done via developer or programmer's intervention or manually as per the requirmwnt , is know as explicity type converion.\n",
    "\n",
    "it  can be achieved  with the help of python's built-in type conversion funcation such as int(),hex(),act(),str()"
   ]
  },
  {
   "cell_type": "code",
   "execution_count": 4,
   "metadata": {},
   "outputs": [
    {
     "name": "stdout",
     "output_type": "stream",
     "text": [
      "The Sum of both the numbers is :. 22\n"
     ]
    }
   ],
   "source": [
    "string = \"15\"\n",
    "number = 7\n",
    "string_number = int(string) # throws an errir if the string is not a valid integer\n",
    "sum = number + string_number\n",
    "print(\"The Sum of both the numbers is :.\",sum)"
   ]
  },
  {
   "attachments": {},
   "cell_type": "markdown",
   "metadata": {},
   "source": [
    "#### Implicity type csdting:\n",
    "\n",
    "Data type in python do not have the same level i.e. order of data types is not the same in python.some of the data types have higher-order and some have lower order. While performing data types in Python , one of the variable's data types will be changed to the higher data types.\n",
    "According to the level, one data type is converted into other by the Python interpreater itself(automatically).This is called , implicit typecasting\n",
    "\n",
    "Python converts a  smaller datra type to a higher data type to prevent data loss.\n",
    "\n",
    "#### Example of implicit type casting:"
   ]
  },
  {
   "cell_type": "code",
   "execution_count": 5,
   "metadata": {},
   "outputs": [
    {
     "name": "stdout",
     "output_type": "stream",
     "text": [
      "<class 'int'>\n",
      "<class 'float'>\n",
      "10.0\n",
      "<class 'float'>\n"
     ]
    }
   ],
   "source": [
    "#  Python automatically converts a to int\n",
    "a = 7\n",
    "print(type(a))\n",
    "\n",
    "# Python automatically converts b to float\n",
    "b = 3.0\n",
    "print(type(b))\n",
    "\n",
    "# Python automatically converts c to filat as it is a float addition\n",
    "c = a+b\n",
    "print(c)\n",
    "print(type(c))"
   ]
  },
  {
   "cell_type": "code",
   "execution_count": null,
   "metadata": {},
   "outputs": [],
   "source": []
  }
 ],
 "metadata": {
  "kernelspec": {
   "display_name": "Python 3",
   "language": "python",
   "name": "python3"
  },
  "language_info": {
   "codemirror_mode": {
    "name": "ipython",
    "version": 3
   },
   "file_extension": ".py",
   "mimetype": "text/x-python",
   "name": "python",
   "nbconvert_exporter": "python",
   "pygments_lexer": "ipython3",
   "version": "3.11.3"
  },
  "orig_nbformat": 4
 },
 "nbformat": 4,
 "nbformat_minor": 2
}
