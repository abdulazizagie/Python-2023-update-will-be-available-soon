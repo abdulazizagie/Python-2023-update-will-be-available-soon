{
 "cells": [
  {
   "attachments": {},
   "cell_type": "markdown",
   "metadata": {},
   "source": [
    "# Day 1 - What is programming and Python?\n",
    "\n",
    "----\n",
    "\n",
    "what is programming \n",
    "\n",
    "-------\n",
    "\n",
    "progtamming is a way for us to tell computers what to do. Computer is a very dumb nachine and it only does what we tell it do . Hence we learn programing and tell computer to do what we are very slow at- computation. if I ask you to calculate 5+6,you will immediatly say 11.\n",
    "How about 2345676445 x 425464?\n",
    "\n",
    "You will strat searching for a calculator or jump to a new tab to calculate the same. This 100 days of code series will help you learn python from strating to the end . We will strat from 0and by the time we end this coures.I promise youn will be a job ready python developer\n",
    "\n",
    "### What is Python?\n",
    "\n",
    "----\n",
    "- Python is a dynamically typed , general purpose programing language that supports an object-oriendet-programing approch as well as a funcation programing approch.\n",
    "- python is an  interpreted and a highe level programing language.\n",
    "- It was created by Guido van Rossum in 1989.\n",
    "\n",
    "### Feature of Python\n",
    "\n",
    "----\n",
    "- pyhthon as a simple and easy to understand.\n",
    "- It is Interpreted and platform-independent which  make dobugging very easy.\n",
    "- python is an open-source programming language.\n",
    "- python provides very big library support .some of the popular libraries include Numpy , Tensofloe,selenim,OpenCv,etc.\n",
    "- It is possible to integrate other programing language within python\n",
    "\n",
    "### What is Python used for\n",
    "----\n",
    "\n",
    "- Python is used in Data Visualization  to create plots and graphical repesentations.\n",
    "- Python help in Data Analytics to analyze and undertand raw data for insight and trends.\n",
    "- It is used in Ai and Machine Learning to simulate human behavior and to learn from past data without hard  coding.\n",
    "- It is used to create web application.\n",
    "- It can be used to handle database.\n",
    "- It is used in business and acconting to perform complex mathematical operation along with quantitive and qualtitative analysis.\n",
    "\n",
    "\n",
    "### Why Replit?\n",
    "- Replit is very easy to share totorials and code \n",
    "- You can easly fork this repl and continue learning in your own style.Video,Code as well as text tutorial on the same page which makes thing easy!\n",
    "- For fellow techers out there ,you create a tutorical folder to create tutorials using replit\n",
    "\n",
    "\n",
    "\n",
    "\n"
   ]
  },
  {
   "cell_type": "code",
   "execution_count": null,
   "metadata": {},
   "outputs": [],
   "source": []
  }
 ],
 "metadata": {
  "language_info": {
   "name": "python"
  },
  "orig_nbformat": 4
 },
 "nbformat": 4,
 "nbformat_minor": 2
}
