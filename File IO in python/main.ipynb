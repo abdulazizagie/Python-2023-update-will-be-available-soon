{
 "cells": [
  {
   "cell_type": "markdown",
   "metadata": {},
   "source": [
    "python provides serveral ways ti manipulate files.Today , we will discuss how to handle file in python.\n",
    "\n",
    "### Opening a File\n",
    "\n",
    "Before we can perfrom any operation on a file, we must first open it.Python provides the open() funcation to open a file.It takes two arguments: the name of the file and the mode in which the file should be opened.The mode can be 'r' for reading,'w' for writing , or 'a' for appending.\n",
    "\n",
    "Here's an example of how to open a file for reading:\n",
    "```python\n",
    "f = open('myfile.txt','r')\n",
    "```\n",
    "By defult,the open() funcation returns a file object that can be used to read from or write to the file ,depending on the mode.\n",
    "\n",
    "### Modes in file\n",
    "\n",
    "There are various modes in which we can open files.\n",
    "\n",
    "1. read(r):The mode opens the file for reading only and gives an arror if the file does not exist.This is the defult mode if no mode is passes as a parameter.\n",
    "2. write(w):This mode opens the file for writing only and creates a new file if the file does not exist.\n",
    "3. append(a): This mode opens the file for appending only and creates a new file if the does not exist.\n",
    "4. creat(x): This mode create a file and gives an error if the file already exists.\n",
    "5. text(t):Apart from these modes we also need to specify how the file must be handled. 't'mode is used to handle text file.t refers to the text mode .There is no difference between r and rt or w and wt since text mode id the defult .The defult mode is 'r'(open for reading text,synonym of 'rt').\n",
    "6. binary(b) :used to handle binary file (images,pdfs,etc.)\n",
    "\n",
    "### Reading from a File\n",
    "\n",
    "once we have a file object, we can various method to read from the file.\n",
    "\n",
    "The read() method read reads the entire contents of the file and return it as a string.\n",
    "\n",
    "### Writing to a File\n",
    "\n",
    "To write to a File ,we first need to open it in write mode.\n",
    "```python\n",
    "f = open('myfile.txt','w')\n",
    "```\n",
    "We can then use the write() mwthod to write to the file.\n",
    "\n",
    "```python\n",
    "f = open('myfile.txt','w')\n",
    "f.write('hello, world!')\n",
    "```\n",
    "\n",
    "Keep in mind that writing to file will overwrite its contents.if you want to append to a file instead of overwriting it,you can open it in append mode.\n",
    "\n",
    "```python\n",
    "f = open(\"myfile.txt\",'a')\n",
    "f.write('Hello,world!')\n",
    "```\n",
    "\n",
    "### Closing a File\n",
    "\n",
    "it is important to close a file after you are done with it. This releases the resources used ny the file and allows other programs to access it.\n",
    "\n",
    "To cloase a file , you can use the close() method.\n",
    "```python\n",
    "f = open('myfile.txt','r')\n",
    "# .... do something with the file\n",
    "f.close()\n",
    "```\n",
    "The 'With' statement\n",
    "\n",
    "Alternatively, you can use the with statement to automatically close the file after you are done with it.\n",
    "\n",
    "```python\n",
    "with open('mtfile.txt','r') as f :\n",
    "    # .... do somthing with the file\n",
    "```"
   ]
  },
  {
   "cell_type": "code",
   "execution_count": null,
   "metadata": {},
   "outputs": [],
   "source": [
    "f = open('myfile2.txt','x')\n",
    "f.write(\"how are you\")\n",
    "f.close()"
   ]
  },
  {
   "cell_type": "code",
   "execution_count": null,
   "metadata": {},
   "outputs": [],
   "source": [
    "f = open('myfile.txt','w')\n",
    "f.write(\"Hey harry awesome man\")\n",
    "f.close()\n"
   ]
  },
  {
   "cell_type": "code",
   "execution_count": null,
   "metadata": {},
   "outputs": [],
   "source": [
    "f = open('myfile.txt','r')\n",
    "print(f)\n",
    "text = f.read()\n",
    "print(text)\n",
    "f.close()"
   ]
  },
  {
   "cell_type": "code",
   "execution_count": null,
   "metadata": {},
   "outputs": [],
   "source": [
    "f = open('myfile.txt','a')\n",
    "f.write(',hi you are teacher')\n",
    "f.close()"
   ]
  },
  {
   "cell_type": "code",
   "execution_count": 12,
   "metadata": {},
   "outputs": [
    {
     "name": "stdout",
     "output_type": "stream",
     "text": [
      "<_io.BufferedReader name='myfile.txt'>\n",
      "b'Hey harry awesome man'\n"
     ]
    }
   ],
   "source": [
    "f = open('myfile.txt','rb')\n",
    "print(f)\n",
    "text = f.read()\n",
    "print(text)\n",
    "f.close()"
   ]
  },
  {
   "cell_type": "code",
   "execution_count": 17,
   "metadata": {},
   "outputs": [
    {
     "name": "stdout",
     "output_type": "stream",
     "text": [
      "Hey harry awesome mannext time don't supertenext time don't superte\n"
     ]
    }
   ],
   "source": [
    "with open('myfile.txt','r') as f:\n",
    "    text = f.read()\n",
    "    print(text)"
   ]
  },
  {
   "cell_type": "code",
   "execution_count": 16,
   "metadata": {},
   "outputs": [],
   "source": [
    "with open('myfile.txt','a') as f:\n",
    "    f.write(\"next time don't superte\")"
   ]
  },
  {
   "cell_type": "code",
   "execution_count": null,
   "metadata": {},
   "outputs": [],
   "source": []
  }
 ],
 "metadata": {
  "kernelspec": {
   "display_name": "Python 3",
   "language": "python",
   "name": "python3"
  },
  "language_info": {
   "codemirror_mode": {
    "name": "ipython",
    "version": 3
   },
   "file_extension": ".py",
   "mimetype": "text/x-python",
   "name": "python",
   "nbconvert_exporter": "python",
   "pygments_lexer": "ipython3",
   "version": "3.11.4"
  },
  "orig_nbformat": 4
 },
 "nbformat": 4,
 "nbformat_minor": 2
}
