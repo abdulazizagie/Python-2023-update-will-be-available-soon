{
 "cells": [
  {
   "cell_type": "markdown",
   "metadata": {},
   "source": [
    "### Seek() and tell() funcations\n",
    "\n",
    "In python , the seek() and tell() funcation are used to work with file object and their postions within a file.These funcation are part of the built-in io module,which provides a consistent interface for reading and writing  to various file-like object, such as files,pipes and in-memory buffers.\n",
    "\n",
    "### Seek funcation\n",
    "\n",
    "The seek() funcation allows you to move the current position within a file to a specific point.The postion is specified in bytes,and you can move either forward or backword from the current position.\n",
    "For example:\n",
    "```python\n",
    "with open('file.txt','r') as f:\n",
    "    # move to the 10th byte in the file\n",
    "    f.seek(10)\n",
    "\n",
    "    # Read the next 5 bytes\n",
    "    data = f.read(5)\n",
    "```\n",
    "### Tell Funcation\n",
    "\n",
    "The tell() funcation return the current postion within the file, in bytes.This can be useful for keeping track of your location within the file or for seeking to a specific position relative to the current position.\n",
    "For example:\n",
    "\n",
    "```python\n",
    "with open('file.txt','r') a f:\n",
    "    #Read the first 10 bytes\n",
    "    data = f.read(10)\n",
    "\n",
    "    # save the current position\n",
    "    current_position = f.tell()\n",
    "\n",
    "    # seek to the saved position\n",
    "    f.seek(current_position)\n",
    "```\n",
    "### Truncate function\n",
    "\n",
    "When you open a file in python using the open funcation , you can specify the mode in which you want to open the file.if you specifythe mode as 'w' or 'a'.The file is opened in write mode and you can write to the file.However,if you want to truncate the file to a specific size,you can use the truncate funcation.\n",
    "\n",
    "Here is an example of how to use the truncate funcation:\n",
    "\n",
    "```python\n",
    "with open(\"sample.txt\",'w') as f:\n",
    "    f.write(\"Hello world!\")\n",
    "    f.truncate(5)\n",
    "\n",
    "with open('smpal.txt','r') as f:\n",
    "    print(f.read()) \n",
    "```\n"
   ]
  },
  {
   "cell_type": "code",
   "execution_count": null,
   "metadata": {},
   "outputs": [],
   "source": [
    "with open(\"myfile.txt\",'r') as f:\n",
    "    print(type(f))\n",
    "    \n",
    "    # Move to the 10th byte in the file\n",
    "    f.seek(5)\n",
    "    \n",
    "    # Read the next 5 bytes\n",
    "    print(f.tell())\n",
    "    data = f.read(5)\n",
    "    print(data)\n",
    "    "
   ]
  },
  {
   "cell_type": "code",
   "execution_count": 3,
   "metadata": {},
   "outputs": [
    {
     "name": "stdout",
     "output_type": "stream",
     "text": [
      "Hell\n"
     ]
    }
   ],
   "source": [
    "with open(\"sample.txt\",'w') as f:\n",
    "    f.write(\"Hello world!\")\n",
    "    f.truncate(5)\n",
    "\n",
    "with open('sample.txt','r') as f:\n",
    "    print(f.read()) "
   ]
  },
  {
   "cell_type": "code",
   "execution_count": null,
   "metadata": {},
   "outputs": [],
   "source": []
  }
 ],
 "metadata": {
  "kernelspec": {
   "display_name": "Python 3",
   "language": "python",
   "name": "python3"
  },
  "language_info": {
   "codemirror_mode": {
    "name": "ipython",
    "version": 3
   },
   "file_extension": ".py",
   "mimetype": "text/x-python",
   "name": "python",
   "nbconvert_exporter": "python",
   "pygments_lexer": "ipython3",
   "version": "3.11.4"
  },
  "orig_nbformat": 4
 },
 "nbformat": 4,
 "nbformat_minor": 2
}
