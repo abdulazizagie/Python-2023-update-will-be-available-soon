{
 "cells": [
  {
   "cell_type": "markdown",
   "metadata": {},
   "source": [
    "### Readlines() method\n",
    "\n",
    "The readline() method reads a single  line from the file. if we want to read multiple lines , we can use a loop.\n",
    "\n",
    "```python\n",
    "f = open('myfile.txt','r')\n",
    "while True:\n",
    "    line = f.readline()\n",
    "    if not line:\n",
    "        break\n",
    "    print(line)\n",
    "```\n",
    "\n",
    "The readliness() method reads all the lines of the file and returns them as a list of strings.\n",
    "\n",
    "### Writelines() method\n",
    "\n",
    "The writelines() method in python writes a sequence of string to a file.The sequence can be any iterable object, such as a list or a tuple.\n",
    "\n",
    "Here's an example of how to use the writlines()\n",
    "method:\n",
    "\n",
    "```python\n",
    "f = open('myfile.txt',.'w')\n",
    "lines = ['line 1\\n','line 2\\n','line 3\\n']\n",
    "f.writelines(lines)\n",
    "f.close()\n",
    "\n",
    "```\n",
    "This will write the string int he lines list to the file myfile.txt the \\n character are used to add newwline characters to the end of each string.\n",
    "\n",
    "Keep in mind that the writelines() method does not add newline cjaracters between the string in the sequence.If you want to add newline between the strings,you can use aloop to write each string seperately:\n",
    "```python\n",
    "f = open('myfile.txt','w')\n",
    "lines = ['line 1','line 2','Line 3']\n",
    "for line in lines:\n",
    "    f.write(line + '\\n')\n",
    "f.close()\n",
    "```"
   ]
  },
  {
   "cell_type": "code",
   "execution_count": 22,
   "metadata": {},
   "outputs": [
    {
     "name": "stdout",
     "output_type": "stream",
     "text": [
      "56,45,67\n",
      "\n",
      "Marks of student 1 in Maths is:56\n",
      "Marks of student 1 in English is:45\n",
      "Marks of student 1 in SST is:67\n",
      "12,34,63\n",
      "\n",
      "Marks of student 2 in Maths is:12\n",
      "Marks of student 2 in English is:34\n",
      "Marks of student 2 in SST is:63\n",
      "13,64,23\n",
      "Marks of student 3 in Maths is:13\n",
      "Marks of student 3 in English is:64\n",
      "Marks of student 3 in SST is:23\n"
     ]
    }
   ],
   "source": [
    "f = open('myfile.txt','r')\n",
    "i = 0\n",
    "while True:\n",
    "    i = i+1\n",
    "    line = f.readline()\n",
    "    if not line:\n",
    "        break\n",
    "    m1 = int(line.split(\",\")[0])\n",
    "    m2 = int(line.split(\",\")[1])\n",
    "    m3 = int(line.split(\",\")[2])\n",
    "    print(line)\n",
    "    print(f\"Marks of student {i} in Maths is:{m1}\")\n",
    "    print(f\"Marks of student {i} in English is:{m2}\")\n",
    "    print(f\"Marks of student {i} in SST is:{m3}\")\n",
    "    \n"
   ]
  },
  {
   "cell_type": "code",
   "execution_count": 25,
   "metadata": {},
   "outputs": [],
   "source": [
    "f = open('myfile.txt','w')\n",
    "lines = ['line 1\\n','line 2\\n','line 3\\n']\n",
    "f.writelines(lines)\n",
    "f.close()"
   ]
  },
  {
   "cell_type": "code",
   "execution_count": null,
   "metadata": {},
   "outputs": [],
   "source": []
  }
 ],
 "metadata": {
  "kernelspec": {
   "display_name": "Python 3",
   "language": "python",
   "name": "python3"
  },
  "language_info": {
   "codemirror_mode": {
    "name": "ipython",
    "version": 3
   },
   "file_extension": ".py",
   "mimetype": "text/x-python",
   "name": "python",
   "nbconvert_exporter": "python",
   "pygments_lexer": "ipython3",
   "version": "3.11.4"
  },
  "orig_nbformat": 4
 },
 "nbformat": 4,
 "nbformat_minor": 2
}
