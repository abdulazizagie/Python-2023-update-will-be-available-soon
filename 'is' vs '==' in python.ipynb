{
 "cells": [
  {
   "cell_type": "markdown",
   "metadata": {},
   "source": [
    "### 'is' vs '==' in python\n",
    "\n",
    "in python , is and == are both comparison operators that can be used to check if two value are equal.However, there are some important difference between the two that you should be aware of.\n",
    "\n",
    "The is operator compares the identity of two object,While teh == operator compares the value of the object.This means that is will only return True if the objects being compared are that exact same object have the same value.\n",
    "\n",
    "### For Example:\n",
    "```python\n",
    "a = [1,2,3]\n",
    "b = [1,2,3]\n",
    "\n",
    "print(a == b) # True\n",
    "print(a is b) # False\n",
    "```\n",
    "In this case, a and b are two separate lists that have the same value ,so == returns True.however, a and b are not the same object in memory, so is returns False.\n",
    "\n",
    "One important thing to note is that , in python , string and integers are immutable, Which mean that once they are create ,their value cannot be changeed.This mean that,for string and integers,is and == will always return the same result:\n",
    "\n",
    "```python\n",
    "a = 'hello'\n",
    "b = 'hello'\n",
    "\n",
    "print(a == b) # True\n",
    "print(a is b) # True\n",
    "\n",
    "a = 5\n",
    "a = 5\n",
    "\n",
    "print(a == b) # True\n",
    "print(a is b) # True\n",
    "```\n",
    "In the cases , a and b are poiting to the same object in memory, so is and == both return True.\n",
    "\n",
    "For mutable ogject such as lists and dictionaries,is and == can behave differently.In general, you should use == when you want to compare the value of two objects,and use is when you want to check .if two objects are the same object in mamory.\n",
    "\n",
    "I hop this help clarify the difference between is and == in python"
   ]
  },
  {
   "cell_type": "code",
   "execution_count": null,
   "metadata": {},
   "outputs": [],
   "source": []
  }
 ],
 "metadata": {
  "language_info": {
   "name": "python"
  },
  "orig_nbformat": 4
 },
 "nbformat": 4,
 "nbformat_minor": 2
}
