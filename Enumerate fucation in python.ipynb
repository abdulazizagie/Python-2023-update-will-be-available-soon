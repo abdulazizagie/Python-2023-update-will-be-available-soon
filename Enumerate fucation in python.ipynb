{
 "cells": [
  {
   "cell_type": "markdown",
   "metadata": {},
   "source": [
    "### Enumerate funcation in python\n",
    "\n",
    "The enumerate funcation is a built-in funcation in python that allows you to loop over a sequence(such as a list, tuple,or string) and get the index and value of each element in the sequence at the same time.Here's a basic example of how it works:\n",
    "\n",
    "```python\n",
    "fruits = ['apple','banna','mango']\n",
    "for index,fruit in enumerate(fruits):\n",
    "    print(index,furit)\n",
    "```\n",
    "The output of this code will be\n",
    "0 apple\n",
    "1 banana\n",
    "2 mango\n",
    "\n",
    "As you can see, the enumerate funcation return a tuple containing the index and value of each element in the sequence.you can use the forloop to unpack these tuples and assing them to variable,as shown in the example above.\n",
    "\n",
    "### Changing the start index\n",
    "\n",
    "By default, the enumerate funcation starts the index at 0, but you can specify a different starting index by passing it as an argument to the enumerater funcation:\n",
    "\n",
    "```python\n",
    "# loop over the list and print the index (starting at 1) and value of each element\n",
    "fruits = [\"apple\",\"banana\",\"mango\"]\n",
    "for index,fruit in enumerate(fruits,start=1):\n",
    "    print(inex,fruit)\n",
    "```\n",
    "This will output\n",
    "\n",
    "1 apple\n",
    "2 banana\n",
    "3 mango\n",
    "\n",
    "In addition to list ,you can the enumerate funcation with any other sequencde type in python,such as tuples and strings,Here;s an example with a tuple:\n",
    "\n",
    "```python\n",
    "# Loop over a tuple and print the index and value of each element\n",
    "\n",
    "colors = ('red','green','blue')\n",
    "for index,color in enumerate(colors):\n",
    "    print(index,color)\n",
    "```\n",
    "\n",
    "And here's an example with a string:\n",
    "\n",
    "```python \n",
    "#   loop over a string and print the index and value of each character\n",
    "s = \"hello\"\n",
    "for index,c in enumerate(s):\n",
    "    print(index,c)\n",
    "```"
   ]
  },
  {
   "cell_type": "code",
   "execution_count": 4,
   "metadata": {},
   "outputs": [
    {
     "name": "stdout",
     "output_type": "stream",
     "text": [
      "12\n",
      "56\n",
      "32\n",
      "98\n",
      "Harry, awesome!\n",
      "12\n",
      "45\n",
      "11\n",
      "44\n",
      "33\n"
     ]
    }
   ],
   "source": [
    "marks = [12,56,32,98,12,45,11,44,33]\n",
    "\n",
    "index = 0\n",
    "for mark in marks:\n",
    "    print(mark)\n",
    "    if index ==3:\n",
    "        print(\"Harry, awesome!\")\n",
    "    index +=1"
   ]
  },
  {
   "cell_type": "code",
   "execution_count": 10,
   "metadata": {},
   "outputs": [
    {
     "name": "stdout",
     "output_type": "stream",
     "text": [
      "12\n",
      "0\n",
      "56\n",
      "1\n",
      "32\n",
      "2\n",
      "98\n",
      "3\n",
      "Harrt,awesome\n",
      "12\n",
      "4\n",
      "45\n",
      "5\n",
      "11\n",
      "6\n",
      "44\n",
      "7\n",
      "33\n",
      "8\n"
     ]
    }
   ],
   "source": [
    "for index,mark in enumerate(marks):\n",
    "    print(mark)\n",
    "    print(index)\n",
    "    if index == 3:\n",
    "        print(\"Harrt,awesome\")"
   ]
  },
  {
   "cell_type": "code",
   "execution_count": 5,
   "metadata": {},
   "outputs": [
    {
     "name": "stdout",
     "output_type": "stream",
     "text": [
      "12\n",
      "56\n",
      "32\n",
      "98\n",
      "12\n",
      "45\n",
      "11\n",
      "44\n",
      "33\n"
     ]
    }
   ],
   "source": [
    "for i in marks:\n",
    "    print(i)"
   ]
  },
  {
   "cell_type": "code",
   "execution_count": null,
   "metadata": {},
   "outputs": [],
   "source": []
  }
 ],
 "metadata": {
  "kernelspec": {
   "display_name": "Python 3",
   "language": "python",
   "name": "python3"
  },
  "language_info": {
   "codemirror_mode": {
    "name": "ipython",
    "version": 3
   },
   "file_extension": ".py",
   "mimetype": "text/x-python",
   "name": "python",
   "nbconvert_exporter": "python",
   "pygments_lexer": "ipython3",
   "version": "3.11.4"
  },
  "orig_nbformat": 4
 },
 "nbformat": 4,
 "nbformat_minor": 2
}
