{
 "cells": [
  {
   "cell_type": "markdown",
   "metadata": {},
   "source": [
    "### Snake Water Gun\n",
    "\n",
    "Snake , Water and Gun is a variation of the children's game \"rock-paper-scissors\"Where players use hand gestures to represent a snake,water, or a gun.The gun geats the water.Write a python program to create a scake water gun game  in python using if-else statment.Do not crete any fancy GUI.Use proper funcation to check for win."
   ]
  },
  {
   "cell_type": "code",
   "execution_count": 49,
   "metadata": {},
   "outputs": [
    {
     "name": "stdout",
     "output_type": "stream",
     "text": [
      "W\n",
      "Win\n"
     ]
    }
   ],
   "source": [
    "#            S W G\n",
    "# computer = 0 1 2\n",
    "# player= S 0  D W L \n",
    "        # W 1  L D W\n",
    "        # G 2  W L D\n",
    "import random as r\n",
    "\n",
    "computers =  [ ['S'],['W'],['G']]\n",
    "condation = [ ['D',  'W',  'L'],\n",
    "              ['L',  'D',  'W'],\n",
    "              ['W',  'L',  'D']]\n",
    "plaryers =[['S'],\n",
    "          ['W'],\n",
    "          ['G']]\n",
    "\n",
    "my_list= ['S','W','G']\n",
    "random_value = r.choice(my_list)\n",
    "print(random_value)\n",
    "computer = random_value\n",
    "player = input(\"Enter ther condation\")\n",
    "if computer == 'S' and player == 'S':\n",
    "        print(\"Drop\")\n",
    "elif computer == 'S' and player == 'W':\n",
    "        print(\"Lose\")\n",
    "elif computer == 'S' and player =='G':\n",
    "        print(\"Win\")\n",
    "elif computer == 'W' and player == 'S':\n",
    "        print(\"Win\")\n",
    "elif computer == 'W' and player == 'W':\n",
    "        print(\"Drop\")\n",
    "elif computer == 'W' and player =='G':\n",
    "        print(\"Lose\")\n",
    "if computer == 'G' and player == 'S':\n",
    "        print(\"Lose\")\n",
    "elif computer == 'G' and player == 'W':\n",
    "        print(\"Win\")\n",
    "elif computer == 'G' and player =='G':\n",
    "        print(\"Drop\")\n",
    "\n",
    "\n"
   ]
  }
 ],
 "metadata": {
  "kernelspec": {
   "display_name": "Python 3",
   "language": "python",
   "name": "python3"
  },
  "language_info": {
   "codemirror_mode": {
    "name": "ipython",
    "version": 3
   },
   "file_extension": ".py",
   "mimetype": "text/x-python",
   "name": "python",
   "nbconvert_exporter": "python",
   "pygments_lexer": "ipython3",
   "version": "3.11.4"
  },
  "orig_nbformat": 4
 },
 "nbformat": 4,
 "nbformat_minor": 2
}
